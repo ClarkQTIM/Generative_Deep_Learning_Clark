{
 "cells": [
  {
   "cell_type": "markdown",
   "id": "206a93a2-e9b0-4ea2-a43f-696faa83ea03",
   "metadata": {},
   "source": [
    "# 👾 PixelCNN from scratch"
   ]
  },
  {
   "cell_type": "markdown",
   "id": "1af9e216-7e84-4f5b-a2db-26aca3bea464",
   "metadata": {},
   "source": [
    "In this notebook, we'll walk through the steps required to train your own PixelCNN on the fashion MNIST dataset from scratch"
   ]
  },
  {
   "cell_type": "markdown",
   "id": "9c1e6bbc-6f3b-48ac-a4f3-fde6f739f0ca",
   "metadata": {},
   "source": [
    "The code has been adapted from the excellent [PixelCNN tutorial](https://keras.io/examples/generative/pixelcnn/) created by ADMoreau, available on the Keras website."
   ]
  },
  {
   "cell_type": "code",
   "execution_count": 1,
   "id": "6acebfa8-4546-41fd-adaa-2307c65b1b8e",
   "metadata": {},
   "outputs": [
    {
     "name": "stderr",
     "output_type": "stream",
     "text": [
      "2023-07-22 13:55:40.976593: I tensorflow/core/platform/cpu_feature_guard.cc:193] This TensorFlow binary is optimized with oneAPI Deep Neural Network Library (oneDNN) to use the following CPU instructions in performance-critical operations:  AVX2 FMA\n",
      "To enable them in other operations, rebuild TensorFlow with the appropriate compiler flags.\n",
      "2023-07-22 13:55:41.225491: W tensorflow/stream_executor/platform/default/dso_loader.cc:64] Could not load dynamic library 'libcudart.so.11.0'; dlerror: libcudart.so.11.0: cannot open shared object file: No such file or directory\n",
      "2023-07-22 13:55:41.225507: I tensorflow/stream_executor/cuda/cudart_stub.cc:29] Ignore above cudart dlerror if you do not have a GPU set up on your machine.\n",
      "2023-07-22 13:55:41.252858: E tensorflow/stream_executor/cuda/cuda_blas.cc:2981] Unable to register cuBLAS factory: Attempting to register factory for plugin cuBLAS when one has already been registered\n",
      "2023-07-22 13:55:41.898078: W tensorflow/stream_executor/platform/default/dso_loader.cc:64] Could not load dynamic library 'libnvinfer.so.7'; dlerror: libnvinfer.so.7: cannot open shared object file: No such file or directory\n",
      "2023-07-22 13:55:41.898156: W tensorflow/stream_executor/platform/default/dso_loader.cc:64] Could not load dynamic library 'libnvinfer_plugin.so.7'; dlerror: libnvinfer_plugin.so.7: cannot open shared object file: No such file or directory\n",
      "2023-07-22 13:55:41.898166: W tensorflow/compiler/tf2tensorrt/utils/py_utils.cc:38] TF-TRT Warning: Cannot dlopen some TensorRT libraries. If you would like to use Nvidia GPU with TensorRT, please make sure the missing libraries mentioned above are installed properly.\n"
     ]
    },
    {
     "name": "stdout",
     "output_type": "stream",
     "text": [
      "/home/clachris/Documents/projects/Generative_Deep_Learning_2nd_Edition/notebooks\n"
     ]
    }
   ],
   "source": [
    "%load_ext autoreload\n",
    "%autoreload 2\n",
    "import numpy as np\n",
    "\n",
    "import tensorflow as tf\n",
    "from tensorflow.keras import datasets, layers, models, optimizers, callbacks\n",
    "\n",
    "%cd /home/clachris/Documents/projects/Generative_Deep_Learning_2nd_Edition/notebooks\n",
    "\n",
    "from utils import display"
   ]
  },
  {
   "cell_type": "markdown",
   "id": "8543166d-f4c7-43f8-a452-21ccbf2a0496",
   "metadata": {},
   "source": [
    "## 0. Parameters <a name=\"parameters\"></a>"
   ]
  },
  {
   "cell_type": "code",
   "execution_count": 2,
   "id": "444d84de-2843-40d6-8e2e-93691a5393ab",
   "metadata": {},
   "outputs": [],
   "source": [
    "IMAGE_SIZE = 16\n",
    "PIXEL_LEVELS = 4\n",
    "N_FILTERS = 128\n",
    "RESIDUAL_BLOCKS = 5\n",
    "BATCH_SIZE = 128\n",
    "EPOCHS = 150"
   ]
  },
  {
   "cell_type": "markdown",
   "id": "d65dac68-d20b-4ed9-a136-eed57095ce4f",
   "metadata": {},
   "source": [
    "## 1. Prepare the data <a name=\"prepare\"></a>"
   ]
  },
  {
   "cell_type": "code",
   "execution_count": 3,
   "id": "0ed0fc56-d1b0-4d42-b029-f4198f78e666",
   "metadata": {},
   "outputs": [],
   "source": [
    "# Load the data\n",
    "(x_train, _), (_, _) = datasets.fashion_mnist.load_data()"
   ]
  },
  {
   "cell_type": "code",
   "execution_count": 4,
   "id": "b667e78c-8fa7-4e5b-a2c0-69e50166ef77",
   "metadata": {},
   "outputs": [
    {
     "name": "stdout",
     "output_type": "stream",
     "text": [
      "Unique pixel values of the input [0.   0.25 0.5  0.75]\n",
      "Unique pixel values of the output [0 1 2 3]\n"
     ]
    },
    {
     "name": "stderr",
     "output_type": "stream",
     "text": [
      "2023-07-22 13:55:43.654496: I tensorflow/stream_executor/cuda/cuda_gpu_executor.cc:980] successful NUMA node read from SysFS had negative value (-1), but there must be at least one NUMA node, so returning NUMA node zero\n",
      "2023-07-22 13:55:43.654750: W tensorflow/stream_executor/platform/default/dso_loader.cc:64] Could not load dynamic library 'libcudart.so.11.0'; dlerror: libcudart.so.11.0: cannot open shared object file: No such file or directory\n",
      "2023-07-22 13:55:43.654799: W tensorflow/stream_executor/platform/default/dso_loader.cc:64] Could not load dynamic library 'libcublas.so.11'; dlerror: libcublas.so.11: cannot open shared object file: No such file or directory\n",
      "2023-07-22 13:55:43.654834: W tensorflow/stream_executor/platform/default/dso_loader.cc:64] Could not load dynamic library 'libcublasLt.so.11'; dlerror: libcublasLt.so.11: cannot open shared object file: No such file or directory\n",
      "2023-07-22 13:55:43.654867: W tensorflow/stream_executor/platform/default/dso_loader.cc:64] Could not load dynamic library 'libcufft.so.10'; dlerror: libcufft.so.10: cannot open shared object file: No such file or directory\n",
      "2023-07-22 13:55:43.654900: W tensorflow/stream_executor/platform/default/dso_loader.cc:64] Could not load dynamic library 'libcurand.so.10'; dlerror: libcurand.so.10: cannot open shared object file: No such file or directory\n",
      "2023-07-22 13:55:43.654930: W tensorflow/stream_executor/platform/default/dso_loader.cc:64] Could not load dynamic library 'libcusolver.so.11'; dlerror: libcusolver.so.11: cannot open shared object file: No such file or directory\n",
      "2023-07-22 13:55:43.654959: W tensorflow/stream_executor/platform/default/dso_loader.cc:64] Could not load dynamic library 'libcusparse.so.11'; dlerror: libcusparse.so.11: cannot open shared object file: No such file or directory\n",
      "2023-07-22 13:55:43.655009: W tensorflow/stream_executor/platform/default/dso_loader.cc:64] Could not load dynamic library 'libcudnn.so.8'; dlerror: libcudnn.so.8: cannot open shared object file: No such file or directory\n",
      "2023-07-22 13:55:43.655023: W tensorflow/core/common_runtime/gpu/gpu_device.cc:1934] Cannot dlopen some GPU libraries. Please make sure the missing libraries mentioned above are installed properly if you would like to use GPU. Follow the guide at https://www.tensorflow.org/install/gpu for how to download and setup the required libraries for your platform.\n",
      "Skipping registering GPU devices...\n",
      "2023-07-22 13:55:43.656284: I tensorflow/core/platform/cpu_feature_guard.cc:193] This TensorFlow binary is optimized with oneAPI Deep Neural Network Library (oneDNN) to use the following CPU instructions in performance-critical operations:  AVX2 FMA\n",
      "To enable them in other operations, rebuild TensorFlow with the appropriate compiler flags.\n"
     ]
    }
   ],
   "source": [
    "# Preprocess the data\n",
    "def preprocess(imgs_int):\n",
    "    imgs_int = np.expand_dims(imgs_int, -1)\n",
    "    imgs_int = tf.image.resize(imgs_int, (IMAGE_SIZE, IMAGE_SIZE)).numpy()\n",
    "    imgs_int = (imgs_int / (256 / PIXEL_LEVELS)).astype(int) # This is converting all the pixel values to {0, 1, 2, 3}\n",
    "    imgs = imgs_int.astype(\"float32\")\n",
    "    imgs = imgs / PIXEL_LEVELS # This is converting all the images to have values in {0, 0.25, 0.5, 0.75} we we can \n",
    "    # predict a value\n",
    "    return imgs, imgs_int\n",
    "\n",
    "input_data, output_data = preprocess(x_train)\n",
    "print(f'Unique pixel values of the input', np.unique(input_data[0]))\n",
    "print(f'Unique pixel values of the output', np.unique(output_data[0]))"
   ]
  },
  {
   "cell_type": "code",
   "execution_count": 5,
   "id": "e3c2b304-8385-4931-8291-9b7cc462c95e",
   "metadata": {},
   "outputs": [
    {
     "data": {
      "image/png": "[encoded data removed]",
      "text/plain": [
       "<Figure size 2000x300 with 10 Axes>"
      ]
     },
     "metadata": {},
     "output_type": "display_data"
    }
   ],
   "source": [
    "# Show some items of clothing from the training set\n",
    "display(input_data)"
   ]
  },
  {
   "cell_type": "markdown",
   "id": "5ccd5cb2-8c7b-4667-8adb-4902f3fa60cf",
   "metadata": {},
   "source": [
    "## 2. Build the PixelCNN"
   ]
  },
  {
   "cell_type": "markdown",
   "id": "10ad5f08",
   "metadata": {},
   "source": [
    "## Mathematical Overview\n",
    "\n",
    "In the *PixelCNN*, we are taking the idea of an autoregressive model and applying it to images. Normally, there is no real sequential nature to images, but we can use a *Masked Convolutional Layer* and a *Residual Layer* to make it so. The masked convolutional layer is just a regular convolutional layer but with a mask (ones and zeros) applied on the pixel after and/including the middle one. What this means is that the convolution can only see what comes up to (and/or including) the middle pixel, and nothing after it. This looks like:\n",
    "\n",
    "<div style='text-align: center;'>\n",
    "    <img src='/home/clachris/Documents/projects/Generative_Deep_Learning_2nd_Edition/notebooks/Graphics/MaskedConv.png' alt='MaskedConv' width='500'>\n",
    "</div>\n",
    "\n",
    "A residual layer is one in which the original input $\\mathbf{x}$ is add to the output of the layer $\\mathcal{F}(\\mathbf{x})$. This looks like:\n",
    "\n",
    "<div style='text-align: center;'>\n",
    "    <img src='/home/clachris/Documents/projects/Generative_Deep_Learning_2nd_Edition/notebooks/Graphics/Residual_Layer.png' alt='Residual_Layer' width='500'>\n",
    "</div>\n",
    "\n",
    "In this implementation, our residual layer is simply a convolutional layer, then a masked convolutional layer, another convolutional layer, and then an addition layer to add the input and the output of the layer.\n",
    "\n",
    "Now, the way this works is that when the masked conv is type A, so the middle pixel is masked out with zero, then the kernel has to learn how to fill in that pixel without the pixel value itself, using only the pixels that came before it. This is used in the beginning of the model, as we want the model to guess that pixel value. When it is in mode B, it has the guessed pixel value and the ones before it and it can improve the guess. The residual layer has several uses, including helping with the vanishing gradient problem, but for us, it allows the model to learn an identity function more easily. If the input is better before passing through the layer, then without the *skip connection*, bringing it to the end of the layer, the model would have to learn the identity function in the layer. But now, it can simply make the weights in the layer small or zero, as they don't matter anymore. This is easier to learn."
   ]
  },
  {
   "cell_type": "code",
   "execution_count": 6,
   "id": "847050a5-e4e6-4134-9bfc-c690cb8cb44d",
   "metadata": {},
   "outputs": [
    {
     "data": {
      "text/plain": [
       "'\\nThis is going to create a mask that has all ones leading up to the middle cell\\n'"
      ]
     },
     "execution_count": 6,
     "metadata": {},
     "output_type": "execute_result"
    }
   ],
   "source": [
    "# The first layer is the PixelCNN layer. This layer simply\n",
    "# builds on the 2D convolutional layer, but includes masking.\n",
    "class MaskedConv2D(layers.Layer):\n",
    "    def __init__(self, mask_type, **kwargs):\n",
    "        super(MaskedConv2D, self).__init__()\n",
    "        self.mask_type = mask_type\n",
    "        self.conv = layers.Conv2D(**kwargs) # MaskedConv2D is based on the regular convolutional layer\n",
    "\n",
    "    def build(self, input_shape):\n",
    "        # Build the conv2d layer to initialize kernel variables\n",
    "        self.conv.build(input_shape)\n",
    "        # Use the initialized kernel to create the mask\n",
    "        kernel_shape = self.conv.kernel.get_shape()\n",
    "        self.mask = np.zeros(shape=kernel_shape)\n",
    "        self.mask[: kernel_shape[0] // 2, ...] = 1.0 # Every pixel in the preceeding rows are unmasked with 1\n",
    "        self.mask[kernel_shape[0] // 2, : kernel_shape[1] // 2, ...] = 1.0 # The pixels in the preceeding columns that are in the same row are unmasked with 1\n",
    "        if self.mask_type == \"B\":\n",
    "            self.mask[kernel_shape[0] // 2, kernel_shape[1] // 2, ...] = 1.0 # The central pixel is unmasked with 1. Otherwise (type A), the central pixel remains masked\n",
    "            # Note, this is happening at kernel_shape[1] // 2, whereas the line above is : kernel_shape[1] // 2, meaning it STOPS at this column. So,\n",
    "            # adding it here unmasks that cell specifically\n",
    "    def call(self, inputs):\n",
    "        self.conv.kernel.assign(self.conv.kernel * self.mask) # Mask is multilplied by filter weights to effectively render them mute\n",
    "        return self.conv(inputs)\n",
    "\n",
    "    def get_config(self):\n",
    "        cfg = super().get_config()\n",
    "        return cfg\n",
    "    \n",
    "'''\n",
    "This is going to create a mask that has all ones leading up to the middle cell\n",
    "'''"
   ]
  },
  {
   "cell_type": "code",
   "execution_count": 7,
   "id": "a52f7795-790e-47b0-b724-80be3e3c3666",
   "metadata": {},
   "outputs": [],
   "source": [
    "class ResidualBlock(layers.Layer):\n",
    "    def __init__(self, filters, **kwargs):\n",
    "        super(ResidualBlock, self).__init__(**kwargs)\n",
    "        self.conv1 = layers.Conv2D(\n",
    "            filters=filters // 2, kernel_size=1, activation=\"relu\"\n",
    "        ) # Takes then input and passes a convolution over it, reducing the feature map by 1/2\n",
    "        self.pixel_conv = MaskedConv2D(\n",
    "            mask_type=\"B\",\n",
    "            filters=filters // 2,\n",
    "            kernel_size=3,\n",
    "            activation=\"relu\",\n",
    "            padding=\"same\",\n",
    "        ) # Pixel conv layer with feature map half the input. With kernel_size=3, this only looks at five pixels, three in the row above the focus pixel,\n",
    "        # one to the left, and the focus pixel itself (note the type B)\n",
    "        self.conv2 = layers.Conv2D(\n",
    "            filters=filters, kernel_size=1, activation=\"relu\"\n",
    "        ) # Filters match in input channels\n",
    "\n",
    "    def call(self, inputs):\n",
    "        x = self.conv1(inputs)\n",
    "        x = self.pixel_conv(x)\n",
    "        x = self.conv2(x)\n",
    "        return layers.add([inputs, x]) # The output, which has the same shape (as our last conv layer had the same filters as the input channels) as the input,\n",
    "    # is added element-wise to the input to give (batch_size, H_l, W_l, input_channels)\n",
    "\n",
    "    def get_config(self):\n",
    "        cfg = super().get_config()\n",
    "        return cfg"
   ]
  },
  {
   "cell_type": "code",
   "execution_count": 8,
   "id": "19b4508f-84de-42a9-a77f-950fb493db13",
   "metadata": {},
   "outputs": [
    {
     "name": "stdout",
     "output_type": "stream",
     "text": [
      "Model: \"model\"\n",
      "_________________________________________________________________\n",
      " Layer (type)                Output Shape              Param #   \n",
      "=================================================================\n",
      " input_1 (InputLayer)        [(None, 16, 16, 1)]       0         \n",
      "                                                                 \n",
      " masked_conv2d (MaskedConv2D  (None, 16, 16, 128)      6400      \n",
      " )                                                               \n",
      "                                                                 \n",
      " residual_block (ResidualBlo  (None, 16, 16, 128)      53504     \n",
      " ck)                                                             \n",
      "                                                                 \n",
      " residual_block_1 (ResidualB  (None, 16, 16, 128)      53504     \n",
      " lock)                                                           \n",
      "                                                                 \n",
      " residual_block_2 (ResidualB  (None, 16, 16, 128)      53504     \n",
      " lock)                                                           \n",
      "                                                                 \n",
      " residual_block_3 (ResidualB  (None, 16, 16, 128)      53504     \n",
      " lock)                                                           \n",
      "                                                                 \n",
      " residual_block_4 (ResidualB  (None, 16, 16, 128)      53504     \n",
      " lock)                                                           \n",
      "                                                                 \n",
      " masked_conv2d_6 (MaskedConv  (None, 16, 16, 128)      16512     \n",
      " 2D)                                                             \n",
      "                                                                 \n",
      " masked_conv2d_7 (MaskedConv  (None, 16, 16, 128)      16512     \n",
      " 2D)                                                             \n",
      "                                                                 \n",
      " conv2d_18 (Conv2D)          (None, 16, 16, 4)         516       \n",
      "                                                                 \n",
      "=================================================================\n",
      "Total params: 307,460\n",
      "Trainable params: 307,460\n",
      "Non-trainable params: 0\n",
      "_________________________________________________________________\n"
     ]
    },
    {
     "data": {
      "text/plain": [
       "'\\nNote that an output of 4 channels as a probability vector means that when we sample, we are going to get an index between 0 and 3 (num_channels). From there,\\nrecall that the y (called output in the pixel_cnn.fit), has pixel values of only {0,1,2,3}, meaning when we select an integer, we compare it using\\nsparse categorical cross entropy to get out loss.\\n\\n, and\\nthat index will become the pixel value. We are then going to divide by 4, meaning our final generated image will have pixel values of either\\n0, 0.25, 0.5, or 0.75. \\n'"
      ]
     },
     "execution_count": 8,
     "metadata": {},
     "output_type": "execute_result"
    }
   ],
   "source": [
    "inputs = layers.Input(shape=(IMAGE_SIZE, IMAGE_SIZE, 1)) # Shape (B, 16, 16, 1)\n",
    "x = MaskedConv2D(\n",
    "    mask_type=\"A\",\n",
    "    filters=N_FILTERS, # Filters, kernel_size, activation, and padding are key words from the layers.Conv2D(**kwargs)\n",
    "    kernel_size=7, # With kernel_size=7, this only looks at 24 pixels, 21 in the three rows above the focus and 3 to the left. Note the type A means the\n",
    "    # focus is masked out\n",
    "    activation=\"relu\",\n",
    "    padding=\"same\",\n",
    ")(inputs)\n",
    "\n",
    "'''\n",
    "Note, the first layer is a masked conv of type A so at each central pixel of the kernel, the model must guess what it is, as it is masked out.\n",
    "'''\n",
    "\n",
    "for _ in range(RESIDUAL_BLOCKS):\n",
    "    x = ResidualBlock(filters=N_FILTERS)(x)\n",
    "\n",
    "for _ in range(2):\n",
    "    x = MaskedConv2D(\n",
    "        mask_type=\"B\",\n",
    "        filters=N_FILTERS,\n",
    "        kernel_size=1,\n",
    "        strides=1,\n",
    "        activation=\"relu\",\n",
    "        padding=\"valid\",\n",
    "    )(x) # These act as Dense layers for the number of channels of each pixel because of kernel_size=1 because each pixel is only being mutliplied by\n",
    "    # the kernel value (in each filter)\n",
    "\n",
    "out = layers.Conv2D(\n",
    "    filters=PIXEL_LEVELS, # filters-PIXEL_LEVELS means that we have now four channels per pixel\n",
    "    kernel_size=1,\n",
    "    strides=1,\n",
    "    activation=\"softmax\", # Note softmax means for each pixel, we get a probility across the channels\n",
    "    padding=\"valid\",\n",
    ")(x) # Final output is an image of the same height and width as the original with four channels, where the channels are a probability vector\n",
    "\n",
    "pixel_cnn = models.Model(inputs, out)\n",
    "pixel_cnn.summary()\n",
    "\n",
    "'''\n",
    "Note that an output of 4 channels as a probability vector means that when we sample, we are going to get an index between 0 and 3 (num_channels). From there,\n",
    "recall that the y (called output in the pixel_cnn.fit), has pixel values of only {0,1,2,3}, meaning when we select an integer, we compare it using\n",
    "sparse categorical cross entropy to get out loss.\n",
    "'''"
   ]
  },
  {
   "cell_type": "markdown",
   "id": "442b5ffa-67a3-4b15-a342-eb1eed5e87ac",
   "metadata": {},
   "source": [
    "## 3. Train the PixelCNN <a name=\"train\"></a>"
   ]
  },
  {
   "cell_type": "code",
   "execution_count": 9,
   "id": "7204789a-2ad3-48bf-b7e8-00d4cab10d9c",
   "metadata": {},
   "outputs": [],
   "source": [
    "adam = optimizers.Adam(learning_rate=0.0005)\n",
    "pixel_cnn.compile(optimizer=adam, loss=\"sparse_categorical_crossentropy\")"
   ]
  },
  {
   "cell_type": "code",
   "execution_count": 10,
   "id": "90c96e02",
   "metadata": {},
   "outputs": [],
   "source": [
    "tensorboard_callback = callbacks.TensorBoard(log_dir=\"./logs\")\n",
    "\n",
    "\n",
    "class ImageGenerator(callbacks.Callback):\n",
    "    def __init__(self, num_img):\n",
    "        self.num_img = num_img\n",
    "\n",
    "    def sample_from(self, probs, temperature):  # Once we have our probability vectors, this will sample from them\n",
    "        probs = probs ** (1 / temperature) # This changes the probabilities by a temperature, closer to 0 is more deterministic and 1 is more random\n",
    "        probs = probs / np.sum(probs) # The probabilities no longer sum to one, so we normalize them\n",
    "        return np.random.choice(len(probs), p=probs) # Sampling a single value from the probabilities\n",
    "\n",
    "    def generate(self, temperature):\n",
    "        generated_images = np.zeros(\n",
    "            shape=(self.num_img,) + (pixel_cnn.input_shape)[1:]\n",
    "        )\n",
    "        batch, rows, cols, channels = generated_images.shape\n",
    "\n",
    "        for row in range(rows):\n",
    "            for col in range(cols):\n",
    "                for channel in range(channels): # Iterating over the channels, which is one\n",
    "                    probs = self.model.predict(generated_images, verbose=0)[\n",
    "                        :, row, col, :\n",
    "                    ] # This will generate a batch of shape (num_images, H, W, 4)\n",
    "                    generated_images[:, row, col, channel] = [\n",
    "                        self.sample_from(x, temperature) for x in probs\n",
    "                    ] # Sampling along the channels an returning an index as the channel value (so, in {0,1,2,3})\n",
    "                    generated_images[:, row, col, channel] /= PIXEL_LEVELS # Dividing the channel value to make sense, i.e., be in {0, 0.25, 0.5, 0.75}\n",
    "\n",
    "        return generated_images\n",
    "\n",
    "    def on_epoch_end(self, epoch, logs=None):\n",
    "        if epoch % 15 == 0:\n",
    "            generated_images = self.generate(temperature=1.0)\n",
    "            display(\n",
    "                generated_images,\n",
    "                save_to=\"/home/clachris/Documents/projects/Generative_Deep_Learning_2nd_Edition/notebooks/05_autoregressive/02_pixelcnn/output/generated_img_%03d.png\" % (epoch),\n",
    "            )\n",
    "\n",
    "\n",
    "img_generator_callback = ImageGenerator(num_img=10)"
   ]
  },
  {
   "cell_type": "code",
   "execution_count": 12,
   "id": "85231056-d4a4-4897-ab91-065325a18d93",
   "metadata": {
    "tags": []
   },
   "outputs": [
    {
     "name": "stdout",
     "output_type": "stream",
     "text": [
      "Epoch 1/150\n",
      "469/469 [==============================] - ETA: 0s - loss: 0.4895\n",
      "Saved to /home/clachris/Documents/projects/Generative_Deep_Learning_2nd_Edition/notebooks/05_autoregressive/02_pixelcnn/output/generated_img_000.png\n"
     ]
    },
    {
     "data": {
      "image/png": "[encoded data removed]",
      "text/plain": [
       "<Figure size 2000x300 with 10 Axes>"
      ]
     },
     "metadata": {},
     "output_type": "display_data"
    },
    {
     "name": "stdout",
     "output_type": "stream",
     "text": [
      "469/469 [==============================] - 112s 238ms/step - loss: 0.4895\n",
      "Epoch 2/150\n",
      "469/469 [==============================] - 96s 205ms/step - loss: 0.3993\n",
      "Epoch 3/150\n",
      "469/469 [==============================] - 96s 205ms/step - loss: 0.3869\n",
      "Epoch 4/150\n",
      "469/469 [==============================] - 96s 205ms/step - loss: 0.3803\n",
      "Epoch 5/150\n",
      "469/469 [==============================] - 96s 205ms/step - loss: 0.3755\n",
      "Epoch 6/150\n",
      "469/469 [==============================] - 96s 205ms/step - loss: 0.3714\n",
      "Epoch 7/150\n",
      "469/469 [==============================] - 96s 205ms/step - loss: 0.3685\n",
      "Epoch 8/150\n",
      "469/469 [==============================] - 96s 205ms/step - loss: 0.3658\n",
      "Epoch 9/150\n",
      "469/469 [==============================] - 96s 205ms/step - loss: 0.3631\n",
      "Epoch 10/150\n",
      "469/469 [==============================] - 96s 205ms/step - loss: 0.3606\n",
      "Epoch 11/150\n",
      "469/469 [==============================] - 96s 205ms/step - loss: 0.3589\n",
      "Epoch 12/150\n",
      "469/469 [==============================] - 96s 205ms/step - loss: 0.3568\n",
      "Epoch 13/150\n",
      "469/469 [==============================] - 96s 205ms/step - loss: 0.3554\n",
      "Epoch 14/150\n",
      "469/469 [==============================] - 96s 205ms/step - loss: 0.3540\n",
      "Epoch 15/150\n",
      "469/469 [==============================] - 96s 205ms/step - loss: 0.3527\n",
      "Epoch 16/150\n",
      "469/469 [==============================] - ETA: 0s - loss: 0.3516\n",
      "Saved to /home/clachris/Documents/projects/Generative_Deep_Learning_2nd_Edition/notebooks/05_autoregressive/02_pixelcnn/output/generated_img_015.png\n"
     ]
    },
    {
     "data": {
      "image/png": "[encoded data removed]",
      "text/plain": [
       "<Figure size 2000x300 with 10 Axes>"
      ]
     },
     "metadata": {},
     "output_type": "display_data"
    },
    {
     "name": "stdout",
     "output_type": "stream",
     "text": [
      "469/469 [==============================] - 104s 222ms/step - loss: 0.3516\n",
      "Epoch 17/150\n",
      "469/469 [==============================] - 96s 205ms/step - loss: 0.3504\n",
      "Epoch 18/150\n",
      "469/469 [==============================] - 96s 205ms/step - loss: 0.3494\n",
      "Epoch 19/150\n",
      "469/469 [==============================] - 96s 205ms/step - loss: 0.3485\n",
      "Epoch 20/150\n",
      "469/469 [==============================] - 96s 205ms/step - loss: 0.3477\n",
      "Epoch 21/150\n",
      "469/469 [==============================] - 96s 205ms/step - loss: 0.3469\n",
      "Epoch 22/150\n",
      "469/469 [==============================] - 96s 205ms/step - loss: 0.3461\n",
      "Epoch 23/150\n",
      "469/469 [==============================] - 96s 205ms/step - loss: 0.3455\n",
      "Epoch 24/150\n",
      "469/469 [==============================] - 96s 205ms/step - loss: 0.3450\n",
      "Epoch 25/150\n",
      "469/469 [==============================] - 96s 205ms/step - loss: 0.3441\n",
      "Epoch 26/150\n",
      "469/469 [==============================] - 96s 205ms/step - loss: 0.3437\n",
      "Epoch 27/150\n",
      "469/469 [==============================] - 97s 206ms/step - loss: 0.3429\n",
      "Epoch 28/150\n",
      "469/469 [==============================] - 97s 207ms/step - loss: 0.3424\n",
      "Epoch 29/150\n",
      "469/469 [==============================] - 97s 207ms/step - loss: 0.3420\n",
      "Epoch 30/150\n",
      "469/469 [==============================] - 97s 207ms/step - loss: 0.3415\n",
      "Epoch 31/150\n",
      "469/469 [==============================] - ETA: 0s - loss: 0.3411\n",
      "Saved to /home/clachris/Documents/projects/Generative_Deep_Learning_2nd_Edition/notebooks/05_autoregressive/02_pixelcnn/output/generated_img_030.png\n"
     ]
    },
    {
     "data": {
      "image/png": "[encoded data removed]",
      "text/plain": [
       "<Figure size 2000x300 with 10 Axes>"
      ]
     },
     "metadata": {},
     "output_type": "display_data"
    },
    {
     "name": "stdout",
     "output_type": "stream",
     "text": [
      "469/469 [==============================] - 104s 223ms/step - loss: 0.3411\n",
      "Epoch 32/150\n",
      "469/469 [==============================] - 96s 205ms/step - loss: 0.3405\n",
      "Epoch 33/150\n",
      "469/469 [==============================] - 96s 205ms/step - loss: 0.3402\n",
      "Epoch 34/150\n",
      "469/469 [==============================] - 96s 205ms/step - loss: 0.3396\n",
      "Epoch 35/150\n",
      "469/469 [==============================] - 96s 205ms/step - loss: 0.3394\n",
      "Epoch 36/150\n",
      "469/469 [==============================] - 96s 205ms/step - loss: 0.3390\n",
      "Epoch 37/150\n",
      "469/469 [==============================] - 96s 205ms/step - loss: 0.3385\n",
      "Epoch 38/150\n",
      "469/469 [==============================] - 96s 205ms/step - loss: 0.3384\n",
      "Epoch 39/150\n",
      "469/469 [==============================] - 96s 205ms/step - loss: 0.3378\n",
      "Epoch 40/150\n",
      "469/469 [==============================] - 96s 205ms/step - loss: 0.3375\n",
      "Epoch 41/150\n",
      "469/469 [==============================] - 96s 205ms/step - loss: 0.3374\n",
      "Epoch 42/150\n",
      "469/469 [==============================] - 96s 205ms/step - loss: 0.3369\n",
      "Epoch 43/150\n",
      "469/469 [==============================] - 96s 205ms/step - loss: 0.3366\n",
      "Epoch 44/150\n",
      "469/469 [==============================] - 96s 205ms/step - loss: 0.3361\n",
      "Epoch 45/150\n",
      "469/469 [==============================] - 96s 205ms/step - loss: 0.3361\n",
      "Epoch 46/150\n",
      "469/469 [==============================] - ETA: 0s - loss: 0.3358\n",
      "Saved to /home/clachris/Documents/projects/Generative_Deep_Learning_2nd_Edition/notebooks/05_autoregressive/02_pixelcnn/output/generated_img_045.png\n"
     ]
    },
    {
     "data": {
      "image/png": "[encoded data removed]",
      "text/plain": [
       "<Figure size 2000x300 with 10 Axes>"
      ]
     },
     "metadata": {},
     "output_type": "display_data"
    },
    {
     "name": "stdout",
     "output_type": "stream",
     "text": [
      "469/469 [==============================] - 104s 222ms/step - loss: 0.3358\n",
      "Epoch 47/150\n",
      "469/469 [==============================] - 96s 205ms/step - loss: 0.3355\n",
      "Epoch 48/150\n",
      "469/469 [==============================] - 96s 205ms/step - loss: 0.3352\n",
      "Epoch 49/150\n",
      "469/469 [==============================] - 96s 204ms/step - loss: 0.3351\n",
      "Epoch 50/150\n",
      "469/469 [==============================] - 96s 204ms/step - loss: 0.3347\n",
      "Epoch 51/150\n",
      "469/469 [==============================] - 96s 204ms/step - loss: 0.3346\n",
      "Epoch 52/150\n",
      "469/469 [==============================] - 96s 205ms/step - loss: 0.3342\n",
      "Epoch 53/150\n",
      "469/469 [==============================] - 96s 204ms/step - loss: 0.3339\n",
      "Epoch 54/150\n",
      "469/469 [==============================] - 96s 205ms/step - loss: 0.3340\n",
      "Epoch 55/150\n",
      "469/469 [==============================] - 96s 205ms/step - loss: 0.3337\n",
      "Epoch 56/150\n",
      "469/469 [==============================] - 96s 205ms/step - loss: 0.3334\n",
      "Epoch 57/150\n",
      "469/469 [==============================] - 96s 205ms/step - loss: 0.3332\n",
      "Epoch 58/150\n",
      "469/469 [==============================] - 96s 205ms/step - loss: 0.3328\n",
      "Epoch 59/150\n",
      "469/469 [==============================] - 96s 205ms/step - loss: 0.3329\n",
      "Epoch 60/150\n",
      "469/469 [==============================] - 96s 204ms/step - loss: 0.3325\n",
      "Epoch 61/150\n",
      "469/469 [==============================] - ETA: 0s - loss: 0.3325\n",
      "Saved to /home/clachris/Documents/projects/Generative_Deep_Learning_2nd_Edition/notebooks/05_autoregressive/02_pixelcnn/output/generated_img_060.png\n"
     ]
    },
    {
     "data": {
      "image/png": "[encoded data removed]",
      "text/plain": [
       "<Figure size 2000x300 with 10 Axes>"
      ]
     },
     "metadata": {},
     "output_type": "display_data"
    },
    {
     "name": "stdout",
     "output_type": "stream",
     "text": [
      "469/469 [==============================] - 105s 223ms/step - loss: 0.3325\n",
      "Epoch 62/150\n",
      "469/469 [==============================] - 96s 205ms/step - loss: 0.3321\n",
      "Epoch 63/150\n",
      "469/469 [==============================] - 96s 205ms/step - loss: 0.3320\n",
      "Epoch 64/150\n",
      "469/469 [==============================] - 96s 205ms/step - loss: 0.3318\n",
      "Epoch 65/150\n",
      "469/469 [==============================] - 97s 207ms/step - loss: 0.3316\n",
      "Epoch 66/150\n",
      "469/469 [==============================] - 97s 207ms/step - loss: 0.3317\n",
      "Epoch 67/150\n",
      "469/469 [==============================] - 97s 207ms/step - loss: 0.3312\n",
      "Epoch 68/150\n",
      "469/469 [==============================] - 96s 205ms/step - loss: 0.3312\n",
      "Epoch 69/150\n",
      "469/469 [==============================] - 96s 205ms/step - loss: 0.3309\n",
      "Epoch 70/150\n",
      "469/469 [==============================] - 96s 205ms/step - loss: 0.3307\n",
      "Epoch 71/150\n",
      "469/469 [==============================] - 96s 205ms/step - loss: 0.3307\n",
      "Epoch 72/150\n",
      "469/469 [==============================] - 96s 205ms/step - loss: 0.3305\n",
      "Epoch 73/150\n",
      "469/469 [==============================] - 96s 205ms/step - loss: 0.3303\n",
      "Epoch 74/150\n",
      "469/469 [==============================] - 96s 205ms/step - loss: 0.3303\n",
      "Epoch 75/150\n",
      "469/469 [==============================] - 96s 205ms/step - loss: 0.3300\n",
      "Epoch 76/150\n",
      "469/469 [==============================] - ETA: 0s - loss: 0.3300\n",
      "Saved to /home/clachris/Documents/projects/Generative_Deep_Learning_2nd_Edition/notebooks/05_autoregressive/02_pixelcnn/output/generated_img_075.png\n"
     ]
    },
    {
     "data": {
      "image/png": "[encoded data removed]",
      "text/plain": [
       "<Figure size 2000x300 with 10 Axes>"
      ]
     },
     "metadata": {},
     "output_type": "display_data"
    },
    {
     "name": "stdout",
     "output_type": "stream",
     "text": [
      "469/469 [==============================] - 104s 222ms/step - loss: 0.3300\n",
      "Epoch 77/150\n",
      "469/469 [==============================] - 96s 205ms/step - loss: 0.3298\n",
      "Epoch 78/150\n",
      "469/469 [==============================] - 96s 205ms/step - loss: 0.3295\n",
      "Epoch 79/150\n",
      "469/469 [==============================] - 96s 205ms/step - loss: 0.3294\n",
      "Epoch 80/150\n",
      "469/469 [==============================] - 96s 205ms/step - loss: 0.3295\n",
      "Epoch 81/150\n",
      "469/469 [==============================] - 96s 205ms/step - loss: 0.3292\n",
      "Epoch 82/150\n",
      "469/469 [==============================] - 96s 205ms/step - loss: 0.3291\n",
      "Epoch 83/150\n",
      "469/469 [==============================] - 96s 205ms/step - loss: 0.3290\n",
      "Epoch 84/150\n",
      "469/469 [==============================] - 96s 205ms/step - loss: 0.3288\n",
      "Epoch 85/150\n",
      "469/469 [==============================] - 96s 205ms/step - loss: 0.3287\n",
      "Epoch 86/150\n",
      "469/469 [==============================] - 96s 205ms/step - loss: 0.3287\n",
      "Epoch 87/150\n",
      "469/469 [==============================] - 96s 205ms/step - loss: 0.3286\n",
      "Epoch 88/150\n",
      "469/469 [==============================] - 96s 205ms/step - loss: 0.3283\n",
      "Epoch 89/150\n",
      "469/469 [==============================] - 96s 205ms/step - loss: 0.3281\n",
      "Epoch 90/150\n",
      "469/469 [==============================] - 96s 205ms/step - loss: 0.3281\n",
      "Epoch 91/150\n",
      "469/469 [==============================] - ETA: 0s - loss: 0.3279\n",
      "Saved to /home/clachris/Documents/projects/Generative_Deep_Learning_2nd_Edition/notebooks/05_autoregressive/02_pixelcnn/output/generated_img_090.png\n"
     ]
    },
    {
     "data": {
      "image/png": "[encoded data removed]",
      "text/plain": [
       "<Figure size 2000x300 with 10 Axes>"
      ]
     },
     "metadata": {},
     "output_type": "display_data"
    },
    {
     "name": "stdout",
     "output_type": "stream",
     "text": [
      "469/469 [==============================] - 105s 223ms/step - loss: 0.3279\n",
      "Epoch 92/150\n",
      "469/469 [==============================] - 96s 205ms/step - loss: 0.3279\n",
      "Epoch 93/150\n",
      "469/469 [==============================] - 96s 205ms/step - loss: 0.3278\n",
      "Epoch 94/150\n",
      "469/469 [==============================] - 96s 205ms/step - loss: 0.3278\n",
      "Epoch 95/150\n",
      "469/469 [==============================] - 96s 206ms/step - loss: 0.3274\n",
      "Epoch 96/150\n",
      "469/469 [==============================] - 96s 206ms/step - loss: 0.3275\n",
      "Epoch 97/150\n",
      "469/469 [==============================] - 96s 206ms/step - loss: 0.3274\n",
      "Epoch 98/150\n",
      "469/469 [==============================] - 96s 206ms/step - loss: 0.3273\n",
      "Epoch 99/150\n",
      "469/469 [==============================] - 96s 205ms/step - loss: 0.3271\n",
      "Epoch 100/150\n",
      "469/469 [==============================] - 96s 205ms/step - loss: 0.3271\n",
      "Epoch 101/150\n",
      "469/469 [==============================] - 96s 205ms/step - loss: 0.3271\n",
      "Epoch 102/150\n",
      "469/469 [==============================] - 97s 208ms/step - loss: 0.3269\n",
      "Epoch 103/150\n",
      "469/469 [==============================] - 97s 207ms/step - loss: 0.3268\n",
      "Epoch 104/150\n",
      "469/469 [==============================] - 97s 207ms/step - loss: 0.3266\n",
      "Epoch 105/150\n",
      "469/469 [==============================] - 97s 206ms/step - loss: 0.3267\n",
      "Epoch 106/150\n",
      "469/469 [==============================] - ETA: 0s - loss: 0.3265\n",
      "Saved to /home/clachris/Documents/projects/Generative_Deep_Learning_2nd_Edition/notebooks/05_autoregressive/02_pixelcnn/output/generated_img_105.png\n"
     ]
    },
    {
     "data": {
      "image/png": "[encoded data removed]",
      "text/plain": [
       "<Figure size 2000x300 with 10 Axes>"
      ]
     },
     "metadata": {},
     "output_type": "display_data"
    },
    {
     "name": "stdout",
     "output_type": "stream",
     "text": [
      "469/469 [==============================] - 104s 222ms/step - loss: 0.3265\n",
      "Epoch 107/150\n",
      "469/469 [==============================] - 96s 205ms/step - loss: 0.3263\n",
      "Epoch 108/150\n",
      "469/469 [==============================] - 96s 206ms/step - loss: 0.3261\n",
      "Epoch 109/150\n",
      "469/469 [==============================] - 96s 205ms/step - loss: 0.3263\n",
      "Epoch 110/150\n",
      "469/469 [==============================] - 96s 205ms/step - loss: 0.3261\n",
      "Epoch 111/150\n",
      "469/469 [==============================] - 96s 205ms/step - loss: 0.3260\n",
      "Epoch 112/150\n",
      "469/469 [==============================] - 96s 205ms/step - loss: 0.3259\n",
      "Epoch 113/150\n",
      "469/469 [==============================] - 96s 205ms/step - loss: 0.3259\n",
      "Epoch 114/150\n",
      "469/469 [==============================] - 96s 205ms/step - loss: 0.3257\n",
      "Epoch 115/150\n",
      "469/469 [==============================] - 96s 206ms/step - loss: 0.3256\n",
      "Epoch 116/150\n",
      "469/469 [==============================] - 96s 205ms/step - loss: 0.3256\n",
      "Epoch 117/150\n",
      "469/469 [==============================] - 96s 205ms/step - loss: 0.3253\n",
      "Epoch 118/150\n",
      "469/469 [==============================] - 96s 205ms/step - loss: 0.3255\n",
      "Epoch 119/150\n",
      "469/469 [==============================] - 96s 205ms/step - loss: 0.3253\n",
      "Epoch 120/150\n",
      "469/469 [==============================] - 96s 205ms/step - loss: 0.3253\n",
      "Epoch 121/150\n",
      "469/469 [==============================] - ETA: 0s - loss: 0.3250\n",
      "Saved to /home/clachris/Documents/projects/Generative_Deep_Learning_2nd_Edition/notebooks/05_autoregressive/02_pixelcnn/output/generated_img_120.png\n"
     ]
    },
    {
     "data": {
      "image/png": "[encoded data removed]",
      "text/plain": [
       "<Figure size 2000x300 with 10 Axes>"
      ]
     },
     "metadata": {},
     "output_type": "display_data"
    },
    {
     "name": "stdout",
     "output_type": "stream",
     "text": [
      "469/469 [==============================] - 105s 223ms/step - loss: 0.3250\n",
      "Epoch 122/150\n",
      "469/469 [==============================] - 96s 205ms/step - loss: 0.3252\n",
      "Epoch 123/150\n",
      "469/469 [==============================] - 96s 205ms/step - loss: 0.3249\n",
      "Epoch 124/150\n",
      "469/469 [==============================] - 96s 205ms/step - loss: 0.3250\n",
      "Epoch 125/150\n",
      "469/469 [==============================] - 96s 205ms/step - loss: 0.3247\n",
      "Epoch 126/150\n",
      "469/469 [==============================] - 96s 205ms/step - loss: 0.3249\n",
      "Epoch 127/150\n",
      "469/469 [==============================] - 96s 205ms/step - loss: 0.3247\n",
      "Epoch 128/150\n",
      "469/469 [==============================] - 96s 206ms/step - loss: 0.3246\n",
      "Epoch 129/150\n",
      "469/469 [==============================] - 96s 206ms/step - loss: 0.3244\n",
      "Epoch 130/150\n",
      "469/469 [==============================] - 96s 205ms/step - loss: 0.3245\n",
      "Epoch 131/150\n",
      "469/469 [==============================] - 97s 206ms/step - loss: 0.3244\n",
      "Epoch 132/150\n",
      "469/469 [==============================] - 97s 206ms/step - loss: 0.3244\n",
      "Epoch 133/150\n",
      "469/469 [==============================] - 96s 206ms/step - loss: 0.3242\n",
      "Epoch 134/150\n",
      "469/469 [==============================] - 96s 205ms/step - loss: 0.3241\n",
      "Epoch 135/150\n",
      "469/469 [==============================] - 96s 206ms/step - loss: 0.3242\n",
      "Epoch 136/150\n",
      "469/469 [==============================] - ETA: 0s - loss: 0.3240\n",
      "Saved to /home/clachris/Documents/projects/Generative_Deep_Learning_2nd_Edition/notebooks/05_autoregressive/02_pixelcnn/output/generated_img_135.png\n"
     ]
    },
    {
     "data": {
      "image/png": "[encoded data removed]",
      "text/plain": [
       "<Figure size 2000x300 with 10 Axes>"
      ]
     },
     "metadata": {},
     "output_type": "display_data"
    },
    {
     "name": "stdout",
     "output_type": "stream",
     "text": [
      "469/469 [==============================] - 105s 224ms/step - loss: 0.3240\n",
      "Epoch 137/150\n",
      "469/469 [==============================] - 97s 206ms/step - loss: 0.3239\n",
      "Epoch 138/150\n",
      "469/469 [==============================] - 96s 205ms/step - loss: 0.3239\n",
      "Epoch 139/150\n",
      "469/469 [==============================] - 97s 208ms/step - loss: 0.3238\n",
      "Epoch 140/150\n",
      "469/469 [==============================] - 98s 208ms/step - loss: 0.3238\n",
      "Epoch 141/150\n",
      "469/469 [==============================] - 98s 208ms/step - loss: 0.3238\n",
      "Epoch 142/150\n",
      "469/469 [==============================] - 97s 207ms/step - loss: 0.3237\n",
      "Epoch 143/150\n",
      "469/469 [==============================] - 97s 206ms/step - loss: 0.3237\n",
      "Epoch 144/150\n",
      "469/469 [==============================] - 96s 206ms/step - loss: 0.3235\n",
      "Epoch 145/150\n",
      "469/469 [==============================] - 97s 206ms/step - loss: 0.3235\n",
      "Epoch 146/150\n",
      "469/469 [==============================] - 96s 206ms/step - loss: 0.3233\n",
      "Epoch 147/150\n",
      "469/469 [==============================] - 97s 206ms/step - loss: 0.3234\n",
      "Epoch 148/150\n",
      "469/469 [==============================] - 97s 206ms/step - loss: 0.3234\n",
      "Epoch 149/150\n",
      "469/469 [==============================] - 96s 205ms/step - loss: 0.3232\n",
      "Epoch 150/150\n",
      "469/469 [==============================] - 96s 205ms/step - loss: 0.3231\n"
     ]
    },
    {
     "data": {
      "text/plain": [
       "<keras.callbacks.History at 0x7f0e845d6200>"
      ]
     },
     "execution_count": 12,
     "metadata": {},
     "output_type": "execute_result"
    }
   ],
   "source": [
    "pixel_cnn.fit(\n",
    "    input_data,\n",
    "    output_data,\n",
    "    batch_size=BATCH_SIZE,\n",
    "    epochs=EPOCHS,\n",
    "    callbacks=[tensorboard_callback, img_generator_callback],\n",
    ")"
   ]
  },
  {
   "cell_type": "markdown",
   "id": "cfb4fa72-dd2d-44c1-ad18-9c965060683e",
   "metadata": {},
   "source": [
    "## 4. Generate images <a name=\"generate\"></a>"
   ]
  },
  {
   "cell_type": "code",
   "execution_count": 13,
   "id": "7bbd4643-be09-49ba-b7bc-a524a2f00806",
   "metadata": {},
   "outputs": [],
   "source": [
    "generated_images = img_generator_callback.generate(temperature=1.0)"
   ]
  },
  {
   "cell_type": "code",
   "execution_count": 14,
   "id": "52cadb4b-ae2c-42a9-92ac-68e2131380ef",
   "metadata": {},
   "outputs": [
    {
     "data": {
      "image/png": "[encoded data removed]",
      "text/plain": [
       "<Figure size 2000x300 with 10 Axes>"
      ]
     },
     "metadata": {},
     "output_type": "display_data"
    }
   ],
   "source": [
    "display(generated_images)"
   ]
  }
 ],
 "metadata": {
  "kernelspec": {
   "display_name": "Python 3 (ipykernel)",
   "language": "python",
   "name": "python3"
  },
  "language_info": {
   "codemirror_mode": {
    "name": "ipython",
    "version": 3
   },
   "file_extension": ".py",
   "mimetype": "text/x-python",
   "name": "python",
   "nbconvert_exporter": "python",
   "pygments_lexer": "ipython3",
   "version": "3.10.6"
  }
 },
 "nbformat": 4,
 "nbformat_minor": 5
}
