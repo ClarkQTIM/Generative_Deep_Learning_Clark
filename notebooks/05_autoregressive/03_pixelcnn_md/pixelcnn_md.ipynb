{
 "cells": [
  {
   "cell_type": "markdown",
   "id": "b076bd1a-b236-4fbc-953d-8295b25122ae",
   "metadata": {},
   "source": [
    "# 👾 PixelCNN using Tensorflow distributions"
   ]
  },
  {
   "cell_type": "markdown",
   "id": "9235cbd1-f136-411c-88d9-f69f270c0b96",
   "metadata": {},
   "source": [
    "In this notebook, we'll walk through the steps required to train your own PixelCNN on the fashion MNIST dataset using Tensorflow distributions"
   ]
  },
  {
   "cell_type": "code",
   "execution_count": 1,
   "id": "84acc7be-6764-4668-b2bb-178f63deeed3",
   "metadata": {},
   "outputs": [
    {
     "name": "stderr",
     "output_type": "stream",
     "text": [
      "2023-07-24 18:46:05.906121: I tensorflow/tsl/cuda/cudart_stub.cc:28] Could not find cuda drivers on your machine, GPU will not be used.\n",
      "2023-07-24 18:46:05.933226: I tensorflow/tsl/cuda/cudart_stub.cc:28] Could not find cuda drivers on your machine, GPU will not be used.\n",
      "2023-07-24 18:46:05.933956: I tensorflow/core/platform/cpu_feature_guard.cc:182] This TensorFlow binary is optimized to use available CPU instructions in performance-critical operations.\n",
      "To enable the following instructions: AVX2 FMA, in other operations, rebuild TensorFlow with the appropriate compiler flags.\n",
      "2023-07-24 18:46:06.465657: W tensorflow/compiler/tf2tensorrt/utils/py_utils.cc:38] TF-TRT Warning: Could not find TensorRT\n"
     ]
    },
    {
     "name": "stdout",
     "output_type": "stream",
     "text": [
      "/home/clachris/Documents/projects/Generative_Deep_Learning_2nd_Edition/notebooks\n"
     ]
    }
   ],
   "source": [
    "%load_ext autoreload\n",
    "%autoreload 2\n",
    "import numpy as np\n",
    "\n",
    "import tensorflow as tf\n",
    "from tensorflow.keras import datasets, layers, models, optimizers, callbacks\n",
    "import tensorflow_probability as tfp\n",
    "\n",
    "%cd /home/clachris/Documents/projects/Generative_Deep_Learning_2nd_Edition/notebooks\n",
    "\n",
    "from utils import display"
   ]
  },
  {
   "cell_type": "markdown",
   "id": "339e6268-ebd7-4feb-86db-1fe7abccdbe5",
   "metadata": {},
   "source": [
    "## 0. Parameters <a name=\"parameters\"></a>"
   ]
  },
  {
   "cell_type": "code",
   "execution_count": 2,
   "id": "1b2ee6ce-129f-4833-b0c5-fa567381c4e0",
   "metadata": {},
   "outputs": [],
   "source": [
    "IMAGE_SIZE = 32\n",
    "N_COMPONENTS = 5\n",
    "EPOCHS = 10\n",
    "BATCH_SIZE = 128"
   ]
  },
  {
   "cell_type": "markdown",
   "id": "b7716fac-0010-49b0-b98e-53be2259edde",
   "metadata": {},
   "source": [
    "## 1. Prepare the data <a name=\"prepare\"></a>"
   ]
  },
  {
   "cell_type": "code",
   "execution_count": 3,
   "id": "9a73e5a4-1638-411c-8d3c-29f823424458",
   "metadata": {},
   "outputs": [],
   "source": [
    "# Load the data\n",
    "(x_train, _), (_, _) = datasets.fashion_mnist.load_data()"
   ]
  },
  {
   "cell_type": "code",
   "execution_count": 4,
   "id": "ebae2f0d-59fd-4796-841f-7213eae638de",
   "metadata": {},
   "outputs": [
    {
     "name": "stderr",
     "output_type": "stream",
     "text": [
      "2023-07-24 18:46:07.828422: I tensorflow/compiler/xla/stream_executor/cuda/cuda_gpu_executor.cc:996] successful NUMA node read from SysFS had negative value (-1), but there must be at least one NUMA node, so returning NUMA node zero. See more at https://github.com/torvalds/linux/blob/v6.0/Documentation/ABI/testing/sysfs-bus-pci#L344-L355\n",
      "2023-07-24 18:46:07.828846: W tensorflow/core/common_runtime/gpu/gpu_device.cc:1956] Cannot dlopen some GPU libraries. Please make sure the missing libraries mentioned above are installed properly if you would like to use GPU. Follow the guide at https://www.tensorflow.org/install/gpu for how to download and setup the required libraries for your platform.\n",
      "Skipping registering GPU devices...\n",
      "2023-07-24 18:46:07.843227: W tensorflow/tsl/framework/cpu_allocator_impl.cc:83] Allocation of 245760000 exceeds 10% of free system memory.\n"
     ]
    }
   ],
   "source": [
    "# Preprocess the data\n",
    "\n",
    "\n",
    "def preprocess(imgs):\n",
    "    imgs = np.expand_dims(imgs, -1)\n",
    "    imgs = tf.image.resize(imgs, (IMAGE_SIZE, IMAGE_SIZE)).numpy()\n",
    "    return imgs\n",
    "\n",
    "\n",
    "input_data = preprocess(x_train)"
   ]
  },
  {
   "cell_type": "code",
   "execution_count": 5,
   "id": "fa53709f-7f3f-483b-9db8-2e5f9b9942c2",
   "metadata": {},
   "outputs": [
    {
     "data": {
      "image/png": "[encoded data removed]",
      "text/plain": [
       "<Figure size 2000x300 with 10 Axes>"
      ]
     },
     "metadata": {},
     "output_type": "display_data"
    }
   ],
   "source": [
    "# Show some items of clothing from the training set\n",
    "display(input_data)"
   ]
  },
  {
   "cell_type": "markdown",
   "id": "aff50401-3abe-4c10-bba8-b35bc13ad7d5",
   "metadata": {
    "tags": []
   },
   "source": [
    "## 2. Build the PixelCNN <a name=\"build\"></a>"
   ]
  },
  {
   "cell_type": "markdown",
   "id": "79d6abe8",
   "metadata": {},
   "source": [
    "In this notebook, we are going to use the premade PixelCNN from TensorFlow and use the TensorFlow Probability $\\texttt{distributions}$ function to create a *mixture distribution*, wherein we are going to sample from a categorical distribution to choose our logistic distribution and then sample from our logistic distribution. A mixture distribution might look like:\n",
    "\n",
    "<div style='text-align: center;'>\n",
    "    <img src='/home/clachris/Documents/projects/Generative_Deep_Learning_2nd_Edition/notebooks/Graphics/LogisticPDF.png' alt='LogisticPDF' width='500'>\n",
    "</div>\n",
    "\n",
    "This has a pdf of:\n",
    "\n",
    "$$ f(x; \\mu, s) = \\frac{1}{4}sech^2 \\left( \\frac{x-\\mu}{2s} \\right) $$ \n",
    "\n",
    "So, we will leave our image as a grayscale where each pixel value is in $[0,1]$, and then calculate the *Log Likelihood*, or the log of the likelihood, as our loss function. This means:\n",
    "\n",
    "$$\\mathcal{L} = l(\\theta, \\mathbf{x})=\\ln (L(\\theta, \\mathbf{x})) = \\ln (f_{\\theta}(\\mathbf{x})\n",
    ")$$"
   ]
  },
  {
   "cell_type": "code",
   "execution_count": 7,
   "id": "71a2a4a1-690e-4c94-b323-86f0e5b691d5",
   "metadata": {},
   "outputs": [
    {
     "name": "stderr",
     "output_type": "stream",
     "text": [
      "2023-07-24 18:55:29.060083: I tensorflow/core/common_runtime/executor.cc:1197] [/device:CPU:0] (DEBUG INFO) Executor start aborting (this does not indicate an error and you can ignore this message): INVALID_ARGUMENT: You must feed a value for placeholder tensor 'Placeholder' with dtype float and shape [?,32,32,64]\n",
      "\t [[{{node Placeholder}}]]\n",
      "2023-07-24 18:55:29.361621: I tensorflow/core/common_runtime/executor.cc:1197] [/device:CPU:0] (DEBUG INFO) Executor start aborting (this does not indicate an error and you can ignore this message): INVALID_ARGUMENT: You must feed a value for placeholder tensor 'Placeholder' with dtype float and shape [?,16,16,64]\n",
      "\t [[{{node Placeholder}}]]\n",
      "2023-07-24 18:55:29.495529: I tensorflow/core/common_runtime/executor.cc:1197] [/device:CPU:0] (DEBUG INFO) Executor start aborting (this does not indicate an error and you can ignore this message): INVALID_ARGUMENT: You must feed a value for placeholder tensor 'Placeholder' with dtype float and shape [?,16,16,64]\n",
      "\t [[{{node Placeholder}}]]\n",
      "2023-07-24 18:55:29.622178: I tensorflow/core/common_runtime/executor.cc:1197] [/device:CPU:0] (DEBUG INFO) Executor start aborting (this does not indicate an error and you can ignore this message): INVALID_ARGUMENT: You must feed a value for placeholder tensor 'Placeholder' with dtype float and shape [?,16,16,128]\n",
      "\t [[{{node Placeholder}}]]\n",
      "2023-07-24 18:55:29.711456: I tensorflow/core/common_runtime/executor.cc:1197] [/device:CPU:0] (DEBUG INFO) Executor start aborting (this does not indicate an error and you can ignore this message): INVALID_ARGUMENT: You must feed a value for placeholder tensor 'Placeholder' with dtype float and shape [?,16,16,32]\n",
      "\t [[{{node Placeholder}}]]\n",
      "2023-07-24 18:55:29.755090: I tensorflow/core/common_runtime/executor.cc:1197] [/device:CPU:0] (DEBUG INFO) Executor start aborting (this does not indicate an error and you can ignore this message): INVALID_ARGUMENT: You must feed a value for placeholder tensor 'Placeholder' with dtype float and shape [?,16,16,32]\n",
      "\t [[{{node Placeholder}}]]\n",
      "2023-07-24 18:55:29.847638: I tensorflow/core/common_runtime/executor.cc:1197] [/device:CPU:0] (DEBUG INFO) Executor start aborting (this does not indicate an error and you can ignore this message): INVALID_ARGUMENT: You must feed a value for placeholder tensor 'Placeholder' with dtype float and shape [?,32,32,64]\n",
      "\t [[{{node Placeholder}}]]\n",
      "2023-07-24 18:55:29.977670: I tensorflow/core/common_runtime/executor.cc:1197] [/device:CPU:0] (DEBUG INFO) Executor start aborting (this does not indicate an error and you can ignore this message): INVALID_ARGUMENT: You must feed a value for placeholder tensor 'Placeholder' with dtype float and shape [?,32,32,128]\n",
      "\t [[{{node Placeholder}}]]\n",
      "2023-07-24 18:55:30.116955: I tensorflow/core/common_runtime/executor.cc:1197] [/device:CPU:0] (DEBUG INFO) Executor start aborting (this does not indicate an error and you can ignore this message): INVALID_ARGUMENT: You must feed a value for placeholder tensor 'Placeholder' with dtype float and shape [?,32,32,64]\n",
      "\t [[{{node Placeholder}}]]\n",
      "2023-07-24 18:55:30.256407: I tensorflow/core/common_runtime/executor.cc:1197] [/device:CPU:0] (DEBUG INFO) Executor start aborting (this does not indicate an error and you can ignore this message): INVALID_ARGUMENT: You must feed a value for placeholder tensor 'Placeholder' with dtype float and shape [?,32,32,128]\n",
      "\t [[{{node Placeholder}}]]\n",
      "2023-07-24 18:55:30.362208: I tensorflow/core/common_runtime/executor.cc:1197] [/device:CPU:0] (DEBUG INFO) Executor start aborting (this does not indicate an error and you can ignore this message): INVALID_ARGUMENT: You must feed a value for placeholder tensor 'Placeholder' with dtype float and shape [?,32,32,32]\n",
      "\t [[{{node Placeholder}}]]\n"
     ]
    }
   ],
   "source": [
    "# Define a Pixel CNN network\n",
    "dist = tfp.distributions.PixelCNN(\n",
    "    image_shape=(IMAGE_SIZE, IMAGE_SIZE, 1),\n",
    "    num_resnet=1,\n",
    "    num_hierarchies=2, # int, the number of hightest-level blocks (separated by expansions/contractions of dimensions in Figure 2 of [1].)\n",
    "    num_filters=32, # int, the number of convolutional filters.\n",
    "    num_logistic_mix=N_COMPONENTS, # int, number of components in the logistic mixture distribution.\n",
    "    dropout_p=0.3,\n",
    ")\n",
    "\n",
    "# Define the model input\n",
    "image_input = layers.Input(shape=(IMAGE_SIZE, IMAGE_SIZE, 1))\n",
    "\n",
    "# Define the log likelihood for the loss fn\n",
    "log_prob = dist.log_prob(image_input)\n",
    "\n",
    "# Define the model\n",
    "pixelcnn = models.Model(inputs=image_input, outputs=log_prob)\n",
    "pixelcnn.add_loss(-tf.reduce_mean(log_prob))"
   ]
  },
  {
   "cell_type": "markdown",
   "id": "35b14665-4359-447b-be58-3fd58ba69084",
   "metadata": {},
   "source": [
    "## 3. Train the PixelCNN <a name=\"train\"></a>"
   ]
  },
  {
   "cell_type": "code",
   "execution_count": 8,
   "id": "d9ec362d-41fa-473a-ad56-ebeec6cfd3b8",
   "metadata": {},
   "outputs": [],
   "source": [
    "# Compile and train the model\n",
    "pixelcnn.compile(\n",
    "    optimizer=optimizers.Adam(0.001),\n",
    ")"
   ]
  },
  {
   "cell_type": "code",
   "execution_count": 11,
   "id": "c525e44b-b3bb-489c-9d35-fcfe3e714e6a",
   "metadata": {},
   "outputs": [],
   "source": [
    "tensorboard_callback = callbacks.TensorBoard(log_dir=\"./logs\")\n",
    "\n",
    "\n",
    "class ImageGenerator(callbacks.Callback):\n",
    "    def __init__(self, num_img):\n",
    "        self.num_img = num_img\n",
    "\n",
    "    def generate(self):\n",
    "        return dist.sample(self.num_img).numpy()\n",
    "\n",
    "    def on_epoch_end(self, epoch, logs=None):\n",
    "        if epoch % 2:\n",
    "            generated_images = self.generate()\n",
    "            display(\n",
    "                generated_images,\n",
    "                n=self.num_img,\n",
    "                save_to=\"/home/clachris/Documents/projects/Generative_Deep_Learning_2nd_Edition/notebooks/05_autoregressive/03_pixelcnn_md/output/generated_img_%03d.png\" % (epoch),\n",
    "            )\n",
    "\n",
    "\n",
    "img_generator_callback = ImageGenerator(num_img=2)"
   ]
  },
  {
   "cell_type": "code",
   "execution_count": 12,
   "id": "bd6a5a71-eb55-4ec0-9c8c-cb11a382ff90",
   "metadata": {
    "tags": []
   },
   "outputs": [
    {
     "name": "stdout",
     "output_type": "stream",
     "text": [
      "WARNING:tensorflow:Model failed to serialize as JSON. Ignoring... \n",
      "Layer _PixelCNNNetwork was created by passing\n",
      "non-serializable argument values in `__init__()`,\n",
      "and therefore the layer must override `get_config()` in\n",
      "order to be serializable. Please implement `get_config()`.\n",
      "\n",
      "Example:\n",
      "\n",
      "class CustomLayer(keras.layers.Layer):\n",
      "    def __init__(self, arg1, arg2, **kwargs):\n",
      "        super().__init__(**kwargs)\n",
      "        self.arg1 = arg1\n",
      "        self.arg2 = arg2\n",
      "\n",
      "    def get_config(self):\n",
      "        config = super().get_config()\n",
      "        config.update({\n",
      "            \"arg1\": self.arg1,\n",
      "            \"arg2\": self.arg2,\n",
      "        })\n",
      "        return config\n",
      "Epoch 1/10\n"
     ]
    },
    {
     "name": "stderr",
     "output_type": "stream",
     "text": [
      "2023-07-24 21:12:18.234587: W tensorflow/tsl/framework/cpu_allocator_impl.cc:83] Allocation of 245760000 exceeds 10% of free system memory.\n"
     ]
    },
    {
     "name": "stdout",
     "output_type": "stream",
     "text": [
      "469/469 [==============================] - 692s 1s/step - loss: 1971.6146\n",
      "Epoch 2/10\n",
      "469/469 [==============================] - ETA: 0s - loss: 1921.8024\n",
      "Saved to /home/clachris/Documents/projects/Generative_Deep_Learning_2nd_Edition/notebooks/05_autoregressive/03_pixelcnn_md/output/generated_img_001.png\n"
     ]
    },
    {
     "data": {
      "image/png": "[encoded data removed]",
      "text/plain": [
       "<Figure size 2000x300 with 2 Axes>"
      ]
     },
     "metadata": {},
     "output_type": "display_data"
    },
    {
     "name": "stdout",
     "output_type": "stream",
     "text": [
      "469/469 [==============================] - 741s 2s/step - loss: 1921.8024\n",
      "Epoch 3/10\n",
      "469/469 [==============================] - 689s 1s/step - loss: 1881.2306\n",
      "Epoch 4/10\n",
      "469/469 [==============================] - ETA: 0s - loss: 1852.6085\n",
      "Saved to /home/clachris/Documents/projects/Generative_Deep_Learning_2nd_Edition/notebooks/05_autoregressive/03_pixelcnn_md/output/generated_img_003.png\n"
     ]
    },
    {
     "data": {
      "image/png": "[encoded data removed]",
      "text/plain": [
       "<Figure size 2000x300 with 2 Axes>"
      ]
     },
     "metadata": {},
     "output_type": "display_data"
    },
    {
     "name": "stdout",
     "output_type": "stream",
     "text": [
      "469/469 [==============================] - 742s 2s/step - loss: 1852.6085\n",
      "Epoch 5/10\n",
      "469/469 [==============================] - 691s 1s/step - loss: 1827.7561\n",
      "Epoch 6/10\n",
      "469/469 [==============================] - ETA: 0s - loss: 1810.9113\n",
      "Saved to /home/clachris/Documents/projects/Generative_Deep_Learning_2nd_Edition/notebooks/05_autoregressive/03_pixelcnn_md/output/generated_img_005.png\n"
     ]
    },
    {
     "data": {
      "image/png": "[encoded data removed]",
      "text/plain": [
       "<Figure size 2000x300 with 2 Axes>"
      ]
     },
     "metadata": {},
     "output_type": "display_data"
    },
    {
     "name": "stdout",
     "output_type": "stream",
     "text": [
      "469/469 [==============================] - 742s 2s/step - loss: 1810.9113\n",
      "Epoch 7/10\n",
      "469/469 [==============================] - 690s 1s/step - loss: 1796.3584\n",
      "Epoch 8/10\n",
      "469/469 [==============================] - ETA: 0s - loss: 1779.1859\n",
      "Saved to /home/clachris/Documents/projects/Generative_Deep_Learning_2nd_Edition/notebooks/05_autoregressive/03_pixelcnn_md/output/generated_img_007.png\n"
     ]
    },
    {
     "data": {
      "image/png": "[encoded data removed]",
      "text/plain": [
       "<Figure size 2000x300 with 2 Axes>"
      ]
     },
     "metadata": {},
     "output_type": "display_data"
    },
    {
     "name": "stdout",
     "output_type": "stream",
     "text": [
      "469/469 [==============================] - 741s 2s/step - loss: 1779.1859\n",
      "Epoch 9/10\n",
      "469/469 [==============================] - 689s 1s/step - loss: 1769.2601\n",
      "Epoch 10/10\n",
      "469/469 [==============================] - ETA: 0s - loss: 1759.4991\n",
      "Saved to /home/clachris/Documents/projects/Generative_Deep_Learning_2nd_Edition/notebooks/05_autoregressive/03_pixelcnn_md/output/generated_img_009.png\n"
     ]
    },
    {
     "data": {
      "image/png": "[encoded data removed]",
      "text/plain": [
       "<Figure size 2000x300 with 2 Axes>"
      ]
     },
     "metadata": {},
     "output_type": "display_data"
    },
    {
     "name": "stdout",
     "output_type": "stream",
     "text": [
      "469/469 [==============================] - 742s 2s/step - loss: 1759.4991\n"
     ]
    },
    {
     "data": {
      "text/plain": [
       "<keras.callbacks.History at 0x7f197d0a0220>"
      ]
     },
     "execution_count": 12,
     "metadata": {},
     "output_type": "execute_result"
    }
   ],
   "source": [
    "pixelcnn.fit(\n",
    "    input_data,\n",
    "    batch_size=BATCH_SIZE,\n",
    "    epochs=EPOCHS,\n",
    "    verbose=True,\n",
    "    callbacks=[tensorboard_callback, img_generator_callback],\n",
    ")"
   ]
  },
  {
   "cell_type": "markdown",
   "id": "fb1f295f-ade0-4040-a6a5-a7b428b08ebc",
   "metadata": {},
   "source": [
    "## 4. Generate images <a name=\"generate\"></a>"
   ]
  },
  {
   "cell_type": "code",
   "execution_count": 13,
   "id": "8db3cfe3-339e-463d-8af5-fbd403385fca",
   "metadata": {},
   "outputs": [],
   "source": [
    "generated_images = img_generator_callback.generate()"
   ]
  },
  {
   "cell_type": "code",
   "execution_count": 14,
   "id": "80087297-3f47-4e0c-ac89-8758d4386d7c",
   "metadata": {},
   "outputs": [
    {
     "data": {
      "image/png": "[encoded data removed]",
      "text/plain": [
       "<Figure size 2000x300 with 2 Axes>"
      ]
     },
     "metadata": {},
     "output_type": "display_data"
    }
   ],
   "source": [
    "display(generated_images, n=img_generator_callback.num_img)"
   ]
  }
 ],
 "metadata": {
  "kernelspec": {
   "display_name": "Python 3 (ipykernel)",
   "language": "python",
   "name": "python3"
  },
  "language_info": {
   "codemirror_mode": {
    "name": "ipython",
    "version": 3
   },
   "file_extension": ".py",
   "mimetype": "text/x-python",
   "name": "python",
   "nbconvert_exporter": "python",
   "pygments_lexer": "ipython3",
   "version": "3.10.6"
  }
 },
 "nbformat": 4,
 "nbformat_minor": 5
}
