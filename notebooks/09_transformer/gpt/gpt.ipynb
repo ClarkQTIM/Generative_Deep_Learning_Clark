{
 "cells": [
  {
   "cell_type": "markdown",
   "id": "b076bd1a-b236-4fbc-953d-8295b25122ae",
   "metadata": {},
   "source": [
    "# 🚀 GPT"
   ]
  },
  {
   "cell_type": "markdown",
   "id": "4dca6836-0007-43f3-af65-d12ae1922c02",
   "metadata": {
    "tags": []
   },
   "source": [
    "In this notebook, we'll walk through the steps required to train your own GPT model on the wine review dataset"
   ]
  },
  {
   "cell_type": "markdown",
   "id": "3e6cb7c7-d3d5-4b12-b357-1f6118edffe0",
   "metadata": {},
   "source": [
    "The code is adapted from the excellent [GPT tutorial](https://keras.io/examples/generative/text_generation_with_miniature_gpt/) created by Apoorv Nandan available on the Keras website."
   ]
  },
  {
   "cell_type": "code",
   "execution_count": 34,
   "id": "73350761-bef2-4e96-b3ac-a158eabd2b65",
   "metadata": {
    "tags": []
   },
   "outputs": [
    {
     "name": "stdout",
     "output_type": "stream",
     "text": [
      "The autoreload extension is already loaded. To reload it, use:\n",
      "  %reload_ext autoreload\n",
      "/home/clachris/Documents/projects/Generative_Deep_Learning_2nd_Edition/notebooks\n"
     ]
    }
   ],
   "source": [
    "%load_ext autoreload\n",
    "%autoreload 2\n",
    "import numpy as np\n",
    "import json\n",
    "import re\n",
    "import string\n",
    "from IPython.display import display, HTML\n",
    "\n",
    "%cd /home/clachris/Documents/projects/Generative_Deep_Learning_2nd_Edition/notebooks\n",
    "\n",
    "import tensorflow as tf\n",
    "from tensorflow.keras import layers, models, losses, callbacks"
   ]
  },
  {
   "cell_type": "markdown",
   "id": "339e6268-ebd7-4feb-86db-1fe7abccdbe5",
   "metadata": {},
   "source": [
    "## 0. Parameters <a name=\"parameters\"></a>"
   ]
  },
  {
   "cell_type": "code",
   "execution_count": 35,
   "id": "2d8352af-343e-4c2e-8c91-95f8bac1c8a1",
   "metadata": {},
   "outputs": [],
   "source": [
    "VOCAB_SIZE = 10000\n",
    "MAX_LEN = 80\n",
    "EMBEDDING_DIM = 256\n",
    "KEY_DIM = 256\n",
    "N_HEADS = 2\n",
    "FEED_FORWARD_DIM = 256\n",
    "VALIDATION_SPLIT = 0.2\n",
    "SEED = 42\n",
    "LOAD_MODEL = False\n",
    "BATCH_SIZE = 32\n",
    "EPOCHS = 5"
   ]
  },
  {
   "cell_type": "markdown",
   "id": "b7716fac-0010-49b0-b98e-53be2259edde",
   "metadata": {},
   "source": [
    "## 1. Load the data <a name=\"load\"></a>"
   ]
  },
  {
   "cell_type": "code",
   "execution_count": 36,
   "id": "93cf6b0f-9667-4146-8911-763a8a2925d3",
   "metadata": {
    "tags": []
   },
   "outputs": [],
   "source": [
    "# Load the full dataset\n",
    "with open(\"/home/clachris/Documents/projects/Generative_Deep_Learning_2nd_Edition/data/wine-reviews/winemag-data-130k-v2.json\") as json_data:\n",
    "    wine_data = json.load(json_data)"
   ]
  },
  {
   "cell_type": "code",
   "execution_count": 37,
   "id": "2db5c0fc-0d5f-42ab-ade1-57e594c416ec",
   "metadata": {
    "tags": []
   },
   "outputs": [
    {
     "data": {
      "text/plain": [
       "{'points': '87',\n",
       " 'title': 'Kirkland Signature 2011 Mountain Cuvée Cabernet Sauvignon (Napa Valley)',\n",
       " 'description': 'Soft, supple plum envelopes an oaky structure in this Cabernet, supported by 15% Merlot. Coffee and chocolate complete the picture, finishing strong at the end, resulting in a value-priced wine of attractive flavor and immediate accessibility.',\n",
       " 'taster_name': 'Virginie Boone',\n",
       " 'taster_twitter_handle': '@vboone',\n",
       " 'price': 19,\n",
       " 'designation': 'Mountain Cuvée',\n",
       " 'variety': 'Cabernet Sauvignon',\n",
       " 'region_1': 'Napa Valley',\n",
       " 'region_2': 'Napa',\n",
       " 'province': 'California',\n",
       " 'country': 'US',\n",
       " 'winery': 'Kirkland Signature'}"
      ]
     },
     "execution_count": 37,
     "metadata": {},
     "output_type": "execute_result"
    }
   ],
   "source": [
    "wine_data[10]"
   ]
  },
  {
   "cell_type": "code",
   "execution_count": 38,
   "id": "23a74eca-f1b7-4a46-9a1f-b5806a4ed361",
   "metadata": {
    "tags": []
   },
   "outputs": [],
   "source": [
    "# Filter the dataset\n",
    "filtered_data = [\n",
    "    \"wine review : \"\n",
    "    + x[\"country\"]\n",
    "    + \" : \"\n",
    "    + x[\"province\"]\n",
    "    + \" : \"\n",
    "    + x[\"variety\"]\n",
    "    + \" : \"\n",
    "    + x[\"description\"]\n",
    "    for x in wine_data\n",
    "    if x[\"country\"] is not None\n",
    "    and x[\"province\"] is not None\n",
    "    and x[\"variety\"] is not None\n",
    "    and x[\"description\"] is not None\n",
    "]"
   ]
  },
  {
   "cell_type": "code",
   "execution_count": 39,
   "id": "389c20de-0422-4c48-a7b4-6ee12a7bf0e2",
   "metadata": {
    "tags": []
   },
   "outputs": [
    {
     "name": "stdout",
     "output_type": "stream",
     "text": [
      "129907 recipes loaded\n"
     ]
    }
   ],
   "source": [
    "# Count the recipes\n",
    "n_wines = len(filtered_data)\n",
    "print(f\"{n_wines} recipes loaded\")"
   ]
  },
  {
   "cell_type": "code",
   "execution_count": 40,
   "id": "1b2e3cf7-e416-460e-874a-0dd9637bca36",
   "metadata": {},
   "outputs": [
    {
     "name": "stdout",
     "output_type": "stream",
     "text": [
      "wine review : US : California : Pinot Noir : Oak and earth intermingle around robust aromas of wet forest floor in this vineyard-designated Pinot that hails from a high-elevation site. Small in production, it offers intense, full-bodied raspberry and blackberry steeped in smoky spice and smooth texture.\n"
     ]
    }
   ],
   "source": [
    "example = filtered_data[25]\n",
    "print(example)"
   ]
  },
  {
   "cell_type": "markdown",
   "id": "3f871aaf-d873-41c7-8946-e4eef7ac17c1",
   "metadata": {},
   "source": [
    "## 2. Tokenize the data <a name=\"tokenize\"></a>"
   ]
  },
  {
   "cell_type": "code",
   "execution_count": 41,
   "id": "5b2064fb-5dcc-4657-b470-0928d10e2ddc",
   "metadata": {
    "tags": []
   },
   "outputs": [],
   "source": [
    "# Pad the punctuation, to treat them as separate 'words'\n",
    "def pad_punctuation(s):\n",
    "    s = re.sub(f\"([{string.punctuation}, '\\n'])\", r\" \\1 \", s)\n",
    "    s = re.sub(\" +\", \" \", s)\n",
    "    return s\n",
    "\n",
    "text_data = [pad_punctuation(x) for x in filtered_data]"
   ]
  },
  {
   "cell_type": "code",
   "execution_count": 42,
   "id": "b87d7c65-9a46-492a-a5c0-a043b0d252f3",
   "metadata": {},
   "outputs": [
    {
     "data": {
      "text/plain": [
       "'wine review : US : California : Pinot Noir : Oak and earth intermingle around robust aromas of wet forest floor in this vineyard - designated Pinot that hails from a high - elevation site . Small in production , it offers intense , full - bodied raspberry and blackberry steeped in smoky spice and smooth texture . '"
      ]
     },
     "execution_count": 42,
     "metadata": {},
     "output_type": "execute_result"
    }
   ],
   "source": [
    "# Display an example of a recipe\n",
    "example_data = text_data[25]\n",
    "example_data"
   ]
  },
  {
   "cell_type": "code",
   "execution_count": 43,
   "id": "9834f916-b21a-4104-acc9-f28d3bd7a8c1",
   "metadata": {
    "tags": []
   },
   "outputs": [],
   "source": [
    "# Convert to a Tensorflow Dataset\n",
    "text_ds = (\n",
    "    tf.data.Dataset.from_tensor_slices(text_data)\n",
    "    .batch(BATCH_SIZE)\n",
    "    .shuffle(1000)\n",
    ")"
   ]
  },
  {
   "cell_type": "code",
   "execution_count": 44,
   "id": "884c0bcb-0807-45a1-8f7e-a32f2c6fa4de",
   "metadata": {},
   "outputs": [],
   "source": [
    "# Create a vectorisation layer\n",
    "vectorize_layer = layers.TextVectorization(\n",
    "    standardize=\"lower\",\n",
    "    max_tokens=VOCAB_SIZE,\n",
    "    output_mode=\"int\",\n",
    "    output_sequence_length=MAX_LEN + 1,\n",
    ")"
   ]
  },
  {
   "cell_type": "code",
   "execution_count": 45,
   "id": "4d6dd34a-d905-497b-926a-405380ebcf98",
   "metadata": {},
   "outputs": [
    {
     "name": "stderr",
     "output_type": "stream",
     "text": [
      "2023-08-14 20:48:57.168197: I tensorflow/core/common_runtime/executor.cc:1197] [/device:CPU:0] (DEBUG INFO) Executor start aborting (this does not indicate an error and you can ignore this message): INVALID_ARGUMENT: You must feed a value for placeholder tensor 'Placeholder/_0' with dtype string and shape [129907]\n",
      "\t [[{{node Placeholder/_0}}]]\n",
      "2023-08-14 20:48:57.168386: I tensorflow/core/common_runtime/executor.cc:1197] [/device:CPU:0] (DEBUG INFO) Executor start aborting (this does not indicate an error and you can ignore this message): INVALID_ARGUMENT: You must feed a value for placeholder tensor 'Placeholder/_0' with dtype string and shape [129907]\n",
      "\t [[{{node Placeholder/_0}}]]\n"
     ]
    }
   ],
   "source": [
    "# Adapt the layer to the training set\n",
    "vectorize_layer.adapt(text_ds)\n",
    "vocab = vectorize_layer.get_vocabulary()"
   ]
  },
  {
   "cell_type": "code",
   "execution_count": 46,
   "id": "f6c1c7ce-3cf0-40d4-a3dc-ab7090f69f2f",
   "metadata": {},
   "outputs": [
    {
     "name": "stdout",
     "output_type": "stream",
     "text": [
      "0: \n",
      "1: [UNK]\n",
      "2: :\n",
      "3: ,\n",
      "4: .\n",
      "5: and\n",
      "6: the\n",
      "7: wine\n",
      "8: a\n",
      "9: of\n"
     ]
    }
   ],
   "source": [
    "# Display some token:word mappings\n",
    "for i, word in enumerate(vocab[:10]):\n",
    "    print(f\"{i}: {word}\")"
   ]
  },
  {
   "cell_type": "code",
   "execution_count": 47,
   "id": "1cc30186-7ec6-4eb6-b29a-65df6714d321",
   "metadata": {},
   "outputs": [
    {
     "name": "stdout",
     "output_type": "stream",
     "text": [
      "[   7   10    2   20    2   29    2   43   62    2   55    5  243 4145\n",
      "  453  634   26    9  497  499  667   17   12  142   14 2214   43   25\n",
      " 2484   32    8  223   14 2213  948    4  594   17  987    3   15   75\n",
      "  237    3   64   14   82   97    5   74 2633   17  198   49    5  125\n",
      "   77    4    0    0    0    0    0    0    0    0    0    0    0    0\n",
      "    0    0    0    0    0    0    0    0    0    0    0]\n"
     ]
    }
   ],
   "source": [
    "# Display the same example converted to ints\n",
    "example_tokenised = vectorize_layer(example_data)\n",
    "print(example_tokenised.numpy())"
   ]
  },
  {
   "cell_type": "markdown",
   "id": "8c195efb-84c6-4be0-a989-a7542188ad35",
   "metadata": {},
   "source": [
    "## 3. Create the Training Set <a name=\"create\"></a>"
   ]
  },
  {
   "cell_type": "code",
   "execution_count": 48,
   "id": "740294a1-1a6b-4c89-92f2-036d7d1b788b",
   "metadata": {},
   "outputs": [],
   "source": [
    "# Create the training set of recipes and the same text shifted by one word\n",
    "def prepare_inputs(text):\n",
    "    text = tf.expand_dims(text, -1)\n",
    "    tokenized_sentences = vectorize_layer(text)\n",
    "    x = tokenized_sentences[:, :-1]\n",
    "    y = tokenized_sentences[:, 1:]\n",
    "    return x, y\n",
    "\n",
    "train_ds = text_ds.map(prepare_inputs)"
   ]
  },
  {
   "cell_type": "code",
   "execution_count": 49,
   "id": "cad80ffb-4298-4249-86b4-9918d62534c5",
   "metadata": {},
   "outputs": [],
   "source": [
    "example_input_output = train_ds.take(1).get_single_element()"
   ]
  },
  {
   "cell_type": "code",
   "execution_count": 50,
   "id": "67ff7263-f62d-44c1-997b-1aa99a393521",
   "metadata": {},
   "outputs": [
    {
     "data": {
      "text/plain": [
       "<tf.Tensor: shape=(80,), dtype=int64, numpy=\n",
       "array([   7,   10,    2,   20,    2,   29,    2,   61,    2,  541,   17,\n",
       "        347,   55,    5,  878,  796,    3,   12, 5033,   53,   13,  663,\n",
       "          5,  125,    3,   11,  266,    9, 3354,   69,   23,  827,    4,\n",
       "        396,   30,  755,   15,   73,    5,  247,    3,  452,   79,   18,\n",
       "         21,    8,  108,    9,  734,   55,    4,    0,    0,    0,    0,\n",
       "          0,    0,    0,    0,    0,    0,    0,    0,    0,    0,    0,\n",
       "          0,    0,    0,    0,    0,    0,    0,    0,    0,    0,    0,\n",
       "          0,    0,    0])>"
      ]
     },
     "execution_count": 50,
     "metadata": {},
     "output_type": "execute_result"
    }
   ],
   "source": [
    "# Example Input\n",
    "example_input_output[0][0]"
   ]
  },
  {
   "cell_type": "code",
   "execution_count": 51,
   "id": "ef2e2cad-414c-4e6d-a2ac-6b9598f9dd01",
   "metadata": {},
   "outputs": [
    {
     "data": {
      "text/plain": [
       "<tf.Tensor: shape=(80,), dtype=int64, numpy=\n",
       "array([  10,    2,   20,    2,   29,    2,   61,    2,  541,   17,  347,\n",
       "         55,    5,  878,  796,    3,   12, 5033,   53,   13,  663,    5,\n",
       "        125,    3,   11,  266,    9, 3354,   69,   23,  827,    4,  396,\n",
       "         30,  755,   15,   73,    5,  247,    3,  452,   79,   18,   21,\n",
       "          8,  108,    9,  734,   55,    4,    0,    0,    0,    0,    0,\n",
       "          0,    0,    0,    0,    0,    0,    0,    0,    0,    0,    0,\n",
       "          0,    0,    0,    0,    0,    0,    0,    0,    0,    0,    0,\n",
       "          0,    0,    0])>"
      ]
     },
     "execution_count": 51,
     "metadata": {},
     "output_type": "execute_result"
    }
   ],
   "source": [
    "# Example Output (shifted by one token)\n",
    "example_input_output[1][0]"
   ]
  },
  {
   "cell_type": "markdown",
   "id": "aff50401-3abe-4c10-bba8-b35bc13ad7d5",
   "metadata": {
    "tags": []
   },
   "source": [
    "## 5. Create the causal attention mask function <a name=\"causal\"></a>"
   ]
  },
  {
   "cell_type": "markdown",
   "id": "bfb14ca5",
   "metadata": {},
   "source": [
    "## Mathematical Overview\n",
    "\n",
    "### Attention\n",
    "\n",
    "One of the main advantages of a *Transformer* model is that it is easily to parallelize, unlike, say, RNNs. We feed the entire string in at once. However, consider the following sentence: \"The dog likes to play ....\". The next obvious word should be \"fetch\", but why? Well, presumably because of the words \"dog\", which, if it were, say, \"cat\", would lead to a different game, and the word \"likes\", which, if it were \"hates\", would also change the word that follows. So, we need to figure where the model should focus its *Attention*.\n",
    "\n",
    "To do so, we will follow our standard text preprocessing seen above, tokenizing, projecting into an embedding space, and so on. Now, we will talk about a single *Self-Attention Head*, but then will continue about how to stack them. Each head has three matrices that are updated during training. They are the *Query*, *Key*, and *Value* matrices, or $W_q, W_k, W_v$, respectively.\n",
    "\n",
    "Then, each token vector $\\mathbf{x}^{(t)}_i \\in X, t \\in {1, ..., T}$ can be mutlipled by each weight matrix to get:\n",
    "\n",
    "$$ \\mathbf{q}^{(t)} = W_q \\mathbf{x}^{(t)} $$\n",
    "$$ \\mathbf{k}^{(t)} = W_k \\mathbf{x}^{(t)} $$\n",
    "$$ \\mathbf{v}^{(t)} = W_v \\mathbf{x}^{(t)} $$\n",
    "\n",
    "We are now looking at $\\mathbf{q}^{(t)}$ as the query associated with $\\mathbf{x}^{(t)}_i$. We are ultimately going to put it in context with the other tokens in the sentence (telling us how much attention to pay to that $\\mathbf{x}^{(t)}_i$) Now, $\\mathbf{q}^{(t)}$ and $\\mathbf{k}^{(t)}$ have the same length, call it $d_k$, while $\\mathbf{v}^{(t)}$ has length $d_v$. Note that these could be the same, and often are. Also, recall that each token is a vector (after vectorization) of length $d$. So, $W_Q$ and $W_k$ are size $d_k \\times d$, and $W_v$ is size $d_v \\times d$. We now calculate the normalized weights for each possible pair of $\\mathbf{q}^{{(t)}^T} \\mathbf{k}^{(j)}$ as $j$ ranges over $m$ keys:\n",
    "\n",
    "$$ \\omega_{t,j} = \\frac{\\mathbf{q}^{{(t)}^T} \\mathbf{k}^{(j)}}{\\sqrt{d_k}} $$\n",
    "\n",
    "We then apply the softmax function to get:\n",
    "\n",
    "$$ \\alpha_{t,i} = \\alpha(\\mathbf{q}^{(t)}, \\mathbf{k}^{(1:m)}) = softmax_i ([\\omega_{t,1}, ..., \\omega_{t,m}]) = \\frac{\\exp(\\omega_{t,i})}{\\sum_{j=1}^m \\exp(\\omega_{t},j)} \\in \\mathbb{R}$$\n",
    "\n",
    "Finally, we arrive at the context vector for token $t$, called $\\mathbf{z}_t$:\n",
    "\n",
    "$$ \\mathbf{z}_t = Attention(\\mathbf{q}^{(t)}, (\\mathbf{k}_1, \\mathbf{v}_1), ... , (\\mathbf{k}_m, \\mathbf{v}_m)) = \\sum_{j=1}^m \\alpha_{t,j}\\mathbf{v}^{(j)} \\in \\mathbb{R}^v$$\n",
    "\n",
    "As in, we have included all the other keys and values associated with this query to build our context vector.\n",
    "\n",
    "Another way it might be shown is to consider a batch of size $n$ of query vectors out of $m$ (or $T$) tokens. In this case, we get:\n",
    "\n",
    "$$ Q \\in \\mathbb{R}^{n \\times d} $$\n",
    "$$ K \\in \\mathbb{R}^{m \\times d} $$ \n",
    "$$ V \\in \\mathbb{R}^{m \\times v} $$\n",
    "\n",
    "This gives us:\n",
    "\n",
    "$$ Attention(Q,K,V) = softmax \\left( \\frac{QK^T}{\\sqrt{d_k}} \\right)V \\in \\mathbb{R}^{n \\times v}$$\n",
    "\n",
    "Now, we have $n$ tokens' context, each of length $v$ and we have successfully parallelized the process. If $n=m=T$, then we simply have the context for all the tokens.\n",
    "\n",
    "We can also do this with multiple heads. We simply concatenate each output and then run the result through another matrix $W_o$ to get the desired output shape.\n",
    "\n",
    "$$ c_t = W_o \\cdot concat([c^1_t, c^2_t, ..., c^n_t]) $$\n",
    "\n",
    "However, we note that if we are doing all several queries at once, we need to apply a mask, as we don't want future words to leak into the information at present. This essentially looks like a matrix with zeros below the diagonal. That way when we apply $Attention(Q,K,V)$ for all the queries, each will be properly masked to only have the words leading up the the query, as in, the keys from future words won't be applied. For example, if we have \"My dog like to run.\", the mask would mask out to get queries \"My\", \"My dog\", \"My dog likes\", \"My dog like to\", etc. \n",
    "\n",
    "Graphically, this looks like:\n",
    "\n",
    "<div style='text-align: center;'>\n",
    "    <img src='/home/clachris/Documents/projects/Generative_Deep_Learning_2nd_Edition/notebooks/Graphics/MultiHeaded_Attention.png' alt='MultiHeaded_Attention' width='500'>\n",
    "</div>"
   ]
  },
  {
   "cell_type": "code",
   "execution_count": 52,
   "id": "554a4184-61c2-4eb7-a063-d965586a8188",
   "metadata": {},
   "outputs": [
    {
     "data": {
      "text/plain": [
       "array([[1, 1, 1, 1, 1, 1, 1, 1, 1, 1],\n",
       "       [0, 1, 1, 1, 1, 1, 1, 1, 1, 1],\n",
       "       [0, 0, 1, 1, 1, 1, 1, 1, 1, 1],\n",
       "       [0, 0, 0, 1, 1, 1, 1, 1, 1, 1],\n",
       "       [0, 0, 0, 0, 1, 1, 1, 1, 1, 1],\n",
       "       [0, 0, 0, 0, 0, 1, 1, 1, 1, 1],\n",
       "       [0, 0, 0, 0, 0, 0, 1, 1, 1, 1],\n",
       "       [0, 0, 0, 0, 0, 0, 0, 1, 1, 1],\n",
       "       [0, 0, 0, 0, 0, 0, 0, 0, 1, 1],\n",
       "       [0, 0, 0, 0, 0, 0, 0, 0, 0, 1]], dtype=int32)"
      ]
     },
     "execution_count": 52,
     "metadata": {},
     "output_type": "execute_result"
    }
   ],
   "source": [
    "def causal_attention_mask(batch_size, n_dest, n_src, dtype):\n",
    "    i = tf.range(n_dest)[:, None]\n",
    "    j = tf.range(n_src)\n",
    "    m = i >= j - n_src + n_dest\n",
    "    mask = tf.cast(m, dtype)\n",
    "    mask = tf.reshape(mask, [1, n_dest, n_src])\n",
    "    mult = tf.concat(\n",
    "        [tf.expand_dims(batch_size, -1), tf.constant([1, 1], dtype=tf.int32)], 0\n",
    "    )\n",
    "    return tf.tile(mask, mult)\n",
    "\n",
    "np.transpose(causal_attention_mask(1, 10, 10, dtype=tf.int32)[0]) # 10 is the sequence lengths here, as when you do QK^T, you get a d-by-d, \n",
    "# (seq_len-by-seq_len) matrix, so we want our mask to do that"
   ]
  },
  {
   "cell_type": "markdown",
   "id": "3501dbad-0860-40ad-b7d6-47950e37858f",
   "metadata": {},
   "source": [
    "## 6. Create a Transformer Block layer <a name=\"transformer\"></a>"
   ]
  },
  {
   "cell_type": "markdown",
   "id": "26a2eac3",
   "metadata": {},
   "source": [
    "### Mathematical Overview of the Transformer\n",
    "\n",
    "The transformer has the following structure:\n",
    "\n",
    "<div style='text-align: center;'>\n",
    "    <img src='/home/clachris/Documents/projects/Generative_Deep_Learning_2nd_Edition/notebooks/Graphics/Transformer_Block.png' alt='Transformer_Block' width='300'>\n",
    "</div>\n",
    "\n",
    "Essentially, each of $Q,K,V$ are fed into the multi-headed attention, the $Q$ information also passes around the attention layer and is added to the output (skip connection, like in Residual Blocks), then *Layer Normalized*, before being passed to the feedforward network and so on.\n",
    "\n",
    "We note that batch normalization normalizes each feature independently across the mini-batch. Layer normalization normalizes each of the inputs in the batch independently across all features.\n",
    "\n",
    "<div style='text-align: center;'>\n",
    "    <img src='/home/clachris/Documents/projects/Generative_Deep_Learning_2nd_Edition/notebooks/Graphics/Normalization_Types.png' alt='Normalization_Types' width='750'>\n",
    "</div>"
   ]
  },
  {
   "cell_type": "code",
   "execution_count": 53,
   "id": "5285a1cb-fce1-46b1-b088-b596002fa9ae",
   "metadata": {},
   "outputs": [],
   "source": [
    "class TransformerBlock(layers.Layer):\n",
    "    def __init__(self, num_heads, key_dim, embed_dim, ff_dim, dropout_rate=0.1):\n",
    "        super(TransformerBlock, self).__init__()\n",
    "        self.num_heads = num_heads # Number of attention heads\n",
    "        self.key_dim = key_dim # Key dimension\n",
    "        self.embed_dim = embed_dim # Word embedding dimension\n",
    "        self.ff_dim = ff_dim # Fully connected ()feed forward) layer's dimension\n",
    "        self.dropout_rate = dropout_rate\n",
    "        self.attn = layers.MultiHeadAttention(\n",
    "            num_heads, key_dim, output_shape=embed_dim\n",
    "        ) # Creating the attention head\n",
    "        self.dropout_1 = layers.Dropout(self.dropout_rate)\n",
    "        self.ln_1 = layers.LayerNormalization(epsilon=1e-6) # The layer normalization\n",
    "        self.ffn_1 = layers.Dense(self.ff_dim, activation=\"relu\") # Dense layer\n",
    "        self.ffn_2 = layers.Dense(self.embed_dim) # Another dense layer\n",
    "        self.dropout_2 = layers.Dropout(self.dropout_rate)\n",
    "        self.ln_2 = layers.LayerNormalization(epsilon=1e-6)\n",
    "\n",
    "    def call(self, inputs):\n",
    "        input_shape = tf.shape(inputs)\n",
    "        batch_size = input_shape[0]\n",
    "        seq_len = input_shape[1]\n",
    "        causal_mask = causal_attention_mask(\n",
    "            batch_size, seq_len, seq_len, tf.bool\n",
    "        ) # Creating the causal mask\n",
    "        attention_output, attention_scores = self.attn(\n",
    "            inputs,\n",
    "            inputs,\n",
    "            attention_mask=causal_mask,\n",
    "            return_attention_scores=True,\n",
    "        ) # Getting the attention scores\n",
    "        attention_output = self.dropout_1(attention_output)\n",
    "        out1 = self.ln_1(inputs + attention_output) # Skip connection adds the query and attention then applies layer normalization\n",
    "        ffn_1 = self.ffn_1(out1) # Fully connected\n",
    "        ffn_2 = self.ffn_2(ffn_1) # Second fully connected\n",
    "        ffn_output = self.dropout_2(ffn_2)\n",
    "        return (self.ln_2(out1 + ffn_output), attention_scores) # This is doing the skip connection with the first layer normalization's output \n",
    "        #and the result of that output being passed throughh two feed-forward layersand then applying layer normalization to that output\n",
    "\n",
    "    def get_config(self):\n",
    "        config = super().get_config()\n",
    "        config.update(\n",
    "            {\n",
    "                \"key_dim\": self.key_dim,\n",
    "                \"embed_dim\": self.embed_dim,\n",
    "                \"num_heads\": self.num_heads,\n",
    "                \"ff_dim\": self.ff_dim,\n",
    "                \"dropout_rate\": self.dropout_rate,\n",
    "            }\n",
    "        )\n",
    "        return config"
   ]
  },
  {
   "cell_type": "markdown",
   "id": "076a6be0-9796-4974-9bcd-6ebbcfe7514e",
   "metadata": {
    "tags": []
   },
   "source": [
    "## 7. Create the Token and Position Embedding <a name=\"embedder\"></a>"
   ]
  },
  {
   "cell_type": "markdown",
   "id": "5261cb14",
   "metadata": {},
   "source": [
    "### Positional Embedding\n",
    "\n",
    "However, before we can do all this, we have to keep in mind that we are passing all the queries and keys in together, in parallel. This makes it faster to train, but we need a way to encode order onto the inputs, as sentences change significantly depending on words order. Consider \"The dog looked at the boy and ...\" versus \"The boy looked at the dog and ...\" They have the same words, but in different order, and so we want the model to be able to distinguish between them. This is as simple as creating a second embedding layer with the input_dim as the mex lengths of the sentences (as opposed to the vocab size like we normally would) and adding the two."
   ]
  },
  {
   "cell_type": "code",
   "execution_count": 54,
   "id": "fdf5cb25-88ae-4026-9e21-c1e6b5094a2c",
   "metadata": {},
   "outputs": [],
   "source": [
    "class TokenAndPositionEmbedding(layers.Layer):\n",
    "    def __init__(self, max_len, vocab_size, embed_dim):\n",
    "        super(TokenAndPositionEmbedding, self).__init__()\n",
    "        self.max_len = max_len\n",
    "        self.vocab_size = vocab_size\n",
    "        self.embed_dim = embed_dim\n",
    "        self.token_emb = layers.Embedding(\n",
    "            input_dim=vocab_size, output_dim=embed_dim\n",
    "        ) # Token embedding\n",
    "        self.pos_emb = layers.Embedding(input_dim=max_len, output_dim=embed_dim) # Position embedding\n",
    "\n",
    "    def call(self, x):\n",
    "        maxlen = tf.shape(x)[-1]\n",
    "        positions = tf.range(start=0, limit=maxlen, delta=1) # Getting a list of integer positions\n",
    "        positions = self.pos_emb(positions)\n",
    "        x = self.token_emb(x)\n",
    "        return x + positions # Just adding the two\n",
    "\n",
    "    def get_config(self):\n",
    "        config = super().get_config()\n",
    "        config.update(\n",
    "            {\n",
    "                \"max_len\": self.max_len,\n",
    "                \"vocab_size\": self.vocab_size,\n",
    "                \"embed_dim\": self.embed_dim,\n",
    "            }\n",
    "        )\n",
    "        return config"
   ]
  },
  {
   "cell_type": "markdown",
   "id": "aac2e2d4-5980-47e3-b5b0-6c41c0c2d152",
   "metadata": {},
   "source": [
    "## 8. Build the Transformer model <a name=\"transformer_decoder\"></a>"
   ]
  },
  {
   "cell_type": "code",
   "execution_count": 55,
   "id": "8c57596e-e17d-4959-b6e8-7581b0bace3a",
   "metadata": {},
   "outputs": [],
   "source": [
    "inputs = layers.Input(shape=(None,), dtype=tf.int32)\n",
    "x = TokenAndPositionEmbedding(MAX_LEN, VOCAB_SIZE, EMBEDDING_DIM)(inputs)\n",
    "x, attention_scores = TransformerBlock(\n",
    "    N_HEADS, KEY_DIM, EMBEDDING_DIM, FEED_FORWARD_DIM\n",
    ")(x)\n",
    "outputs = layers.Dense(VOCAB_SIZE, activation=\"softmax\")(x) # Final layer for outputting probabilities over all the vocabulary words\n",
    "# At this point, we have (batch_size, sequence_length, 10000)\n",
    "gpt = models.Model(inputs=inputs, outputs=[outputs, attention_scores])\n",
    "gpt.compile(\"adam\", loss=[losses.SparseCategoricalCrossentropy(), None])"
   ]
  },
  {
   "cell_type": "code",
   "execution_count": 56,
   "id": "1a1c3b0f-3382-444d-bb04-bae143ae5d61",
   "metadata": {},
   "outputs": [
    {
     "name": "stdout",
     "output_type": "stream",
     "text": [
      "Model: \"model_5\"\n",
      "_________________________________________________________________\n",
      " Layer (type)                Output Shape              Param #   \n",
      "=================================================================\n",
      " input_6 (InputLayer)        [(None, None)]            0         \n",
      "                                                                 \n",
      " token_and_position_embeddin  (None, None, 256)        2580480   \n",
      " g_5 (TokenAndPositionEmbedd                                     \n",
      " ing)                                                            \n",
      "                                                                 \n",
      " transformer_block_5 (Transf  ((None, None, 256),      658688    \n",
      " ormerBlock)                  (None, 2, None, None))             \n",
      "                                                                 \n",
      " dense_17 (Dense)            (None, None, 10000)       2570000   \n",
      "                                                                 \n",
      "=================================================================\n",
      "Total params: 5,809,168\n",
      "Trainable params: 5,809,168\n",
      "Non-trainable params: 0\n",
      "_________________________________________________________________\n"
     ]
    }
   ],
   "source": [
    "gpt.summary()"
   ]
  },
  {
   "cell_type": "code",
   "execution_count": 57,
   "id": "800a3c6e-fb11-4792-b6bc-9a43a7c977ad",
   "metadata": {
    "tags": []
   },
   "outputs": [],
   "source": [
    "if LOAD_MODEL:\n",
    "    # model.load_weights('./models/model')\n",
    "    gpt = models.load_model(\"./models/gpt\", compile=True)"
   ]
  },
  {
   "cell_type": "markdown",
   "id": "35b14665-4359-447b-be58-3fd58ba69084",
   "metadata": {},
   "source": [
    "## 9. Train the Transformer <a name=\"train\"></a>"
   ]
  },
  {
   "cell_type": "code",
   "execution_count": 58,
   "id": "3ddcff5f-829d-4449-99d2-9a3cb68f7d72",
   "metadata": {},
   "outputs": [],
   "source": [
    "# Create a TextGenerator checkpoint\n",
    "class TextGenerator(callbacks.Callback):\n",
    "    def __init__(self, index_to_word, top_k=10):\n",
    "        self.index_to_word = index_to_word \n",
    "        self.word_to_index = {\n",
    "            word: index for index, word in enumerate(index_to_word)\n",
    "        } # Reverses the vocab we created earlier to go from word to index\n",
    "\n",
    "    def sample_from(self, probs, temperature):  # Once we have our probability vectors, this will sample from them\n",
    "        probs = probs ** (1 / temperature) # This changes the probabilities by a temperature, closer to 0 is more deterministic and 1 is more random\n",
    "        probs = probs / np.sum(probs) # The probabilities no longer sum to one, so we normalize them\n",
    "        return np.random.choice(len(probs), p=probs), probs # Sampling a single value from the probabilities\n",
    "\n",
    "    def generate(self, start_prompt, max_tokens, temperature):\n",
    "        start_tokens = [\n",
    "            self.word_to_index.get(x, 1) for x in start_prompt.split()\n",
    "        ]\n",
    "        sample_token = None\n",
    "        info = []\n",
    "        while len(start_tokens) < max_tokens and sample_token != 0:\n",
    "            x = np.array([start_tokens])\n",
    "            y, att = self.model.predict(x, verbose=0)\n",
    "            sample_token, probs = self.sample_from(y[0][-1], temperature)\n",
    "            info.append(\n",
    "                {\n",
    "                    \"prompt\": start_prompt,\n",
    "                    \"word_probs\": probs,\n",
    "                    \"atts\": att[0, :, -1, :],\n",
    "                }\n",
    "            )\n",
    "            start_tokens.append(sample_token)\n",
    "            start_prompt = start_prompt + \" \" + self.index_to_word[sample_token]\n",
    "        print(f\"\\ngenerated text:\\n{start_prompt}\\n\")\n",
    "        return info\n",
    "\n",
    "    def on_epoch_end(self, epoch, logs=None):\n",
    "        self.generate(\"wine review\", max_tokens=80, temperature=1.0)"
   ]
  },
  {
   "cell_type": "code",
   "execution_count": 59,
   "id": "349865fe-ffbe-450e-97be-043ae1740e78",
   "metadata": {},
   "outputs": [],
   "source": [
    "# Create a model save checkpoint\n",
    "model_checkpoint_callback = callbacks.ModelCheckpoint(\n",
    "    filepath=\"./checkpoint/checkpoint.ckpt\",\n",
    "    save_weights_only=True,\n",
    "    save_freq=\"epoch\",\n",
    "    verbose=0,\n",
    ")\n",
    "\n",
    "tensorboard_callback = callbacks.TensorBoard(log_dir=\"./logs\")\n",
    "\n",
    "# Tokenize starting prompt\n",
    "text_generator = TextGenerator(vocab)"
   ]
  },
  {
   "cell_type": "code",
   "execution_count": 60,
   "id": "461c2b3e-b5ae-4def-8bd9-e7bab8c63d8e",
   "metadata": {
    "tags": []
   },
   "outputs": [
    {
     "name": "stdout",
     "output_type": "stream",
     "text": [
      "Epoch 1/5\n"
     ]
    },
    {
     "name": "stderr",
     "output_type": "stream",
     "text": [
      "2023-08-14 20:49:00.566445: I tensorflow/core/common_runtime/executor.cc:1197] [/device:CPU:0] (DEBUG INFO) Executor start aborting (this does not indicate an error and you can ignore this message): INVALID_ARGUMENT: You must feed a value for placeholder tensor 'Placeholder/_0' with dtype string and shape [129907]\n",
      "\t [[{{node Placeholder/_0}}]]\n",
      "2023-08-14 20:49:00.566694: I tensorflow/core/common_runtime/executor.cc:1197] [/device:CPU:0] (DEBUG INFO) Executor start aborting (this does not indicate an error and you can ignore this message): INVALID_ARGUMENT: You must feed a value for placeholder tensor 'Placeholder/_12' with dtype string\n",
      "\t [[{{node Placeholder/_12}}]]\n"
     ]
    },
    {
     "name": "stdout",
     "output_type": "stream",
     "text": [
      "4060/4060 [==============================] - ETA: 0s - loss: 2.2593 - dense_17_loss: 2.2593\n",
      "generated text:\n",
      "wine review : us : california : merlot : this is a dense , rich , floral syrah , blended with 25 % syrah and 46 % petite sirah . many big and broad purple leather combine on the palate , with black cherry and baking spices , which match stick and cola flavors . \n",
      "\n",
      "4060/4060 [==============================] - 638s 157ms/step - loss: 2.2593 - dense_17_loss: 2.2593\n",
      "Epoch 2/5\n",
      "4060/4060 [==============================] - ETA: 0s - loss: 1.9611 - dense_17_loss: 1.9611\n",
      "generated text:\n",
      "wine review : morocco : zenata : viognier : there is a very nice burst of pineapple and freshly mowed lawn in this orange zest flavor and refreshing in acidity with floral , semisweet flavors of tart green apples . \n",
      "\n",
      "4060/4060 [==============================] - 638s 157ms/step - loss: 1.9611 - dense_17_loss: 1.9611\n",
      "Epoch 3/5\n",
      "4060/4060 [==============================] - ETA: 0s - loss: 1.8903 - dense_17_loss: 1.8903\n",
      "generated text:\n",
      "wine review : us : oregon : pinot noir : this pretty pale red , rich , berry fruit with accents of cherry and forest floor . the flavors are rounded , appealing , spicy , accented with a hint of pencil lead and baking spices . the subtle , euro style convinces , though not for you want in a wine that will probably be best enjoyed in balance . \n",
      "\n",
      "4060/4060 [==============================] - 635s 157ms/step - loss: 1.8903 - dense_17_loss: 1.8903\n",
      "Epoch 4/5\n",
      "4060/4060 [==============================] - ETA: 0s - loss: 1.8479 - dense_17_loss: 1.8479\n",
      "generated text:\n",
      "wine review : chile : apalta : carmenère : tarry , but it relies on alert cola , licorice and almond notes to it . this feels lean but with some pickle and briny notes . keep you lively and full in the mouth , with a heaping barbecued shrimp . \n",
      "\n",
      "4060/4060 [==============================] - 645s 159ms/step - loss: 1.8479 - dense_17_loss: 1.8479\n",
      "Epoch 5/5\n",
      "4060/4060 [==============================] - ETA: 0s - loss: 1.8176 - dense_17_loss: 1.8176\n",
      "generated text:\n",
      "wine review : france : alsace : sparkling blend : a subtle , beautifully concentrated champagne , yeasty wine , the fruit is usual with a bright , creamy mousse . the palate has a yeasty , baked bread and citrus flavors , which carry through with a crisp finish . unmistakable as it tastes like brioche as with sourdough bread as well as 2015 as is plenty of fresh , baked bread . \n",
      "\n",
      "4060/4060 [==============================] - 638s 157ms/step - loss: 1.8176 - dense_17_loss: 1.8176\n"
     ]
    },
    {
     "data": {
      "text/plain": [
       "<keras.callbacks.History at 0x7f10a73a2920>"
      ]
     },
     "execution_count": 60,
     "metadata": {},
     "output_type": "execute_result"
    }
   ],
   "source": [
    "gpt.fit(\n",
    "    train_ds,\n",
    "    epochs=EPOCHS,\n",
    "    callbacks=[model_checkpoint_callback, tensorboard_callback, text_generator],\n",
    ")"
   ]
  },
  {
   "cell_type": "code",
   "execution_count": 61,
   "id": "369bde44-2e39-4bc6-8549-a3a27ecce55c",
   "metadata": {
    "tags": []
   },
   "outputs": [
    {
     "name": "stderr",
     "output_type": "stream",
     "text": [
      "2023-08-14 21:42:15.885608: I tensorflow/core/common_runtime/executor.cc:1197] [/device:CPU:0] (DEBUG INFO) Executor start aborting (this does not indicate an error and you can ignore this message): INVALID_ARGUMENT: You must feed a value for placeholder tensor 'input_6' with dtype int32 and shape [?,?]\n",
      "\t [[{{node input_6}}]]\n",
      "2023-08-14 21:42:15.956783: I tensorflow/core/common_runtime/executor.cc:1197] [/device:CPU:0] (DEBUG INFO) Executor start aborting (this does not indicate an error and you can ignore this message): INVALID_ARGUMENT: You must feed a value for placeholder tensor 'input_6' with dtype int32 and shape [?,?]\n",
      "\t [[{{node input_6}}]]\n",
      "2023-08-14 21:42:16.016754: I tensorflow/core/common_runtime/executor.cc:1197] [/device:CPU:0] (DEBUG INFO) Executor start aborting (this does not indicate an error and you can ignore this message): INVALID_ARGUMENT: You must feed a value for placeholder tensor 'inputs' with dtype int32 and shape [?,?]\n",
      "\t [[{{node inputs}}]]\n",
      "2023-08-14 21:42:16.030600: I tensorflow/core/common_runtime/executor.cc:1197] [/device:CPU:0] (DEBUG INFO) Executor start aborting (this does not indicate an error and you can ignore this message): INVALID_ARGUMENT: You must feed a value for placeholder tensor 'input_6' with dtype int32 and shape [?,?]\n",
      "\t [[{{node input_6}}]]\n",
      "2023-08-14 21:42:16.036588: I tensorflow/core/common_runtime/executor.cc:1197] [/device:CPU:0] (DEBUG INFO) Executor start aborting (this does not indicate an error and you can ignore this message): INVALID_ARGUMENT: You must feed a value for placeholder tensor 'inputs' with dtype int32 and shape [?,?]\n",
      "\t [[{{node inputs}}]]\n",
      "2023-08-14 21:42:16.050110: I tensorflow/core/common_runtime/executor.cc:1197] [/device:CPU:0] (DEBUG INFO) Executor start aborting (this does not indicate an error and you can ignore this message): INVALID_ARGUMENT: You must feed a value for placeholder tensor 'input_6' with dtype int32 and shape [?,?]\n",
      "\t [[{{node input_6}}]]\n",
      "2023-08-14 21:42:16.054544: I tensorflow/core/common_runtime/executor.cc:1197] [/device:CPU:0] (DEBUG INFO) Executor start aborting (this does not indicate an error and you can ignore this message): INVALID_ARGUMENT: You must feed a value for placeholder tensor 'x' with dtype int32 and shape [?,?]\n",
      "\t [[{{node x}}]]\n",
      "2023-08-14 21:42:16.061372: I tensorflow/core/common_runtime/executor.cc:1197] [/device:CPU:0] (DEBUG INFO) Executor start aborting (this does not indicate an error and you can ignore this message): INVALID_ARGUMENT: You must feed a value for placeholder tensor 'inputs' with dtype float and shape [?,?,256]\n",
      "\t [[{{node inputs}}]]\n",
      "2023-08-14 21:42:16.068815: I tensorflow/core/common_runtime/executor.cc:1197] [/device:CPU:0] (DEBUG INFO) Executor start aborting (this does not indicate an error and you can ignore this message): INVALID_ARGUMENT: You must feed a value for placeholder tensor 'inputs' with dtype float and shape [?,?,256]\n",
      "\t [[{{node inputs}}]]\n",
      "2023-08-14 21:42:16.072994: I tensorflow/core/common_runtime/executor.cc:1197] [/device:CPU:0] (DEBUG INFO) Executor start aborting (this does not indicate an error and you can ignore this message): INVALID_ARGUMENT: You must feed a value for placeholder tensor 'inputs' with dtype float and shape [?,?,256]\n",
      "\t [[{{node inputs}}]]\n",
      "2023-08-14 21:42:16.082097: I tensorflow/core/common_runtime/executor.cc:1197] [/device:CPU:0] (DEBUG INFO) Executor start aborting (this does not indicate an error and you can ignore this message): INVALID_ARGUMENT: You must feed a value for placeholder tensor 'inputs' with dtype int32 and shape [?,?]\n",
      "\t [[{{node inputs}}]]\n",
      "2023-08-14 21:42:16.091970: I tensorflow/core/common_runtime/executor.cc:1197] [/device:CPU:0] (DEBUG INFO) Executor start aborting (this does not indicate an error and you can ignore this message): INVALID_ARGUMENT: You must feed a value for placeholder tensor 'inputs' with dtype int32 and shape [?,?]\n",
      "\t [[{{node inputs}}]]\n",
      "2023-08-14 21:42:16.132780: I tensorflow/core/common_runtime/executor.cc:1197] [/device:CPU:0] (DEBUG INFO) Executor start aborting (this does not indicate an error and you can ignore this message): INVALID_ARGUMENT: You must feed a value for placeholder tensor 'input_6' with dtype int32 and shape [?,?]\n",
      "\t [[{{node input_6}}]]\n",
      "2023-08-14 21:42:16.149842: I tensorflow/core/common_runtime/executor.cc:1197] [/device:CPU:0] (DEBUG INFO) Executor start aborting (this does not indicate an error and you can ignore this message): INVALID_ARGUMENT: You must feed a value for placeholder tensor 'inputs' with dtype int32 and shape [?,?]\n",
      "\t [[{{node inputs}}]]\n",
      "2023-08-14 21:42:16.159182: I tensorflow/core/common_runtime/executor.cc:1197] [/device:CPU:0] (DEBUG INFO) Executor start aborting (this does not indicate an error and you can ignore this message): INVALID_ARGUMENT: You must feed a value for placeholder tensor 'inputs' with dtype int32 and shape [?,?]\n",
      "\t [[{{node inputs}}]]\n",
      "2023-08-14 21:42:16.291535: I tensorflow/core/common_runtime/executor.cc:1197] [/device:CPU:0] (DEBUG INFO) Executor start aborting (this does not indicate an error and you can ignore this message): INVALID_ARGUMENT: You must feed a value for placeholder tensor 'x' with dtype int32 and shape [?,?]\n",
      "\t [[{{node x}}]]\n",
      "2023-08-14 21:42:16.308715: I tensorflow/core/common_runtime/executor.cc:1197] [/device:CPU:0] (DEBUG INFO) Executor start aborting (this does not indicate an error and you can ignore this message): INVALID_ARGUMENT: You must feed a value for placeholder tensor 'inputs' with dtype float and shape [?,?,256]\n",
      "\t [[{{node inputs}}]]\n",
      "2023-08-14 21:42:16.316702: I tensorflow/core/common_runtime/executor.cc:1197] [/device:CPU:0] (DEBUG INFO) Executor start aborting (this does not indicate an error and you can ignore this message): INVALID_ARGUMENT: You must feed a value for placeholder tensor 'inputs' with dtype float and shape [?,?,256]\n",
      "\t [[{{node inputs}}]]\n",
      "2023-08-14 21:42:16.428863: I tensorflow/core/common_runtime/executor.cc:1197] [/device:CPU:0] (DEBUG INFO) Executor start aborting (this does not indicate an error and you can ignore this message): INVALID_ARGUMENT: You must feed a value for placeholder tensor 'inputs' with dtype float and shape [?,?,256]\n",
      "\t [[{{node inputs}}]]\n",
      "WARNING:absl:Found untraced functions such as _update_step_xla, embedding_10_layer_call_fn, embedding_10_layer_call_and_return_conditional_losses, embedding_11_layer_call_fn, embedding_11_layer_call_and_return_conditional_losses while saving (showing 5 of 31). These functions will not be directly callable after loading.\n",
      "2023-08-14 21:42:16.508372: I tensorflow/core/common_runtime/executor.cc:1197] [/device:CPU:0] (DEBUG INFO) Executor start aborting (this does not indicate an error and you can ignore this message): INVALID_ARGUMENT: You must feed a value for placeholder tensor 'serving_default_input_6' with dtype int32 and shape [?,?]\n",
      "\t [[{{node serving_default_input_6}}]]\n"
     ]
    },
    {
     "name": "stdout",
     "output_type": "stream",
     "text": [
      "INFO:tensorflow:Assets written to: ./models/gpt/assets\n"
     ]
    },
    {
     "name": "stderr",
     "output_type": "stream",
     "text": [
      "INFO:tensorflow:Assets written to: ./models/gpt/assets\n"
     ]
    }
   ],
   "source": [
    "# Save the final model\n",
    "gpt.save(\"./models/gpt\")"
   ]
  },
  {
   "cell_type": "markdown",
   "id": "d64e02d2-84dc-40c8-8446-40c09adf1e20",
   "metadata": {},
   "source": [
    "# 3. Generate text using the Transformer"
   ]
  },
  {
   "cell_type": "code",
   "execution_count": 62,
   "id": "4ad23adb-3ec9-4e9a-9a59-b9f9bafca649",
   "metadata": {},
   "outputs": [],
   "source": [
    "def print_probs(info, vocab, top_k=5):\n",
    "    for i in info:\n",
    "        highlighted_text = []\n",
    "        for word, att_score in zip(\n",
    "            i[\"prompt\"].split(), np.mean(i[\"atts\"], axis=0)\n",
    "        ):\n",
    "            highlighted_text.append(\n",
    "                '<span style=\"background-color:rgba(135,206,250,'\n",
    "                + str(att_score / max(np.mean(i[\"atts\"], axis=0)))\n",
    "                + ');\">'\n",
    "                + word\n",
    "                + \"</span>\"\n",
    "            )\n",
    "        highlighted_text = \" \".join(highlighted_text)\n",
    "        display(HTML(highlighted_text))\n",
    "\n",
    "        word_probs = i[\"word_probs\"]\n",
    "        p_sorted = np.sort(word_probs)[::-1][:top_k]\n",
    "        i_sorted = np.argsort(word_probs)[::-1][:top_k]\n",
    "        for p, i in zip(p_sorted, i_sorted):\n",
    "            print(f\"{vocab[i]}:   \\t{np.round(100*p,2)}%\")\n",
    "        print(\"--------\\n\")"
   ]
  },
  {
   "cell_type": "code",
   "execution_count": 63,
   "id": "3cf25578-d47c-4b26-8252-fcdf2316a4ac",
   "metadata": {},
   "outputs": [
    {
     "name": "stdout",
     "output_type": "stream",
     "text": [
      "\n",
      "generated text:\n",
      "wine review : us : new york : gewürztraminer : while voluptuous aromas of new french oak spice and ripe copper penny add rich notes of allspice , dried banana and honeycomb on this spicy expression . on the palate , it ' s soft and supple in mouthfeel , it ' s a rich but lengthy , spice flavors acidity and a vibrant spiciness that lingers long on the finish . \n",
      "\n"
     ]
    }
   ],
   "source": [
    "info = text_generator.generate(\n",
    "    \"wine review : us\", max_tokens=80, temperature=1.0\n",
    ")"
   ]
  },
  {
   "cell_type": "code",
   "execution_count": 64,
   "id": "4ae2da8e-9b7c-4b71-b37b-021115b3d7ea",
   "metadata": {},
   "outputs": [
    {
     "name": "stdout",
     "output_type": "stream",
     "text": [
      "\n",
      "generated text:\n",
      "wine review : italy : northeastern italy : chardonnay : this is a beautiful wine with intense aromas of toasted oak , butterscotch , vanilla and butterscotch . the palate is rich and creamy , with a shot of acidity . \n",
      "\n"
     ]
    }
   ],
   "source": [
    "info = text_generator.generate(\n",
    "    \"wine review : italy\", max_tokens=80, temperature=0.5\n",
    ")"
   ]
  },
  {
   "cell_type": "code",
   "execution_count": 65,
   "id": "5cae6d5d-263d-4455-b96c-f315cbe284ee",
   "metadata": {},
   "outputs": [
    {
     "name": "stdout",
     "output_type": "stream",
     "text": [
      "\n",
      "generated text:\n",
      "wine review : germany : mosel : riesling : this is a very minerally , refreshing riesling from start to finish in this dry , richly textured spätlese . it ' s a luscious , luscious peach and apricot flavors penetrate deeply on the palate , yet somehow manages to dazzle the palate . drink now through 2025 . \n",
      "\n"
     ]
    },
    {
     "data": {
      "text/html": [
       "<span style=\"background-color:rgba(135,206,250,0.73347235);\">wine</span> <span style=\"background-color:rgba(135,206,250,0.980084);\">review</span> <span style=\"background-color:rgba(135,206,250,1.0);\">:</span> <span style=\"background-color:rgba(135,206,250,0.38398936);\">germany</span>"
      ],
      "text/plain": [
       "<IPython.core.display.HTML object>"
      ]
     },
     "metadata": {},
     "output_type": "display_data"
    },
    {
     "name": "stdout",
     "output_type": "stream",
     "text": [
      "::   \t100.0%\n",
      "-:   \t0.0%\n",
      "zealand:   \t0.0%\n",
      "grosso:   \t0.0%\n",
      "africa:   \t0.0%\n",
      "--------\n",
      "\n"
     ]
    },
    {
     "data": {
      "text/html": [
       "<span style=\"background-color:rgba(135,206,250,0.5225);\">wine</span> <span style=\"background-color:rgba(135,206,250,0.6385759);\">review</span> <span style=\"background-color:rgba(135,206,250,0.8281424);\">:</span> <span style=\"background-color:rgba(135,206,250,1.0);\">germany</span> <span style=\"background-color:rgba(135,206,250,0.6730552);\">:</span>"
      ],
      "text/plain": [
       "<IPython.core.display.HTML object>"
      ]
     },
     "metadata": {},
     "output_type": "display_data"
    },
    {
     "name": "stdout",
     "output_type": "stream",
     "text": [
      "mosel:   \t99.37%\n",
      "pfalz:   \t0.36%\n",
      "rheingau:   \t0.19%\n",
      "nahe:   \t0.03%\n",
      "rheinhessen:   \t0.03%\n",
      "--------\n",
      "\n"
     ]
    },
    {
     "data": {
      "text/html": [
       "<span style=\"background-color:rgba(135,206,250,0.69560593);\">wine</span> <span style=\"background-color:rgba(135,206,250,1.0);\">review</span> <span style=\"background-color:rgba(135,206,250,0.5620955);\">:</span> <span style=\"background-color:rgba(135,206,250,0.31845894);\">germany</span> <span style=\"background-color:rgba(135,206,250,0.51269555);\">:</span> <span style=\"background-color:rgba(135,206,250,0.3003598);\">mosel</span>"
      ],
      "text/plain": [
       "<IPython.core.display.HTML object>"
      ]
     },
     "metadata": {},
     "output_type": "display_data"
    },
    {
     "name": "stdout",
     "output_type": "stream",
     "text": [
      "::   \t99.99%\n",
      "-:   \t0.01%\n",
      "noir:   \t0.0%\n",
      "blanc:   \t0.0%\n",
      "blend:   \t0.0%\n",
      "--------\n",
      "\n"
     ]
    },
    {
     "data": {
      "text/html": [
       "<span style=\"background-color:rgba(135,206,250,0.4224165);\">wine</span> <span style=\"background-color:rgba(135,206,250,0.4923387);\">review</span> <span style=\"background-color:rgba(135,206,250,0.3247226);\">:</span> <span style=\"background-color:rgba(135,206,250,0.5006391);\">germany</span> <span style=\"background-color:rgba(135,206,250,0.3368013);\">:</span> <span style=\"background-color:rgba(135,206,250,1.0);\">mosel</span> <span style=\"background-color:rgba(135,206,250,0.28678432);\">:</span>"
      ],
      "text/plain": [
       "<IPython.core.display.HTML object>"
      ]
     },
     "metadata": {},
     "output_type": "display_data"
    },
    {
     "name": "stdout",
     "output_type": "stream",
     "text": [
      "riesling:   \t100.0%\n",
      "pinot:   \t0.0%\n",
      "chardonnay:   \t0.0%\n",
      "weissburgunder:   \t0.0%\n",
      "white:   \t0.0%\n",
      "--------\n",
      "\n"
     ]
    },
    {
     "data": {
      "text/html": [
       "<span style=\"background-color:rgba(135,206,250,0.5348348);\">wine</span> <span style=\"background-color:rgba(135,206,250,1.0);\">review</span> <span style=\"background-color:rgba(135,206,250,0.42280382);\">:</span> <span style=\"background-color:rgba(135,206,250,0.18398462);\">germany</span> <span style=\"background-color:rgba(135,206,250,0.34203437);\">:</span> <span style=\"background-color:rgba(135,206,250,0.24227025);\">mosel</span> <span style=\"background-color:rgba(135,206,250,0.30453658);\">:</span> <span style=\"background-color:rgba(135,206,250,0.13513948);\">riesling</span>"
      ],
      "text/plain": [
       "<IPython.core.display.HTML object>"
      ]
     },
     "metadata": {},
     "output_type": "display_data"
    },
    {
     "name": "stdout",
     "output_type": "stream",
     "text": [
      "::   \t100.0%\n",
      "-:   \t0.0%\n",
      "blanc:   \t0.0%\n",
      "grosso:   \t0.0%\n",
      "blend:   \t0.0%\n",
      "--------\n",
      "\n"
     ]
    },
    {
     "data": {
      "text/html": [
       "<span style=\"background-color:rgba(135,206,250,0.82347566);\">wine</span> <span style=\"background-color:rgba(135,206,250,1.0);\">review</span> <span style=\"background-color:rgba(135,206,250,0.5802439);\">:</span> <span style=\"background-color:rgba(135,206,250,0.688165);\">germany</span> <span style=\"background-color:rgba(135,206,250,0.72289425);\">:</span> <span style=\"background-color:rgba(135,206,250,0.97129655);\">mosel</span> <span style=\"background-color:rgba(135,206,250,0.6452472);\">:</span> <span style=\"background-color:rgba(135,206,250,0.74573916);\">riesling</span> <span style=\"background-color:rgba(135,206,250,0.8389377);\">:</span>"
      ],
      "text/plain": [
       "<IPython.core.display.HTML object>"
      ]
     },
     "metadata": {},
     "output_type": "display_data"
    },
    {
     "name": "stdout",
     "output_type": "stream",
     "text": [
      "a:   \t22.36%\n",
      "while:   \t19.02%\n",
      "this:   \t13.88%\n",
      "the:   \t7.98%\n",
      "hints:   \t4.46%\n",
      "--------\n",
      "\n"
     ]
    },
    {
     "data": {
      "text/html": [
       "<span style=\"background-color:rgba(135,206,250,0.7064446);\">wine</span> <span style=\"background-color:rgba(135,206,250,1.0);\">review</span> <span style=\"background-color:rgba(135,206,250,0.35730925);\">:</span> <span style=\"background-color:rgba(135,206,250,0.573905);\">germany</span> <span style=\"background-color:rgba(135,206,250,0.4915774);\">:</span> <span style=\"background-color:rgba(135,206,250,0.48972067);\">mosel</span> <span style=\"background-color:rgba(135,206,250,0.26887956);\">:</span> <span style=\"background-color:rgba(135,206,250,0.44061103);\">riesling</span> <span style=\"background-color:rgba(135,206,250,0.46530178);\">:</span> <span style=\"background-color:rgba(135,206,250,0.21189795);\">this</span>"
      ],
      "text/plain": [
       "<IPython.core.display.HTML object>"
      ]
     },
     "metadata": {},
     "output_type": "display_data"
    },
    {
     "name": "stdout",
     "output_type": "stream",
     "text": [
      "is:   \t36.63%\n",
      "wine:   \t18.94%\n",
      "intensely:   \t8.88%\n",
      "riesling:   \t6.73%\n",
      "off:   \t5.72%\n",
      "--------\n",
      "\n"
     ]
    },
    {
     "data": {
      "text/html": [
       "<span style=\"background-color:rgba(135,206,250,0.734474);\">wine</span> <span style=\"background-color:rgba(135,206,250,1.0);\">review</span> <span style=\"background-color:rgba(135,206,250,0.40137842);\">:</span> <span style=\"background-color:rgba(135,206,250,0.43501592);\">germany</span> <span style=\"background-color:rgba(135,206,250,0.49337474);\">:</span> <span style=\"background-color:rgba(135,206,250,0.4463099);\">mosel</span> <span style=\"background-color:rgba(135,206,250,0.29913002);\">:</span> <span style=\"background-color:rgba(135,206,250,0.29116902);\">riesling</span> <span style=\"background-color:rgba(135,206,250,0.47738987);\">:</span> <span style=\"background-color:rgba(135,206,250,0.46332547);\">this</span> <span style=\"background-color:rgba(135,206,250,0.20881663);\">is</span>"
      ],
      "text/plain": [
       "<IPython.core.display.HTML object>"
      ]
     },
     "metadata": {},
     "output_type": "display_data"
    },
    {
     "name": "stdout",
     "output_type": "stream",
     "text": [
      "a:   \t94.26%\n",
      "an:   \t5.01%\n",
      "intensely:   \t0.22%\n",
      "off:   \t0.09%\n",
      "remarkably:   \t0.06%\n",
      "--------\n",
      "\n"
     ]
    },
    {
     "data": {
      "text/html": [
       "<span style=\"background-color:rgba(135,206,250,0.8068025);\">wine</span> <span style=\"background-color:rgba(135,206,250,1.0);\">review</span> <span style=\"background-color:rgba(135,206,250,0.38718265);\">:</span> <span style=\"background-color:rgba(135,206,250,0.5289981);\">germany</span> <span style=\"background-color:rgba(135,206,250,0.38518125);\">:</span> <span style=\"background-color:rgba(135,206,250,0.4774926);\">mosel</span> <span style=\"background-color:rgba(135,206,250,0.21091892);\">:</span> <span style=\"background-color:rgba(135,206,250,0.4004888);\">riesling</span> <span style=\"background-color:rgba(135,206,250,0.43693924);\">:</span> <span style=\"background-color:rgba(135,206,250,0.4867182);\">this</span> <span style=\"background-color:rgba(135,206,250,0.53821766);\">is</span> <span style=\"background-color:rgba(135,206,250,0.25598872);\">a</span>"
      ],
      "text/plain": [
       "<IPython.core.display.HTML object>"
      ]
     },
     "metadata": {},
     "output_type": "display_data"
    },
    {
     "name": "stdout",
     "output_type": "stream",
     "text": [
      "bit:   \t36.01%\n",
      "straightforward:   \t6.11%\n",
      "delicate:   \t4.33%\n",
      "delightfully:   \t4.15%\n",
      "rich:   \t3.1%\n",
      "--------\n",
      "\n"
     ]
    },
    {
     "data": {
      "text/html": [
       "<span style=\"background-color:rgba(135,206,250,0.6403373);\">wine</span> <span style=\"background-color:rgba(135,206,250,1.0);\">review</span> <span style=\"background-color:rgba(135,206,250,0.39368406);\">:</span> <span style=\"background-color:rgba(135,206,250,0.3256012);\">germany</span> <span style=\"background-color:rgba(135,206,250,0.41015103);\">:</span> <span style=\"background-color:rgba(135,206,250,0.46415105);\">mosel</span> <span style=\"background-color:rgba(135,206,250,0.24823853);\">:</span> <span style=\"background-color:rgba(135,206,250,0.36324146);\">riesling</span> <span style=\"background-color:rgba(135,206,250,0.36447382);\">:</span> <span style=\"background-color:rgba(135,206,250,0.35334367);\">this</span> <span style=\"background-color:rgba(135,206,250,0.39379075);\">is</span> <span style=\"background-color:rgba(135,206,250,0.63143194);\">a</span> <span style=\"background-color:rgba(135,206,250,0.27063972);\">very</span>"
      ],
      "text/plain": [
       "<IPython.core.display.HTML object>"
      ]
     },
     "metadata": {},
     "output_type": "display_data"
    },
    {
     "name": "stdout",
     "output_type": "stream",
     "text": [
      "dry:   \t24.24%\n",
      "fresh:   \t10.89%\n",
      "perfumed:   \t10.35%\n",
      "floral:   \t6.81%\n",
      "rich:   \t5.1%\n",
      "--------\n",
      "\n"
     ]
    },
    {
     "data": {
      "text/html": [
       "<span style=\"background-color:rgba(135,206,250,0.6760601);\">wine</span> <span style=\"background-color:rgba(135,206,250,1.0);\">review</span> <span style=\"background-color:rgba(135,206,250,0.4335477);\">:</span> <span style=\"background-color:rgba(135,206,250,0.5165427);\">germany</span> <span style=\"background-color:rgba(135,206,250,0.3215897);\">:</span> <span style=\"background-color:rgba(135,206,250,0.36395457);\">mosel</span> <span style=\"background-color:rgba(135,206,250,0.25458995);\">:</span> <span style=\"background-color:rgba(135,206,250,0.46479106);\">riesling</span> <span style=\"background-color:rgba(135,206,250,0.3959589);\">:</span> <span style=\"background-color:rgba(135,206,250,0.78039306);\">this</span> <span style=\"background-color:rgba(135,206,250,0.97379875);\">is</span> <span style=\"background-color:rgba(135,206,250,0.8471016);\">a</span> <span style=\"background-color:rgba(135,206,250,0.687616);\">very</span> <span style=\"background-color:rgba(135,206,250,0.35724136);\">minerally</span>"
      ],
      "text/plain": [
       "<IPython.core.display.HTML object>"
      ]
     },
     "metadata": {},
     "output_type": "display_data"
    },
    {
     "name": "stdout",
     "output_type": "stream",
     "text": [
      ",:   \t92.58%\n",
      "and:   \t6.45%\n",
      "yet:   \t0.27%\n",
      "wine:   \t0.25%\n",
      "riesling:   \t0.17%\n",
      "--------\n",
      "\n"
     ]
    },
    {
     "data": {
      "text/html": [
       "<span style=\"background-color:rgba(135,206,250,0.4658992);\">wine</span> <span style=\"background-color:rgba(135,206,250,0.7237686);\">review</span> <span style=\"background-color:rgba(135,206,250,0.35663414);\">:</span> <span style=\"background-color:rgba(135,206,250,0.54890174);\">germany</span> <span style=\"background-color:rgba(135,206,250,0.24694684);\">:</span> <span style=\"background-color:rgba(135,206,250,0.3053596);\">mosel</span> <span style=\"background-color:rgba(135,206,250,0.193289);\">:</span> <span style=\"background-color:rgba(135,206,250,0.40355137);\">riesling</span> <span style=\"background-color:rgba(135,206,250,0.3238788);\">:</span> <span style=\"background-color:rgba(135,206,250,0.49003094);\">this</span> <span style=\"background-color:rgba(135,206,250,0.6420441);\">is</span> <span style=\"background-color:rgba(135,206,250,0.47699124);\">a</span> <span style=\"background-color:rgba(135,206,250,0.5083083);\">very</span> <span style=\"background-color:rgba(135,206,250,1.0);\">minerally</span> <span style=\"background-color:rgba(135,206,250,0.36820105);\">,</span>"
      ],
      "text/plain": [
       "<IPython.core.display.HTML object>"
      ]
     },
     "metadata": {},
     "output_type": "display_data"
    },
    {
     "name": "stdout",
     "output_type": "stream",
     "text": [
      "dry:   \t20.44%\n",
      "deeply:   \t15.16%\n",
      "intensely:   \t6.74%\n",
      "mineral:   \t6.16%\n",
      "yet:   \t5.6%\n",
      "--------\n",
      "\n"
     ]
    },
    {
     "data": {
      "text/html": [
       "<span style=\"background-color:rgba(135,206,250,0.60230935);\">wine</span> <span style=\"background-color:rgba(135,206,250,1.0);\">review</span> <span style=\"background-color:rgba(135,206,250,0.4005943);\">:</span> <span style=\"background-color:rgba(135,206,250,0.57133347);\">germany</span> <span style=\"background-color:rgba(135,206,250,0.295736);\">:</span> <span style=\"background-color:rgba(135,206,250,0.33649677);\">mosel</span> <span style=\"background-color:rgba(135,206,250,0.24714017);\">:</span> <span style=\"background-color:rgba(135,206,250,0.4277641);\">riesling</span> <span style=\"background-color:rgba(135,206,250,0.32545108);\">:</span> <span style=\"background-color:rgba(135,206,250,0.42033887);\">this</span> <span style=\"background-color:rgba(135,206,250,0.4518202);\">is</span> <span style=\"background-color:rgba(135,206,250,0.46935797);\">a</span> <span style=\"background-color:rgba(135,206,250,0.26379132);\">very</span> <span style=\"background-color:rgba(135,206,250,0.2881774);\">minerally</span> <span style=\"background-color:rgba(135,206,250,0.5946122);\">,</span> <span style=\"background-color:rgba(135,206,250,0.34601924);\">refreshing</span>"
      ],
      "text/plain": [
       "<IPython.core.display.HTML object>"
      ]
     },
     "metadata": {},
     "output_type": "display_data"
    },
    {
     "name": "stdout",
     "output_type": "stream",
     "text": [
      "wine:   \t44.96%\n",
      "riesling:   \t44.51%\n",
      ",:   \t3.76%\n",
      "and:   \t2.91%\n",
      "white:   \t1.36%\n",
      "--------\n",
      "\n"
     ]
    },
    {
     "data": {
      "text/html": [
       "<span style=\"background-color:rgba(135,206,250,0.3115952);\">wine</span> <span style=\"background-color:rgba(135,206,250,1.0);\">review</span> <span style=\"background-color:rgba(135,206,250,0.2909922);\">:</span> <span style=\"background-color:rgba(135,206,250,0.23144084);\">germany</span> <span style=\"background-color:rgba(135,206,250,0.15124692);\">:</span> <span style=\"background-color:rgba(135,206,250,0.0747976);\">mosel</span> <span style=\"background-color:rgba(135,206,250,0.12855469);\">:</span> <span style=\"background-color:rgba(135,206,250,0.07979206);\">riesling</span> <span style=\"background-color:rgba(135,206,250,0.19443944);\">:</span> <span style=\"background-color:rgba(135,206,250,0.29962876);\">this</span> <span style=\"background-color:rgba(135,206,250,0.39580575);\">is</span> <span style=\"background-color:rgba(135,206,250,0.4126896);\">a</span> <span style=\"background-color:rgba(135,206,250,0.12928453);\">very</span> <span style=\"background-color:rgba(135,206,250,0.21954818);\">minerally</span> <span style=\"background-color:rgba(135,206,250,0.36006057);\">,</span> <span style=\"background-color:rgba(135,206,250,0.30472803);\">refreshing</span> <span style=\"background-color:rgba(135,206,250,0.25211465);\">riesling</span>"
      ],
      "text/plain": [
       "<IPython.core.display.HTML object>"
      ]
     },
     "metadata": {},
     "output_type": "display_data"
    },
    {
     "name": "stdout",
     "output_type": "stream",
     "text": [
      "that:   \t32.12%\n",
      ".:   \t31.94%\n",
      ",:   \t15.41%\n",
      "with:   \t14.12%\n",
      "from:   \t5.23%\n",
      "--------\n",
      "\n"
     ]
    },
    {
     "data": {
      "text/html": [
       "<span style=\"background-color:rgba(135,206,250,0.62191445);\">wine</span> <span style=\"background-color:rgba(135,206,250,0.9746122);\">review</span> <span style=\"background-color:rgba(135,206,250,0.52564675);\">:</span> <span style=\"background-color:rgba(135,206,250,0.8209403);\">germany</span> <span style=\"background-color:rgba(135,206,250,0.550513);\">:</span> <span style=\"background-color:rgba(135,206,250,0.52091336);\">mosel</span> <span style=\"background-color:rgba(135,206,250,0.30358738);\">:</span> <span style=\"background-color:rgba(135,206,250,0.45846248);\">riesling</span> <span style=\"background-color:rgba(135,206,250,0.33116797);\">:</span> <span style=\"background-color:rgba(135,206,250,0.25103623);\">this</span> <span style=\"background-color:rgba(135,206,250,0.2639068);\">is</span> <span style=\"background-color:rgba(135,206,250,0.26134548);\">a</span> <span style=\"background-color:rgba(135,206,250,0.21605298);\">very</span> <span style=\"background-color:rgba(135,206,250,0.7554521);\">minerally</span> <span style=\"background-color:rgba(135,206,250,0.47084332);\">,</span> <span style=\"background-color:rgba(135,206,250,0.84197396);\">refreshing</span> <span style=\"background-color:rgba(135,206,250,1.0);\">riesling</span> <span style=\"background-color:rgba(135,206,250,0.35459393);\">from</span>"
      ],
      "text/plain": [
       "<IPython.core.display.HTML object>"
      ]
     },
     "metadata": {},
     "output_type": "display_data"
    },
    {
     "name": "stdout",
     "output_type": "stream",
     "text": [
      "start:   \t49.39%\n",
      "the:   \t23.2%\n",
      "a:   \t14.1%\n",
      "nose:   \t6.36%\n",
      "mosel:   \t3.89%\n",
      "--------\n",
      "\n"
     ]
    },
    {
     "data": {
      "text/html": [
       "<span style=\"background-color:rgba(135,206,250,0.42165452);\">wine</span> <span style=\"background-color:rgba(135,206,250,1.0);\">review</span> <span style=\"background-color:rgba(135,206,250,0.5344838);\">:</span> <span style=\"background-color:rgba(135,206,250,0.29881662);\">germany</span> <span style=\"background-color:rgba(135,206,250,0.23266196);\">:</span> <span style=\"background-color:rgba(135,206,250,0.092038825);\">mosel</span> <span style=\"background-color:rgba(135,206,250,0.14776903);\">:</span> <span style=\"background-color:rgba(135,206,250,0.14733502);\">riesling</span> <span style=\"background-color:rgba(135,206,250,0.16886353);\">:</span> <span style=\"background-color:rgba(135,206,250,0.2731174);\">this</span> <span style=\"background-color:rgba(135,206,250,0.23269881);\">is</span> <span style=\"background-color:rgba(135,206,250,0.18570137);\">a</span> <span style=\"background-color:rgba(135,206,250,0.07159034);\">very</span> <span style=\"background-color:rgba(135,206,250,0.22309427);\">minerally</span> <span style=\"background-color:rgba(135,206,250,0.28188986);\">,</span> <span style=\"background-color:rgba(135,206,250,0.25639877);\">refreshing</span> <span style=\"background-color:rgba(135,206,250,0.30267447);\">riesling</span> <span style=\"background-color:rgba(135,206,250,0.98308825);\">from</span> <span style=\"background-color:rgba(135,206,250,0.48918495);\">start</span>"
      ],
      "text/plain": [
       "<IPython.core.display.HTML object>"
      ]
     },
     "metadata": {},
     "output_type": "display_data"
    },
    {
     "name": "stdout",
     "output_type": "stream",
     "text": [
      "to:   \t100.0%\n",
      ",:   \t0.0%\n",
      ".:   \t0.0%\n",
      "-:   \t0.0%\n",
      "it:   \t0.0%\n",
      "--------\n",
      "\n"
     ]
    },
    {
     "data": {
      "text/html": [
       "<span style=\"background-color:rgba(135,206,250,0.1603201);\">wine</span> <span style=\"background-color:rgba(135,206,250,0.2086672);\">review</span> <span style=\"background-color:rgba(135,206,250,0.11780354);\">:</span> <span style=\"background-color:rgba(135,206,250,0.22530551);\">germany</span> <span style=\"background-color:rgba(135,206,250,0.07811419);\">:</span> <span style=\"background-color:rgba(135,206,250,0.07114285);\">mosel</span> <span style=\"background-color:rgba(135,206,250,0.058919698);\">:</span> <span style=\"background-color:rgba(135,206,250,0.09628637);\">riesling</span> <span style=\"background-color:rgba(135,206,250,0.06306017);\">:</span> <span style=\"background-color:rgba(135,206,250,0.09251328);\">this</span> <span style=\"background-color:rgba(135,206,250,0.06191985);\">is</span> <span style=\"background-color:rgba(135,206,250,0.050170477);\">a</span> <span style=\"background-color:rgba(135,206,250,0.044682298);\">very</span> <span style=\"background-color:rgba(135,206,250,0.07094028);\">minerally</span> <span style=\"background-color:rgba(135,206,250,0.065031014);\">,</span> <span style=\"background-color:rgba(135,206,250,0.07260203);\">refreshing</span> <span style=\"background-color:rgba(135,206,250,0.13759193);\">riesling</span> <span style=\"background-color:rgba(135,206,250,0.19783658);\">from</span> <span style=\"background-color:rgba(135,206,250,1.0);\">start</span> <span style=\"background-color:rgba(135,206,250,0.070747666);\">to</span>"
      ],
      "text/plain": [
       "<IPython.core.display.HTML object>"
      ]
     },
     "metadata": {},
     "output_type": "display_data"
    },
    {
     "name": "stdout",
     "output_type": "stream",
     "text": [
      "finish:   \t99.95%\n",
      "the:   \t0.04%\n",
      "a:   \t0.0%\n",
      "nose:   \t0.0%\n",
      "this:   \t0.0%\n",
      "--------\n",
      "\n"
     ]
    },
    {
     "data": {
      "text/html": [
       "<span style=\"background-color:rgba(135,206,250,0.41028655);\">wine</span> <span style=\"background-color:rgba(135,206,250,1.0);\">review</span> <span style=\"background-color:rgba(135,206,250,0.5181265);\">:</span> <span style=\"background-color:rgba(135,206,250,0.4855353);\">germany</span> <span style=\"background-color:rgba(135,206,250,0.2850307);\">:</span> <span style=\"background-color:rgba(135,206,250,0.15489975);\">mosel</span> <span style=\"background-color:rgba(135,206,250,0.197283);\">:</span> <span style=\"background-color:rgba(135,206,250,0.17908078);\">riesling</span> <span style=\"background-color:rgba(135,206,250,0.2130315);\">:</span> <span style=\"background-color:rgba(135,206,250,0.16510618);\">this</span> <span style=\"background-color:rgba(135,206,250,0.25786555);\">is</span> <span style=\"background-color:rgba(135,206,250,0.20702016);\">a</span> <span style=\"background-color:rgba(135,206,250,0.09602887);\">very</span> <span style=\"background-color:rgba(135,206,250,0.16272296);\">minerally</span> <span style=\"background-color:rgba(135,206,250,0.15036365);\">,</span> <span style=\"background-color:rgba(135,206,250,0.1885578);\">refreshing</span> <span style=\"background-color:rgba(135,206,250,0.21442635);\">riesling</span> <span style=\"background-color:rgba(135,206,250,0.41900384);\">from</span> <span style=\"background-color:rgba(135,206,250,0.5431076);\">start</span> <span style=\"background-color:rgba(135,206,250,0.93524605);\">to</span> <span style=\"background-color:rgba(135,206,250,0.26552945);\">finish</span>"
      ],
      "text/plain": [
       "<IPython.core.display.HTML object>"
      ]
     },
     "metadata": {},
     "output_type": "display_data"
    },
    {
     "name": "stdout",
     "output_type": "stream",
     "text": [
      ".:   \t61.49%\n",
      ",:   \t34.59%\n",
      "with:   \t1.63%\n",
      "that:   \t0.73%\n",
      "in:   \t0.72%\n",
      "--------\n",
      "\n"
     ]
    },
    {
     "data": {
      "text/html": [
       "<span style=\"background-color:rgba(135,206,250,0.28756225);\">wine</span> <span style=\"background-color:rgba(135,206,250,0.40406454);\">review</span> <span style=\"background-color:rgba(135,206,250,0.38624814);\">:</span> <span style=\"background-color:rgba(135,206,250,0.6394502);\">germany</span> <span style=\"background-color:rgba(135,206,250,0.2632029);\">:</span> <span style=\"background-color:rgba(135,206,250,0.22085725);\">mosel</span> <span style=\"background-color:rgba(135,206,250,0.18899344);\">:</span> <span style=\"background-color:rgba(135,206,250,0.34453055);\">riesling</span> <span style=\"background-color:rgba(135,206,250,0.1928975);\">:</span> <span style=\"background-color:rgba(135,206,250,0.23782602);\">this</span> <span style=\"background-color:rgba(135,206,250,0.15478593);\">is</span> <span style=\"background-color:rgba(135,206,250,0.10260116);\">a</span> <span style=\"background-color:rgba(135,206,250,0.120293364);\">very</span> <span style=\"background-color:rgba(135,206,250,0.24691477);\">minerally</span> <span style=\"background-color:rgba(135,206,250,0.16159679);\">,</span> <span style=\"background-color:rgba(135,206,250,0.24008444);\">refreshing</span> <span style=\"background-color:rgba(135,206,250,0.23279862);\">riesling</span> <span style=\"background-color:rgba(135,206,250,0.31394577);\">from</span> <span style=\"background-color:rgba(135,206,250,0.8598591);\">start</span> <span style=\"background-color:rgba(135,206,250,0.32685238);\">to</span> <span style=\"background-color:rgba(135,206,250,1.0);\">finish</span> <span style=\"background-color:rgba(135,206,250,0.16590784);\">in</span>"
      ],
      "text/plain": [
       "<IPython.core.display.HTML object>"
      ]
     },
     "metadata": {},
     "output_type": "display_data"
    },
    {
     "name": "stdout",
     "output_type": "stream",
     "text": [
      "this:   \t62.83%\n",
      "the:   \t22.57%\n",
      "a:   \t11.26%\n",
      "its:   \t2.9%\n",
      "an:   \t0.1%\n",
      "--------\n",
      "\n"
     ]
    },
    {
     "data": {
      "text/html": [
       "<span style=\"background-color:rgba(135,206,250,0.37058812);\">wine</span> <span style=\"background-color:rgba(135,206,250,0.518689);\">review</span> <span style=\"background-color:rgba(135,206,250,0.5234476);\">:</span> <span style=\"background-color:rgba(135,206,250,1.0);\">germany</span> <span style=\"background-color:rgba(135,206,250,0.39970654);\">:</span> <span style=\"background-color:rgba(135,206,250,0.25874203);\">mosel</span> <span style=\"background-color:rgba(135,206,250,0.15382093);\">:</span> <span style=\"background-color:rgba(135,206,250,0.45003536);\">riesling</span> <span style=\"background-color:rgba(135,206,250,0.19317265);\">:</span> <span style=\"background-color:rgba(135,206,250,0.10272731);\">this</span> <span style=\"background-color:rgba(135,206,250,0.21233265);\">is</span> <span style=\"background-color:rgba(135,206,250,0.077057436);\">a</span> <span style=\"background-color:rgba(135,206,250,0.07301624);\">very</span> <span style=\"background-color:rgba(135,206,250,0.15498358);\">minerally</span> <span style=\"background-color:rgba(135,206,250,0.10743695);\">,</span> <span style=\"background-color:rgba(135,206,250,0.16683298);\">refreshing</span> <span style=\"background-color:rgba(135,206,250,0.167661);\">riesling</span> <span style=\"background-color:rgba(135,206,250,0.15542838);\">from</span> <span style=\"background-color:rgba(135,206,250,0.26800066);\">start</span> <span style=\"background-color:rgba(135,206,250,0.20167883);\">to</span> <span style=\"background-color:rgba(135,206,250,0.36465645);\">finish</span> <span style=\"background-color:rgba(135,206,250,0.32516912);\">in</span> <span style=\"background-color:rgba(135,206,250,0.28484812);\">this</span>"
      ],
      "text/plain": [
       "<IPython.core.display.HTML object>"
      ]
     },
     "metadata": {},
     "output_type": "display_data"
    },
    {
     "name": "stdout",
     "output_type": "stream",
     "text": [
      "dry:   \t50.54%\n",
      "feather:   \t14.29%\n",
      "off:   \t13.85%\n",
      "intensely:   \t3.27%\n",
      "lip:   \t2.67%\n",
      "--------\n",
      "\n"
     ]
    },
    {
     "data": {
      "text/html": [
       "<span style=\"background-color:rgba(135,206,250,0.18518895);\">wine</span> <span style=\"background-color:rgba(135,206,250,0.23017074);\">review</span> <span style=\"background-color:rgba(135,206,250,0.26991007);\">:</span> <span style=\"background-color:rgba(135,206,250,0.42060682);\">germany</span> <span style=\"background-color:rgba(135,206,250,0.16258876);\">:</span> <span style=\"background-color:rgba(135,206,250,0.1336568);\">mosel</span> <span style=\"background-color:rgba(135,206,250,0.09291807);\">:</span> <span style=\"background-color:rgba(135,206,250,0.36419684);\">riesling</span> <span style=\"background-color:rgba(135,206,250,0.14697665);\">:</span> <span style=\"background-color:rgba(135,206,250,0.11082724);\">this</span> <span style=\"background-color:rgba(135,206,250,0.14303064);\">is</span> <span style=\"background-color:rgba(135,206,250,0.03821373);\">a</span> <span style=\"background-color:rgba(135,206,250,0.027517503);\">very</span> <span style=\"background-color:rgba(135,206,250,0.05632391);\">minerally</span> <span style=\"background-color:rgba(135,206,250,0.060573716);\">,</span> <span style=\"background-color:rgba(135,206,250,0.089581735);\">refreshing</span> <span style=\"background-color:rgba(135,206,250,0.18068771);\">riesling</span> <span style=\"background-color:rgba(135,206,250,0.15362352);\">from</span> <span style=\"background-color:rgba(135,206,250,0.26976216);\">start</span> <span style=\"background-color:rgba(135,206,250,0.20314223);\">to</span> <span style=\"background-color:rgba(135,206,250,0.5431903);\">finish</span> <span style=\"background-color:rgba(135,206,250,0.28303975);\">in</span> <span style=\"background-color:rgba(135,206,250,1.0);\">this</span> <span style=\"background-color:rgba(135,206,250,0.17146192);\">dry</span>"
      ],
      "text/plain": [
       "<IPython.core.display.HTML object>"
      ]
     },
     "metadata": {},
     "output_type": "display_data"
    },
    {
     "name": "stdout",
     "output_type": "stream",
     "text": [
      ",:   \t79.75%\n",
      "riesling:   \t12.15%\n",
      "-:   \t6.46%\n",
      "and:   \t0.47%\n",
      "yet:   \t0.29%\n",
      "--------\n",
      "\n"
     ]
    },
    {
     "data": {
      "text/html": [
       "<span style=\"background-color:rgba(135,206,250,0.21844953);\">wine</span> <span style=\"background-color:rgba(135,206,250,0.32017764);\">review</span> <span style=\"background-color:rgba(135,206,250,0.43879533);\">:</span> <span style=\"background-color:rgba(135,206,250,0.6189265);\">germany</span> <span style=\"background-color:rgba(135,206,250,0.20199588);\">:</span> <span style=\"background-color:rgba(135,206,250,0.17531714);\">mosel</span> <span style=\"background-color:rgba(135,206,250,0.13261136);\">:</span> <span style=\"background-color:rgba(135,206,250,0.3242156);\">riesling</span> <span style=\"background-color:rgba(135,206,250,0.1710213);\">:</span> <span style=\"background-color:rgba(135,206,250,0.20726171);\">this</span> <span style=\"background-color:rgba(135,206,250,0.22818492);\">is</span> <span style=\"background-color:rgba(135,206,250,0.06752821);\">a</span> <span style=\"background-color:rgba(135,206,250,0.076243386);\">very</span> <span style=\"background-color:rgba(135,206,250,0.11900689);\">minerally</span> <span style=\"background-color:rgba(135,206,250,0.057953276);\">,</span> <span style=\"background-color:rgba(135,206,250,0.14222115);\">refreshing</span> <span style=\"background-color:rgba(135,206,250,0.17194632);\">riesling</span> <span style=\"background-color:rgba(135,206,250,0.16344784);\">from</span> <span style=\"background-color:rgba(135,206,250,0.22320934);\">start</span> <span style=\"background-color:rgba(135,206,250,0.18202834);\">to</span> <span style=\"background-color:rgba(135,206,250,0.3400316);\">finish</span> <span style=\"background-color:rgba(135,206,250,0.26714316);\">in</span> <span style=\"background-color:rgba(135,206,250,0.85868573);\">this</span> <span style=\"background-color:rgba(135,206,250,1.0);\">dry</span> <span style=\"background-color:rgba(135,206,250,0.37384513);\">,</span>"
      ],
      "text/plain": [
       "<IPython.core.display.HTML object>"
      ]
     },
     "metadata": {},
     "output_type": "display_data"
    },
    {
     "name": "stdout",
     "output_type": "stream",
     "text": [
      "intensely:   \t22.85%\n",
      "full:   \t9.16%\n",
      "medium:   \t7.27%\n",
      "yet:   \t6.53%\n",
      "crisp:   \t4.26%\n",
      "--------\n",
      "\n"
     ]
    },
    {
     "data": {
      "text/html": [
       "<span style=\"background-color:rgba(135,206,250,0.34616044);\">wine</span> <span style=\"background-color:rgba(135,206,250,0.32005844);\">review</span> <span style=\"background-color:rgba(135,206,250,1.0);\">:</span> <span style=\"background-color:rgba(135,206,250,0.7994873);\">germany</span> <span style=\"background-color:rgba(135,206,250,0.5807718);\">:</span> <span style=\"background-color:rgba(135,206,250,0.3056879);\">mosel</span> <span style=\"background-color:rgba(135,206,250,0.223941);\">:</span> <span style=\"background-color:rgba(135,206,250,0.27062058);\">riesling</span> <span style=\"background-color:rgba(135,206,250,0.18375964);\">:</span> <span style=\"background-color:rgba(135,206,250,0.07544821);\">this</span> <span style=\"background-color:rgba(135,206,250,0.071437374);\">is</span> <span style=\"background-color:rgba(135,206,250,0.039604373);\">a</span> <span style=\"background-color:rgba(135,206,250,0.054928813);\">very</span> <span style=\"background-color:rgba(135,206,250,0.13040778);\">minerally</span> <span style=\"background-color:rgba(135,206,250,0.070647694);\">,</span> <span style=\"background-color:rgba(135,206,250,0.14133267);\">refreshing</span> <span style=\"background-color:rgba(135,206,250,0.14464171);\">riesling</span> <span style=\"background-color:rgba(135,206,250,0.08433161);\">from</span> <span style=\"background-color:rgba(135,206,250,0.1624428);\">start</span> <span style=\"background-color:rgba(135,206,250,0.07141471);\">to</span> <span style=\"background-color:rgba(135,206,250,0.23121455);\">finish</span> <span style=\"background-color:rgba(135,206,250,0.09366977);\">in</span> <span style=\"background-color:rgba(135,206,250,0.24917632);\">this</span> <span style=\"background-color:rgba(135,206,250,0.42657602);\">dry</span> <span style=\"background-color:rgba(135,206,250,0.40806586);\">,</span> <span style=\"background-color:rgba(135,206,250,0.23647363);\">richly</span>"
      ],
      "text/plain": [
       "<IPython.core.display.HTML object>"
      ]
     },
     "metadata": {},
     "output_type": "display_data"
    },
    {
     "name": "stdout",
     "output_type": "stream",
     "text": [
      "textured:   \t97.68%\n",
      "fruity:   \t1.36%\n",
      "concentrated:   \t0.52%\n",
      "layered:   \t0.18%\n",
      "perfumed:   \t0.07%\n",
      "--------\n",
      "\n"
     ]
    },
    {
     "data": {
      "text/html": [
       "<span style=\"background-color:rgba(135,206,250,0.2640567);\">wine</span> <span style=\"background-color:rgba(135,206,250,0.31370768);\">review</span> <span style=\"background-color:rgba(135,206,250,0.57161295);\">:</span> <span style=\"background-color:rgba(135,206,250,0.7983832);\">germany</span> <span style=\"background-color:rgba(135,206,250,0.22825758);\">:</span> <span style=\"background-color:rgba(135,206,250,0.21586399);\">mosel</span> <span style=\"background-color:rgba(135,206,250,0.13413043);\">:</span> <span style=\"background-color:rgba(135,206,250,0.6016264);\">riesling</span> <span style=\"background-color:rgba(135,206,250,0.1985152);\">:</span> <span style=\"background-color:rgba(135,206,250,0.17261387);\">this</span> <span style=\"background-color:rgba(135,206,250,0.23188125);\">is</span> <span style=\"background-color:rgba(135,206,250,0.046235863);\">a</span> <span style=\"background-color:rgba(135,206,250,0.03634542);\">very</span> <span style=\"background-color:rgba(135,206,250,0.061308417);\">minerally</span> <span style=\"background-color:rgba(135,206,250,0.05846894);\">,</span> <span style=\"background-color:rgba(135,206,250,0.081160955);\">refreshing</span> <span style=\"background-color:rgba(135,206,250,0.24618791);\">riesling</span> <span style=\"background-color:rgba(135,206,250,0.1221354);\">from</span> <span style=\"background-color:rgba(135,206,250,0.21332997);\">start</span> <span style=\"background-color:rgba(135,206,250,0.15724242);\">to</span> <span style=\"background-color:rgba(135,206,250,0.39551002);\">finish</span> <span style=\"background-color:rgba(135,206,250,0.2561027);\">in</span> <span style=\"background-color:rgba(135,206,250,1.0);\">this</span> <span style=\"background-color:rgba(135,206,250,0.21860605);\">dry</span> <span style=\"background-color:rgba(135,206,250,0.45199525);\">,</span> <span style=\"background-color:rgba(135,206,250,0.48382077);\">richly</span> <span style=\"background-color:rgba(135,206,250,0.35893175);\">textured</span>"
      ],
      "text/plain": [
       "<IPython.core.display.HTML object>"
      ]
     },
     "metadata": {},
     "output_type": "display_data"
    },
    {
     "name": "stdout",
     "output_type": "stream",
     "text": [
      "riesling:   \t48.48%\n",
      "auslese:   \t22.3%\n",
      "spätlese:   \t16.68%\n",
      "wine:   \t10.19%\n",
      "kabinett:   \t2.17%\n",
      "--------\n",
      "\n"
     ]
    },
    {
     "data": {
      "text/html": [
       "<span style=\"background-color:rgba(135,206,250,0.40646458);\">wine</span> <span style=\"background-color:rgba(135,206,250,0.6860646);\">review</span> <span style=\"background-color:rgba(135,206,250,1.0);\">:</span> <span style=\"background-color:rgba(135,206,250,0.6343502);\">germany</span> <span style=\"background-color:rgba(135,206,250,0.4878767);\">:</span> <span style=\"background-color:rgba(135,206,250,0.11659895);\">mosel</span> <span style=\"background-color:rgba(135,206,250,0.2926113);\">:</span> <span style=\"background-color:rgba(135,206,250,0.17039996);\">riesling</span> <span style=\"background-color:rgba(135,206,250,0.23231466);\">:</span> <span style=\"background-color:rgba(135,206,250,0.22305949);\">this</span> <span style=\"background-color:rgba(135,206,250,0.2805776);\">is</span> <span style=\"background-color:rgba(135,206,250,0.14884557);\">a</span> <span style=\"background-color:rgba(135,206,250,0.0491848);\">very</span> <span style=\"background-color:rgba(135,206,250,0.05820891);\">minerally</span> <span style=\"background-color:rgba(135,206,250,0.08427016);\">,</span> <span style=\"background-color:rgba(135,206,250,0.060347337);\">refreshing</span> <span style=\"background-color:rgba(135,206,250,0.086671524);\">riesling</span> <span style=\"background-color:rgba(135,206,250,0.21440919);\">from</span> <span style=\"background-color:rgba(135,206,250,0.22000186);\">start</span> <span style=\"background-color:rgba(135,206,250,0.18809052);\">to</span> <span style=\"background-color:rgba(135,206,250,0.16272584);\">finish</span> <span style=\"background-color:rgba(135,206,250,0.22393936);\">in</span> <span style=\"background-color:rgba(135,206,250,0.4633853);\">this</span> <span style=\"background-color:rgba(135,206,250,0.17154092);\">dry</span> <span style=\"background-color:rgba(135,206,250,0.46636686);\">,</span> <span style=\"background-color:rgba(135,206,250,0.19816144);\">richly</span> <span style=\"background-color:rgba(135,206,250,0.38233322);\">textured</span> <span style=\"background-color:rgba(135,206,250,0.50444597);\">spätlese</span>"
      ],
      "text/plain": [
       "<IPython.core.display.HTML object>"
      ]
     },
     "metadata": {},
     "output_type": "display_data"
    },
    {
     "name": "stdout",
     "output_type": "stream",
     "text": [
      ".:   \t99.92%\n",
      ",:   \t0.03%\n",
      "that:   \t0.02%\n",
      "is:   \t0.01%\n",
      "from:   \t0.01%\n",
      "--------\n",
      "\n"
     ]
    },
    {
     "data": {
      "text/html": [
       "<span style=\"background-color:rgba(135,206,250,0.26417074);\">wine</span> <span style=\"background-color:rgba(135,206,250,0.16360512);\">review</span> <span style=\"background-color:rgba(135,206,250,0.72232425);\">:</span> <span style=\"background-color:rgba(135,206,250,1.0);\">germany</span> <span style=\"background-color:rgba(135,206,250,0.7303661);\">:</span> <span style=\"background-color:rgba(135,206,250,0.3449121);\">mosel</span> <span style=\"background-color:rgba(135,206,250,0.31377822);\">:</span> <span style=\"background-color:rgba(135,206,250,0.27637467);\">riesling</span> <span style=\"background-color:rgba(135,206,250,0.18705934);\">:</span> <span style=\"background-color:rgba(135,206,250,0.16591032);\">this</span> <span style=\"background-color:rgba(135,206,250,0.10670465);\">is</span> <span style=\"background-color:rgba(135,206,250,0.0440948);\">a</span> <span style=\"background-color:rgba(135,206,250,0.06811704);\">very</span> <span style=\"background-color:rgba(135,206,250,0.09765309);\">minerally</span> <span style=\"background-color:rgba(135,206,250,0.056251742);\">,</span> <span style=\"background-color:rgba(135,206,250,0.11221045);\">refreshing</span> <span style=\"background-color:rgba(135,206,250,0.10822193);\">riesling</span> <span style=\"background-color:rgba(135,206,250,0.057114117);\">from</span> <span style=\"background-color:rgba(135,206,250,0.15467466);\">start</span> <span style=\"background-color:rgba(135,206,250,0.048382398);\">to</span> <span style=\"background-color:rgba(135,206,250,0.31609514);\">finish</span> <span style=\"background-color:rgba(135,206,250,0.05315387);\">in</span> <span style=\"background-color:rgba(135,206,250,0.19425051);\">this</span> <span style=\"background-color:rgba(135,206,250,0.1378983);\">dry</span> <span style=\"background-color:rgba(135,206,250,0.09123024);\">,</span> <span style=\"background-color:rgba(135,206,250,0.16265038);\">richly</span> <span style=\"background-color:rgba(135,206,250,0.17562692);\">textured</span> <span style=\"background-color:rgba(135,206,250,0.7002888);\">spätlese</span> <span style=\"background-color:rgba(135,206,250,0.3588854);\">.</span>"
      ],
      "text/plain": [
       "<IPython.core.display.HTML object>"
      ]
     },
     "metadata": {},
     "output_type": "display_data"
    },
    {
     "name": "stdout",
     "output_type": "stream",
     "text": [
      "it:   \t78.93%\n",
      "the:   \t4.53%\n",
      "its:   \t3.8%\n",
      "hints:   \t2.2%\n",
      "flavors:   \t1.86%\n",
      "--------\n",
      "\n"
     ]
    },
    {
     "data": {
      "text/html": [
       "<span style=\"background-color:rgba(135,206,250,0.18037601);\">wine</span> <span style=\"background-color:rgba(135,206,250,0.22079013);\">review</span> <span style=\"background-color:rgba(135,206,250,0.40705183);\">:</span> <span style=\"background-color:rgba(135,206,250,0.6957259);\">germany</span> <span style=\"background-color:rgba(135,206,250,0.23135139);\">:</span> <span style=\"background-color:rgba(135,206,250,0.104076736);\">mosel</span> <span style=\"background-color:rgba(135,206,250,0.1208398);\">:</span> <span style=\"background-color:rgba(135,206,250,0.10138779);\">riesling</span> <span style=\"background-color:rgba(135,206,250,0.10784499);\">:</span> <span style=\"background-color:rgba(135,206,250,0.05050176);\">this</span> <span style=\"background-color:rgba(135,206,250,0.08605666);\">is</span> <span style=\"background-color:rgba(135,206,250,0.044448305);\">a</span> <span style=\"background-color:rgba(135,206,250,0.048675254);\">very</span> <span style=\"background-color:rgba(135,206,250,0.0789527);\">minerally</span> <span style=\"background-color:rgba(135,206,250,0.045308422);\">,</span> <span style=\"background-color:rgba(135,206,250,0.07125191);\">refreshing</span> <span style=\"background-color:rgba(135,206,250,0.049577903);\">riesling</span> <span style=\"background-color:rgba(135,206,250,0.050005626);\">from</span> <span style=\"background-color:rgba(135,206,250,0.16730168);\">start</span> <span style=\"background-color:rgba(135,206,250,0.05843239);\">to</span> <span style=\"background-color:rgba(135,206,250,0.10582703);\">finish</span> <span style=\"background-color:rgba(135,206,250,0.053120423);\">in</span> <span style=\"background-color:rgba(135,206,250,0.083564654);\">this</span> <span style=\"background-color:rgba(135,206,250,0.1362835);\">dry</span> <span style=\"background-color:rgba(135,206,250,0.18437192);\">,</span> <span style=\"background-color:rgba(135,206,250,0.17435205);\">richly</span> <span style=\"background-color:rgba(135,206,250,0.2603158);\">textured</span> <span style=\"background-color:rgba(135,206,250,0.391418);\">spätlese</span> <span style=\"background-color:rgba(135,206,250,1.0);\">.</span> <span style=\"background-color:rgba(135,206,250,0.16558778);\">it</span>"
      ],
      "text/plain": [
       "<IPython.core.display.HTML object>"
      ]
     },
     "metadata": {},
     "output_type": "display_data"
    },
    {
     "name": "stdout",
     "output_type": "stream",
     "text": [
      "':   \t99.8%\n",
      "has:   \t0.09%\n",
      "is:   \t0.04%\n",
      "offers:   \t0.02%\n",
      "shows:   \t0.01%\n",
      "--------\n",
      "\n"
     ]
    },
    {
     "data": {
      "text/html": [
       "<span style=\"background-color:rgba(135,206,250,0.16144504);\">wine</span> <span style=\"background-color:rgba(135,206,250,0.2127502);\">review</span> <span style=\"background-color:rgba(135,206,250,0.3079495);\">:</span> <span style=\"background-color:rgba(135,206,250,0.3397441);\">germany</span> <span style=\"background-color:rgba(135,206,250,0.15499002);\">:</span> <span style=\"background-color:rgba(135,206,250,0.18941888);\">mosel</span> <span style=\"background-color:rgba(135,206,250,0.08997274);\">:</span> <span style=\"background-color:rgba(135,206,250,0.21156226);\">riesling</span> <span style=\"background-color:rgba(135,206,250,0.1312199);\">:</span> <span style=\"background-color:rgba(135,206,250,0.06975626);\">this</span> <span style=\"background-color:rgba(135,206,250,0.073931456);\">is</span> <span style=\"background-color:rgba(135,206,250,0.050351515);\">a</span> <span style=\"background-color:rgba(135,206,250,0.029776715);\">very</span> <span style=\"background-color:rgba(135,206,250,0.09706525);\">minerally</span> <span style=\"background-color:rgba(135,206,250,0.05711382);\">,</span> <span style=\"background-color:rgba(135,206,250,0.06553236);\">refreshing</span> <span style=\"background-color:rgba(135,206,250,0.09241012);\">riesling</span> <span style=\"background-color:rgba(135,206,250,0.050789945);\">from</span> <span style=\"background-color:rgba(135,206,250,0.07939117);\">start</span> <span style=\"background-color:rgba(135,206,250,0.068131015);\">to</span> <span style=\"background-color:rgba(135,206,250,0.07457987);\">finish</span> <span style=\"background-color:rgba(135,206,250,0.080412455);\">in</span> <span style=\"background-color:rgba(135,206,250,0.11422551);\">this</span> <span style=\"background-color:rgba(135,206,250,0.15904313);\">dry</span> <span style=\"background-color:rgba(135,206,250,0.12478657);\">,</span> <span style=\"background-color:rgba(135,206,250,0.17093125);\">richly</span> <span style=\"background-color:rgba(135,206,250,0.2110301);\">textured</span> <span style=\"background-color:rgba(135,206,250,0.5235516);\">spätlese</span> <span style=\"background-color:rgba(135,206,250,0.90528816);\">.</span> <span style=\"background-color:rgba(135,206,250,1.0);\">it</span> <span style=\"background-color:rgba(135,206,250,0.18605272);\">'</span>"
      ],
      "text/plain": [
       "<IPython.core.display.HTML object>"
      ]
     },
     "metadata": {},
     "output_type": "display_data"
    },
    {
     "name": "stdout",
     "output_type": "stream",
     "text": [
      "s:   \t100.0%\n",
      "ll:   \t0.0%\n",
      "[UNK]:   \t0.0%\n",
      "11:   \t0.0%\n",
      "hints:   \t0.0%\n",
      "--------\n",
      "\n"
     ]
    },
    {
     "data": {
      "text/html": [
       "<span style=\"background-color:rgba(135,206,250,0.21022366);\">wine</span> <span style=\"background-color:rgba(135,206,250,0.21493088);\">review</span> <span style=\"background-color:rgba(135,206,250,0.6756841);\">:</span> <span style=\"background-color:rgba(135,206,250,0.9004606);\">germany</span> <span style=\"background-color:rgba(135,206,250,0.27201277);\">:</span> <span style=\"background-color:rgba(135,206,250,0.19697267);\">mosel</span> <span style=\"background-color:rgba(135,206,250,0.11996506);\">:</span> <span style=\"background-color:rgba(135,206,250,0.23811701);\">riesling</span> <span style=\"background-color:rgba(135,206,250,0.13390435);\">:</span> <span style=\"background-color:rgba(135,206,250,0.07344696);\">this</span> <span style=\"background-color:rgba(135,206,250,0.048976526);\">is</span> <span style=\"background-color:rgba(135,206,250,0.03614929);\">a</span> <span style=\"background-color:rgba(135,206,250,0.0464183);\">very</span> <span style=\"background-color:rgba(135,206,250,0.14784893);\">minerally</span> <span style=\"background-color:rgba(135,206,250,0.043149147);\">,</span> <span style=\"background-color:rgba(135,206,250,0.1601175);\">refreshing</span> <span style=\"background-color:rgba(135,206,250,0.090456806);\">riesling</span> <span style=\"background-color:rgba(135,206,250,0.04916907);\">from</span> <span style=\"background-color:rgba(135,206,250,0.11659071);\">start</span> <span style=\"background-color:rgba(135,206,250,0.048616424);\">to</span> <span style=\"background-color:rgba(135,206,250,0.11083255);\">finish</span> <span style=\"background-color:rgba(135,206,250,0.051745277);\">in</span> <span style=\"background-color:rgba(135,206,250,0.09065353);\">this</span> <span style=\"background-color:rgba(135,206,250,0.17751247);\">dry</span> <span style=\"background-color:rgba(135,206,250,0.14116749);\">,</span> <span style=\"background-color:rgba(135,206,250,0.22568774);\">richly</span> <span style=\"background-color:rgba(135,206,250,0.2198729);\">textured</span> <span style=\"background-color:rgba(135,206,250,0.7651483);\">spätlese</span> <span style=\"background-color:rgba(135,206,250,1.0);\">.</span> <span style=\"background-color:rgba(135,206,250,0.55735934);\">it</span> <span style=\"background-color:rgba(135,206,250,0.1084487);\">'</span> <span style=\"background-color:rgba(135,206,250,0.18414715);\">s</span>"
      ],
      "text/plain": [
       "<IPython.core.display.HTML object>"
      ]
     },
     "metadata": {},
     "output_type": "display_data"
    },
    {
     "name": "stdout",
     "output_type": "stream",
     "text": [
      "a:   \t31.39%\n",
      "intensely:   \t25.69%\n",
      "lusciously:   \t9.84%\n",
      "rich:   \t3.59%\n",
      "delicate:   \t2.54%\n",
      "--------\n",
      "\n"
     ]
    },
    {
     "data": {
      "text/html": [
       "<span style=\"background-color:rgba(135,206,250,0.22691761);\">wine</span> <span style=\"background-color:rgba(135,206,250,0.22053938);\">review</span> <span style=\"background-color:rgba(135,206,250,0.8348962);\">:</span> <span style=\"background-color:rgba(135,206,250,1.0);\">germany</span> <span style=\"background-color:rgba(135,206,250,0.3140933);\">:</span> <span style=\"background-color:rgba(135,206,250,0.22894005);\">mosel</span> <span style=\"background-color:rgba(135,206,250,0.12681359);\">:</span> <span style=\"background-color:rgba(135,206,250,0.29375002);\">riesling</span> <span style=\"background-color:rgba(135,206,250,0.15458477);\">:</span> <span style=\"background-color:rgba(135,206,250,0.087599196);\">this</span> <span style=\"background-color:rgba(135,206,250,0.07239203);\">is</span> <span style=\"background-color:rgba(135,206,250,0.032540027);\">a</span> <span style=\"background-color:rgba(135,206,250,0.063695975);\">very</span> <span style=\"background-color:rgba(135,206,250,0.15872268);\">minerally</span> <span style=\"background-color:rgba(135,206,250,0.045407757);\">,</span> <span style=\"background-color:rgba(135,206,250,0.17837757);\">refreshing</span> <span style=\"background-color:rgba(135,206,250,0.10085412);\">riesling</span> <span style=\"background-color:rgba(135,206,250,0.046942953);\">from</span> <span style=\"background-color:rgba(135,206,250,0.1467035);\">start</span> <span style=\"background-color:rgba(135,206,250,0.042245757);\">to</span> <span style=\"background-color:rgba(135,206,250,0.17860842);\">finish</span> <span style=\"background-color:rgba(135,206,250,0.052999042);\">in</span> <span style=\"background-color:rgba(135,206,250,0.10834313);\">this</span> <span style=\"background-color:rgba(135,206,250,0.17861336);\">dry</span> <span style=\"background-color:rgba(135,206,250,0.12422294);\">,</span> <span style=\"background-color:rgba(135,206,250,0.22309397);\">richly</span> <span style=\"background-color:rgba(135,206,250,0.26466537);\">textured</span> <span style=\"background-color:rgba(135,206,250,0.78400195);\">spätlese</span> <span style=\"background-color:rgba(135,206,250,0.93687356);\">.</span> <span style=\"background-color:rgba(135,206,250,0.395425);\">it</span> <span style=\"background-color:rgba(135,206,250,0.10962187);\">'</span> <span style=\"background-color:rgba(135,206,250,0.7180434);\">s</span> <span style=\"background-color:rgba(135,206,250,0.33352104);\">a</span>"
      ],
      "text/plain": [
       "<IPython.core.display.HTML object>"
      ]
     },
     "metadata": {},
     "output_type": "display_data"
    },
    {
     "name": "stdout",
     "output_type": "stream",
     "text": [
      "bit:   \t42.21%\n",
      "thrilling:   \t10.74%\n",
      "lush:   \t5.19%\n",
      "rich:   \t4.05%\n",
      "luscious:   \t3.87%\n",
      "--------\n",
      "\n"
     ]
    },
    {
     "data": {
      "text/html": [
       "<span style=\"background-color:rgba(135,206,250,0.12100867);\">wine</span> <span style=\"background-color:rgba(135,206,250,0.110672936);\">review</span> <span style=\"background-color:rgba(135,206,250,0.44945538);\">:</span> <span style=\"background-color:rgba(135,206,250,0.5235536);\">germany</span> <span style=\"background-color:rgba(135,206,250,0.16997005);\">:</span> <span style=\"background-color:rgba(135,206,250,0.1559278);\">mosel</span> <span style=\"background-color:rgba(135,206,250,0.10698097);\">:</span> <span style=\"background-color:rgba(135,206,250,0.3255124);\">riesling</span> <span style=\"background-color:rgba(135,206,250,0.10595943);\">:</span> <span style=\"background-color:rgba(135,206,250,0.06838617);\">this</span> <span style=\"background-color:rgba(135,206,250,0.059242047);\">is</span> <span style=\"background-color:rgba(135,206,250,0.01951712);\">a</span> <span style=\"background-color:rgba(135,206,250,0.020916272);\">very</span> <span style=\"background-color:rgba(135,206,250,0.07214171);\">minerally</span> <span style=\"background-color:rgba(135,206,250,0.026254714);\">,</span> <span style=\"background-color:rgba(135,206,250,0.057115432);\">refreshing</span> <span style=\"background-color:rgba(135,206,250,0.09449644);\">riesling</span> <span style=\"background-color:rgba(135,206,250,0.024394915);\">from</span> <span style=\"background-color:rgba(135,206,250,0.07030922);\">start</span> <span style=\"background-color:rgba(135,206,250,0.02513403);\">to</span> <span style=\"background-color:rgba(135,206,250,0.12590916);\">finish</span> <span style=\"background-color:rgba(135,206,250,0.025205184);\">in</span> <span style=\"background-color:rgba(135,206,250,0.086882375);\">this</span> <span style=\"background-color:rgba(135,206,250,0.10232126);\">dry</span> <span style=\"background-color:rgba(135,206,250,0.05283655);\">,</span> <span style=\"background-color:rgba(135,206,250,0.07164983);\">richly</span> <span style=\"background-color:rgba(135,206,250,0.096035056);\">textured</span> <span style=\"background-color:rgba(135,206,250,0.5115459);\">spätlese</span> <span style=\"background-color:rgba(135,206,250,0.48982242);\">.</span> <span style=\"background-color:rgba(135,206,250,0.31211603);\">it</span> <span style=\"background-color:rgba(135,206,250,0.10030428);\">'</span> <span style=\"background-color:rgba(135,206,250,0.54145426);\">s</span> <span style=\"background-color:rgba(135,206,250,1.0);\">a</span> <span style=\"background-color:rgba(135,206,250,0.21924901);\">luscious</span>"
      ],
      "text/plain": [
       "<IPython.core.display.HTML object>"
      ]
     },
     "metadata": {},
     "output_type": "display_data"
    },
    {
     "name": "stdout",
     "output_type": "stream",
     "text": [
      ",:   \t90.06%\n",
      "mouthful:   \t1.68%\n",
      "and:   \t1.47%\n",
      "wine:   \t1.28%\n",
      "yet:   \t0.99%\n",
      "--------\n",
      "\n"
     ]
    },
    {
     "data": {
      "text/html": [
       "<span style=\"background-color:rgba(135,206,250,0.1152925);\">wine</span> <span style=\"background-color:rgba(135,206,250,0.18306941);\">review</span> <span style=\"background-color:rgba(135,206,250,0.66301435);\">:</span> <span style=\"background-color:rgba(135,206,250,0.78391224);\">germany</span> <span style=\"background-color:rgba(135,206,250,0.21537052);\">:</span> <span style=\"background-color:rgba(135,206,250,0.16362043);\">mosel</span> <span style=\"background-color:rgba(135,206,250,0.11638806);\">:</span> <span style=\"background-color:rgba(135,206,250,0.27898464);\">riesling</span> <span style=\"background-color:rgba(135,206,250,0.12827654);\">:</span> <span style=\"background-color:rgba(135,206,250,0.11207994);\">this</span> <span style=\"background-color:rgba(135,206,250,0.1117879);\">is</span> <span style=\"background-color:rgba(135,206,250,0.03311548);\">a</span> <span style=\"background-color:rgba(135,206,250,0.045017514);\">very</span> <span style=\"background-color:rgba(135,206,250,0.083704606);\">minerally</span> <span style=\"background-color:rgba(135,206,250,0.030985761);\">,</span> <span style=\"background-color:rgba(135,206,250,0.090126015);\">refreshing</span> <span style=\"background-color:rgba(135,206,250,0.07828648);\">riesling</span> <span style=\"background-color:rgba(135,206,250,0.055003874);\">from</span> <span style=\"background-color:rgba(135,206,250,0.07376685);\">start</span> <span style=\"background-color:rgba(135,206,250,0.04021692);\">to</span> <span style=\"background-color:rgba(135,206,250,0.07486835);\">finish</span> <span style=\"background-color:rgba(135,206,250,0.046816885);\">in</span> <span style=\"background-color:rgba(135,206,250,0.12630284);\">this</span> <span style=\"background-color:rgba(135,206,250,0.14044622);\">dry</span> <span style=\"background-color:rgba(135,206,250,0.05655164);\">,</span> <span style=\"background-color:rgba(135,206,250,0.12665018);\">richly</span> <span style=\"background-color:rgba(135,206,250,0.1450088);\">textured</span> <span style=\"background-color:rgba(135,206,250,0.46393886);\">spätlese</span> <span style=\"background-color:rgba(135,206,250,0.6719295);\">.</span> <span style=\"background-color:rgba(135,206,250,0.33041957);\">it</span> <span style=\"background-color:rgba(135,206,250,0.070075594);\">'</span> <span style=\"background-color:rgba(135,206,250,0.5338798);\">s</span> <span style=\"background-color:rgba(135,206,250,0.65357745);\">a</span> <span style=\"background-color:rgba(135,206,250,1.0);\">luscious</span> <span style=\"background-color:rgba(135,206,250,0.50383204);\">,</span>"
      ],
      "text/plain": [
       "<IPython.core.display.HTML object>"
      ]
     },
     "metadata": {},
     "output_type": "display_data"
    },
    {
     "name": "stdout",
     "output_type": "stream",
     "text": [
      "luscious:   \t16.12%\n",
      "lush:   \t12.95%\n",
      "concentrated:   \t9.63%\n",
      "juicy:   \t9.59%\n",
      "lusciously:   \t8.37%\n",
      "--------\n",
      "\n"
     ]
    },
    {
     "data": {
      "text/html": [
       "<span style=\"background-color:rgba(135,206,250,0.18427974);\">wine</span> <span style=\"background-color:rgba(135,206,250,0.14966986);\">review</span> <span style=\"background-color:rgba(135,206,250,0.99912596);\">:</span> <span style=\"background-color:rgba(135,206,250,1.0);\">germany</span> <span style=\"background-color:rgba(135,206,250,0.32476866);\">:</span> <span style=\"background-color:rgba(135,206,250,0.272574);\">mosel</span> <span style=\"background-color:rgba(135,206,250,0.17969379);\">:</span> <span style=\"background-color:rgba(135,206,250,0.51106083);\">riesling</span> <span style=\"background-color:rgba(135,206,250,0.16531497);\">:</span> <span style=\"background-color:rgba(135,206,250,0.09558987);\">this</span> <span style=\"background-color:rgba(135,206,250,0.08532813);\">is</span> <span style=\"background-color:rgba(135,206,250,0.030620644);\">a</span> <span style=\"background-color:rgba(135,206,250,0.031162087);\">very</span> <span style=\"background-color:rgba(135,206,250,0.10594062);\">minerally</span> <span style=\"background-color:rgba(135,206,250,0.037541755);\">,</span> <span style=\"background-color:rgba(135,206,250,0.08728546);\">refreshing</span> <span style=\"background-color:rgba(135,206,250,0.1368786);\">riesling</span> <span style=\"background-color:rgba(135,206,250,0.031393852);\">from</span> <span style=\"background-color:rgba(135,206,250,0.096832685);\">start</span> <span style=\"background-color:rgba(135,206,250,0.032722298);\">to</span> <span style=\"background-color:rgba(135,206,250,0.1752258);\">finish</span> <span style=\"background-color:rgba(135,206,250,0.031628773);\">in</span> <span style=\"background-color:rgba(135,206,250,0.09602383);\">this</span> <span style=\"background-color:rgba(135,206,250,0.14300777);\">dry</span> <span style=\"background-color:rgba(135,206,250,0.06690356);\">,</span> <span style=\"background-color:rgba(135,206,250,0.09667903);\">richly</span> <span style=\"background-color:rgba(135,206,250,0.13025084);\">textured</span> <span style=\"background-color:rgba(135,206,250,0.7080715);\">spätlese</span> <span style=\"background-color:rgba(135,206,250,0.53179586);\">.</span> <span style=\"background-color:rgba(135,206,250,0.32844645);\">it</span> <span style=\"background-color:rgba(135,206,250,0.09917204);\">'</span> <span style=\"background-color:rgba(135,206,250,0.50963354);\">s</span> <span style=\"background-color:rgba(135,206,250,0.90448344);\">a</span> <span style=\"background-color:rgba(135,206,250,0.24841744);\">luscious</span> <span style=\"background-color:rgba(135,206,250,0.55802584);\">,</span> <span style=\"background-color:rgba(135,206,250,0.4304619);\">luscious</span>"
      ],
      "text/plain": [
       "<IPython.core.display.HTML object>"
      ]
     },
     "metadata": {},
     "output_type": "display_data"
    },
    {
     "name": "stdout",
     "output_type": "stream",
     "text": [
      "spätlese:   \t34.75%\n",
      "wine:   \t10.49%\n",
      "and:   \t9.5%\n",
      ",:   \t9.01%\n",
      "riesling:   \t7.79%\n",
      "--------\n",
      "\n"
     ]
    },
    {
     "data": {
      "text/html": [
       "<span style=\"background-color:rgba(135,206,250,0.099610314);\">wine</span> <span style=\"background-color:rgba(135,206,250,0.10420827);\">review</span> <span style=\"background-color:rgba(135,206,250,0.49468383);\">:</span> <span style=\"background-color:rgba(135,206,250,1.0);\">germany</span> <span style=\"background-color:rgba(135,206,250,0.16100077);\">:</span> <span style=\"background-color:rgba(135,206,250,0.06459069);\">mosel</span> <span style=\"background-color:rgba(135,206,250,0.15921602);\">:</span> <span style=\"background-color:rgba(135,206,250,0.059319276);\">riesling</span> <span style=\"background-color:rgba(135,206,250,0.08095099);\">:</span> <span style=\"background-color:rgba(135,206,250,0.04561737);\">this</span> <span style=\"background-color:rgba(135,206,250,0.04838278);\">is</span> <span style=\"background-color:rgba(135,206,250,0.038869057);\">a</span> <span style=\"background-color:rgba(135,206,250,0.033746958);\">very</span> <span style=\"background-color:rgba(135,206,250,0.03573654);\">minerally</span> <span style=\"background-color:rgba(135,206,250,0.027468327);\">,</span> <span style=\"background-color:rgba(135,206,250,0.039517943);\">refreshing</span> <span style=\"background-color:rgba(135,206,250,0.024658242);\">riesling</span> <span style=\"background-color:rgba(135,206,250,0.06548245);\">from</span> <span style=\"background-color:rgba(135,206,250,0.08620143);\">start</span> <span style=\"background-color:rgba(135,206,250,0.042322956);\">to</span> <span style=\"background-color:rgba(135,206,250,0.15016352);\">finish</span> <span style=\"background-color:rgba(135,206,250,0.04166192);\">in</span> <span style=\"background-color:rgba(135,206,250,0.07178387);\">this</span> <span style=\"background-color:rgba(135,206,250,0.05331818);\">dry</span> <span style=\"background-color:rgba(135,206,250,0.04858452);\">,</span> <span style=\"background-color:rgba(135,206,250,0.056987844);\">richly</span> <span style=\"background-color:rgba(135,206,250,0.086849496);\">textured</span> <span style=\"background-color:rgba(135,206,250,0.09954525);\">spätlese</span> <span style=\"background-color:rgba(135,206,250,0.31738237);\">.</span> <span style=\"background-color:rgba(135,206,250,0.1781605);\">it</span> <span style=\"background-color:rgba(135,206,250,0.051676795);\">'</span> <span style=\"background-color:rgba(135,206,250,0.25783476);\">s</span> <span style=\"background-color:rgba(135,206,250,0.46690762);\">a</span> <span style=\"background-color:rgba(135,206,250,0.2373519);\">luscious</span> <span style=\"background-color:rgba(135,206,250,0.3321108);\">,</span> <span style=\"background-color:rgba(135,206,250,0.40230247);\">luscious</span> <span style=\"background-color:rgba(135,206,250,0.20954347);\">peach</span>"
      ],
      "text/plain": [
       "<IPython.core.display.HTML object>"
      ]
     },
     "metadata": {},
     "output_type": "display_data"
    },
    {
     "name": "stdout",
     "output_type": "stream",
     "text": [
      "and:   \t44.0%\n",
      "-:   \t41.44%\n",
      "flavor:   \t11.77%\n",
      ",:   \t1.87%\n",
      "fruit:   \t0.39%\n",
      "--------\n",
      "\n"
     ]
    },
    {
     "data": {
      "text/html": [
       "<span style=\"background-color:rgba(135,206,250,0.057420105);\">wine</span> <span style=\"background-color:rgba(135,206,250,0.07532478);\">review</span> <span style=\"background-color:rgba(135,206,250,0.22110629);\">:</span> <span style=\"background-color:rgba(135,206,250,0.40600803);\">germany</span> <span style=\"background-color:rgba(135,206,250,0.08629411);\">:</span> <span style=\"background-color:rgba(135,206,250,0.13119464);\">mosel</span> <span style=\"background-color:rgba(135,206,250,0.051180534);\">:</span> <span style=\"background-color:rgba(135,206,250,0.16888057);\">riesling</span> <span style=\"background-color:rgba(135,206,250,0.07316957);\">:</span> <span style=\"background-color:rgba(135,206,250,0.035214745);\">this</span> <span style=\"background-color:rgba(135,206,250,0.032372344);\">is</span> <span style=\"background-color:rgba(135,206,250,0.015679078);\">a</span> <span style=\"background-color:rgba(135,206,250,0.027291644);\">very</span> <span style=\"background-color:rgba(135,206,250,0.06143672);\">minerally</span> <span style=\"background-color:rgba(135,206,250,0.017703088);\">,</span> <span style=\"background-color:rgba(135,206,250,0.071852714);\">refreshing</span> <span style=\"background-color:rgba(135,206,250,0.049903266);\">riesling</span> <span style=\"background-color:rgba(135,206,250,0.015309318);\">from</span> <span style=\"background-color:rgba(135,206,250,0.054114185);\">start</span> <span style=\"background-color:rgba(135,206,250,0.01361404);\">to</span> <span style=\"background-color:rgba(135,206,250,0.056003317);\">finish</span> <span style=\"background-color:rgba(135,206,250,0.015770536);\">in</span> <span style=\"background-color:rgba(135,206,250,0.029222162);\">this</span> <span style=\"background-color:rgba(135,206,250,0.0691921);\">dry</span> <span style=\"background-color:rgba(135,206,250,0.027104873);\">,</span> <span style=\"background-color:rgba(135,206,250,0.062404986);\">richly</span> <span style=\"background-color:rgba(135,206,250,0.07262331);\">textured</span> <span style=\"background-color:rgba(135,206,250,0.22297016);\">spätlese</span> <span style=\"background-color:rgba(135,206,250,0.11873281);\">.</span> <span style=\"background-color:rgba(135,206,250,0.06111987);\">it</span> <span style=\"background-color:rgba(135,206,250,0.01687898);\">'</span> <span style=\"background-color:rgba(135,206,250,0.08939884);\">s</span> <span style=\"background-color:rgba(135,206,250,0.09485971);\">a</span> <span style=\"background-color:rgba(135,206,250,0.23250623);\">luscious</span> <span style=\"background-color:rgba(135,206,250,0.40903714);\">,</span> <span style=\"background-color:rgba(135,206,250,0.4451582);\">luscious</span> <span style=\"background-color:rgba(135,206,250,1.0);\">peach</span> <span style=\"background-color:rgba(135,206,250,0.24526003);\">and</span>"
      ],
      "text/plain": [
       "<IPython.core.display.HTML object>"
      ]
     },
     "metadata": {},
     "output_type": "display_data"
    },
    {
     "name": "stdout",
     "output_type": "stream",
     "text": [
      "apricot:   \t75.28%\n",
      "honey:   \t12.29%\n",
      "tangerine:   \t2.01%\n",
      "melon:   \t1.93%\n",
      "pear:   \t1.82%\n",
      "--------\n",
      "\n"
     ]
    },
    {
     "data": {
      "text/html": [
       "<span style=\"background-color:rgba(135,206,250,0.08348542);\">wine</span> <span style=\"background-color:rgba(135,206,250,0.07625489);\">review</span> <span style=\"background-color:rgba(135,206,250,0.44521028);\">:</span> <span style=\"background-color:rgba(135,206,250,1.0);\">germany</span> <span style=\"background-color:rgba(135,206,250,0.13188669);\">:</span> <span style=\"background-color:rgba(135,206,250,0.058817234);\">mosel</span> <span style=\"background-color:rgba(135,206,250,0.13060114);\">:</span> <span style=\"background-color:rgba(135,206,250,0.059482343);\">riesling</span> <span style=\"background-color:rgba(135,206,250,0.072426245);\">:</span> <span style=\"background-color:rgba(135,206,250,0.041220844);\">this</span> <span style=\"background-color:rgba(135,206,250,0.04251011);\">is</span> <span style=\"background-color:rgba(135,206,250,0.025213914);\">a</span> <span style=\"background-color:rgba(135,206,250,0.02709388);\">very</span> <span style=\"background-color:rgba(135,206,250,0.032387655);\">minerally</span> <span style=\"background-color:rgba(135,206,250,0.022143457);\">,</span> <span style=\"background-color:rgba(135,206,250,0.034344573);\">refreshing</span> <span style=\"background-color:rgba(135,206,250,0.023081563);\">riesling</span> <span style=\"background-color:rgba(135,206,250,0.04748681);\">from</span> <span style=\"background-color:rgba(135,206,250,0.074204996);\">start</span> <span style=\"background-color:rgba(135,206,250,0.029295454);\">to</span> <span style=\"background-color:rgba(135,206,250,0.15321241);\">finish</span> <span style=\"background-color:rgba(135,206,250,0.029866172);\">in</span> <span style=\"background-color:rgba(135,206,250,0.0588691);\">this</span> <span style=\"background-color:rgba(135,206,250,0.05280068);\">dry</span> <span style=\"background-color:rgba(135,206,250,0.03909963);\">,</span> <span style=\"background-color:rgba(135,206,250,0.049366828);\">richly</span> <span style=\"background-color:rgba(135,206,250,0.07619969);\">textured</span> <span style=\"background-color:rgba(135,206,250,0.10194283);\">spätlese</span> <span style=\"background-color:rgba(135,206,250,0.2569942);\">.</span> <span style=\"background-color:rgba(135,206,250,0.11962559);\">it</span> <span style=\"background-color:rgba(135,206,250,0.035054006);\">'</span> <span style=\"background-color:rgba(135,206,250,0.1640859);\">s</span> <span style=\"background-color:rgba(135,206,250,0.25289536);\">a</span> <span style=\"background-color:rgba(135,206,250,0.16905175);\">luscious</span> <span style=\"background-color:rgba(135,206,250,0.19181637);\">,</span> <span style=\"background-color:rgba(135,206,250,0.2621634);\">luscious</span> <span style=\"background-color:rgba(135,206,250,0.176373);\">peach</span> <span style=\"background-color:rgba(135,206,250,0.49815717);\">and</span> <span style=\"background-color:rgba(135,206,250,0.31097203);\">apricot</span>"
      ],
      "text/plain": [
       "<IPython.core.display.HTML object>"
      ]
     },
     "metadata": {},
     "output_type": "display_data"
    },
    {
     "name": "stdout",
     "output_type": "stream",
     "text": [
      "flavors:   \t91.98%\n",
      "flavor:   \t3.19%\n",
      "fruit:   \t2.65%\n",
      "nectar:   \t1.3%\n",
      "notes:   \t0.58%\n",
      "--------\n",
      "\n"
     ]
    },
    {
     "data": {
      "text/html": [
       "<span style=\"background-color:rgba(135,206,250,0.10334324);\">wine</span> <span style=\"background-color:rgba(135,206,250,0.13014764);\">review</span> <span style=\"background-color:rgba(135,206,250,0.8343009);\">:</span> <span style=\"background-color:rgba(135,206,250,1.0);\">germany</span> <span style=\"background-color:rgba(135,206,250,0.21772774);\">:</span> <span style=\"background-color:rgba(135,206,250,0.09088214);\">mosel</span> <span style=\"background-color:rgba(135,206,250,0.12625986);\">:</span> <span style=\"background-color:rgba(135,206,250,0.08895186);\">riesling</span> <span style=\"background-color:rgba(135,206,250,0.071717806);\">:</span> <span style=\"background-color:rgba(135,206,250,0.04811918);\">this</span> <span style=\"background-color:rgba(135,206,250,0.05873991);\">is</span> <span style=\"background-color:rgba(135,206,250,0.017627964);\">a</span> <span style=\"background-color:rgba(135,206,250,0.018339723);\">very</span> <span style=\"background-color:rgba(135,206,250,0.02618293);\">minerally</span> <span style=\"background-color:rgba(135,206,250,0.020279972);\">,</span> <span style=\"background-color:rgba(135,206,250,0.03438788);\">refreshing</span> <span style=\"background-color:rgba(135,206,250,0.028489713);\">riesling</span> <span style=\"background-color:rgba(135,206,250,0.04961093);\">from</span> <span style=\"background-color:rgba(135,206,250,0.075551584);\">start</span> <span style=\"background-color:rgba(135,206,250,0.041049838);\">to</span> <span style=\"background-color:rgba(135,206,250,0.09299851);\">finish</span> <span style=\"background-color:rgba(135,206,250,0.038526643);\">in</span> <span style=\"background-color:rgba(135,206,250,0.06408789);\">this</span> <span style=\"background-color:rgba(135,206,250,0.041134898);\">dry</span> <span style=\"background-color:rgba(135,206,250,0.04292371);\">,</span> <span style=\"background-color:rgba(135,206,250,0.039943997);\">richly</span> <span style=\"background-color:rgba(135,206,250,0.060878728);\">textured</span> <span style=\"background-color:rgba(135,206,250,0.12051866);\">spätlese</span> <span style=\"background-color:rgba(135,206,250,0.38889372);\">.</span> <span style=\"background-color:rgba(135,206,250,0.12015739);\">it</span> <span style=\"background-color:rgba(135,206,250,0.031595506);\">'</span> <span style=\"background-color:rgba(135,206,250,0.13654155);\">s</span> <span style=\"background-color:rgba(135,206,250,0.121368945);\">a</span> <span style=\"background-color:rgba(135,206,250,0.12917021);\">luscious</span> <span style=\"background-color:rgba(135,206,250,0.25104782);\">,</span> <span style=\"background-color:rgba(135,206,250,0.19248876);\">luscious</span> <span style=\"background-color:rgba(135,206,250,0.2777141);\">peach</span> <span style=\"background-color:rgba(135,206,250,0.39609972);\">and</span> <span style=\"background-color:rgba(135,206,250,0.52668864);\">apricot</span> <span style=\"background-color:rgba(135,206,250,0.3116581);\">flavors</span>"
      ],
      "text/plain": [
       "<IPython.core.display.HTML object>"
      ]
     },
     "metadata": {},
     "output_type": "display_data"
    },
    {
     "name": "stdout",
     "output_type": "stream",
     "text": [
      "penetrate:   \t48.4%\n",
      "are:   \t45.7%\n",
      "flood:   \t2.34%\n",
      ",:   \t1.76%\n",
      "[UNK]:   \t0.38%\n",
      "--------\n",
      "\n"
     ]
    },
    {
     "data": {
      "text/html": [
       "<span style=\"background-color:rgba(135,206,250,0.116230406);\">wine</span> <span style=\"background-color:rgba(135,206,250,0.13826324);\">review</span> <span style=\"background-color:rgba(135,206,250,1.0);\">:</span> <span style=\"background-color:rgba(135,206,250,0.41739097);\">germany</span> <span style=\"background-color:rgba(135,206,250,0.47738567);\">:</span> <span style=\"background-color:rgba(135,206,250,0.092314154);\">mosel</span> <span style=\"background-color:rgba(135,206,250,0.15542014);\">:</span> <span style=\"background-color:rgba(135,206,250,0.12049696);\">riesling</span> <span style=\"background-color:rgba(135,206,250,0.10278015);\">:</span> <span style=\"background-color:rgba(135,206,250,0.035844397);\">this</span> <span style=\"background-color:rgba(135,206,250,0.04430045);\">is</span> <span style=\"background-color:rgba(135,206,250,0.019250771);\">a</span> <span style=\"background-color:rgba(135,206,250,0.018184548);\">very</span> <span style=\"background-color:rgba(135,206,250,0.028362567);\">minerally</span> <span style=\"background-color:rgba(135,206,250,0.019749409);\">,</span> <span style=\"background-color:rgba(135,206,250,0.030447282);\">refreshing</span> <span style=\"background-color:rgba(135,206,250,0.03030147);\">riesling</span> <span style=\"background-color:rgba(135,206,250,0.033443127);\">from</span> <span style=\"background-color:rgba(135,206,250,0.0448941);\">start</span> <span style=\"background-color:rgba(135,206,250,0.019962002);\">to</span> <span style=\"background-color:rgba(135,206,250,0.07938644);\">finish</span> <span style=\"background-color:rgba(135,206,250,0.018932339);\">in</span> <span style=\"background-color:rgba(135,206,250,0.028274067);\">this</span> <span style=\"background-color:rgba(135,206,250,0.03509659);\">dry</span> <span style=\"background-color:rgba(135,206,250,0.02588403);\">,</span> <span style=\"background-color:rgba(135,206,250,0.022701627);\">richly</span> <span style=\"background-color:rgba(135,206,250,0.040546432);\">textured</span> <span style=\"background-color:rgba(135,206,250,0.085130274);\">spätlese</span> <span style=\"background-color:rgba(135,206,250,0.124892615);\">.</span> <span style=\"background-color:rgba(135,206,250,0.04370329);\">it</span> <span style=\"background-color:rgba(135,206,250,0.022514418);\">'</span> <span style=\"background-color:rgba(135,206,250,0.06341301);\">s</span> <span style=\"background-color:rgba(135,206,250,0.054173406);\">a</span> <span style=\"background-color:rgba(135,206,250,0.05850203);\">luscious</span> <span style=\"background-color:rgba(135,206,250,0.07495034);\">,</span> <span style=\"background-color:rgba(135,206,250,0.07937663);\">luscious</span> <span style=\"background-color:rgba(135,206,250,0.14106412);\">peach</span> <span style=\"background-color:rgba(135,206,250,0.10352314);\">and</span> <span style=\"background-color:rgba(135,206,250,0.26111552);\">apricot</span> <span style=\"background-color:rgba(135,206,250,0.36475343);\">flavors</span> <span style=\"background-color:rgba(135,206,250,0.20870294);\">penetrate</span>"
      ],
      "text/plain": [
       "<IPython.core.display.HTML object>"
      ]
     },
     "metadata": {},
     "output_type": "display_data"
    },
    {
     "name": "stdout",
     "output_type": "stream",
     "text": [
      "deeply:   \t86.44%\n",
      "through:   \t11.78%\n",
      "the:   \t1.24%\n",
      "on:   \t0.11%\n",
      "throughout:   \t0.1%\n",
      "--------\n",
      "\n"
     ]
    },
    {
     "data": {
      "text/html": [
       "<span style=\"background-color:rgba(135,206,250,0.10737749);\">wine</span> <span style=\"background-color:rgba(135,206,250,0.15785392);\">review</span> <span style=\"background-color:rgba(135,206,250,0.98126906);\">:</span> <span style=\"background-color:rgba(135,206,250,0.52120656);\">germany</span> <span style=\"background-color:rgba(135,206,250,0.35054952);\">:</span> <span style=\"background-color:rgba(135,206,250,0.13408165);\">mosel</span> <span style=\"background-color:rgba(135,206,250,0.10200196);\">:</span> <span style=\"background-color:rgba(135,206,250,0.18596594);\">riesling</span> <span style=\"background-color:rgba(135,206,250,0.097869135);\">:</span> <span style=\"background-color:rgba(135,206,250,0.033592924);\">this</span> <span style=\"background-color:rgba(135,206,250,0.02704527);\">is</span> <span style=\"background-color:rgba(135,206,250,0.01506187);\">a</span> <span style=\"background-color:rgba(135,206,250,0.012483692);\">very</span> <span style=\"background-color:rgba(135,206,250,0.052550085);\">minerally</span> <span style=\"background-color:rgba(135,206,250,0.02291841);\">,</span> <span style=\"background-color:rgba(135,206,250,0.04235189);\">refreshing</span> <span style=\"background-color:rgba(135,206,250,0.046928372);\">riesling</span> <span style=\"background-color:rgba(135,206,250,0.030726656);\">from</span> <span style=\"background-color:rgba(135,206,250,0.04651934);\">start</span> <span style=\"background-color:rgba(135,206,250,0.015851604);\">to</span> <span style=\"background-color:rgba(135,206,250,0.0638967);\">finish</span> <span style=\"background-color:rgba(135,206,250,0.014916149);\">in</span> <span style=\"background-color:rgba(135,206,250,0.027440816);\">this</span> <span style=\"background-color:rgba(135,206,250,0.04896219);\">dry</span> <span style=\"background-color:rgba(135,206,250,0.027686406);\">,</span> <span style=\"background-color:rgba(135,206,250,0.024748899);\">richly</span> <span style=\"background-color:rgba(135,206,250,0.042822707);\">textured</span> <span style=\"background-color:rgba(135,206,250,0.095877305);\">spätlese</span> <span style=\"background-color:rgba(135,206,250,0.09860965);\">.</span> <span style=\"background-color:rgba(135,206,250,0.03314848);\">it</span> <span style=\"background-color:rgba(135,206,250,0.017622126);\">'</span> <span style=\"background-color:rgba(135,206,250,0.034793004);\">s</span> <span style=\"background-color:rgba(135,206,250,0.029521557);\">a</span> <span style=\"background-color:rgba(135,206,250,0.048854437);\">luscious</span> <span style=\"background-color:rgba(135,206,250,0.065884575);\">,</span> <span style=\"background-color:rgba(135,206,250,0.06391591);\">luscious</span> <span style=\"background-color:rgba(135,206,250,0.12074183);\">peach</span> <span style=\"background-color:rgba(135,206,250,0.078271255);\">and</span> <span style=\"background-color:rgba(135,206,250,0.1912364);\">apricot</span> <span style=\"background-color:rgba(135,206,250,0.3087812);\">flavors</span> <span style=\"background-color:rgba(135,206,250,1.0);\">penetrate</span> <span style=\"background-color:rgba(135,206,250,0.19062793);\">deeply</span>"
      ],
      "text/plain": [
       "<IPython.core.display.HTML object>"
      ]
     },
     "metadata": {},
     "output_type": "display_data"
    },
    {
     "name": "stdout",
     "output_type": "stream",
     "text": [
      ",:   \t69.28%\n",
      "on:   \t10.9%\n",
      ".:   \t9.01%\n",
      "through:   \t7.33%\n",
      "into:   \t1.49%\n",
      "--------\n",
      "\n"
     ]
    },
    {
     "data": {
      "text/html": [
       "<span style=\"background-color:rgba(135,206,250,0.11102268);\">wine</span> <span style=\"background-color:rgba(135,206,250,0.17473008);\">review</span> <span style=\"background-color:rgba(135,206,250,1.0);\">:</span> <span style=\"background-color:rgba(135,206,250,0.623082);\">germany</span> <span style=\"background-color:rgba(135,206,250,0.49504706);\">:</span> <span style=\"background-color:rgba(135,206,250,0.1528598);\">mosel</span> <span style=\"background-color:rgba(135,206,250,0.18977952);\">:</span> <span style=\"background-color:rgba(135,206,250,0.14312296);\">riesling</span> <span style=\"background-color:rgba(135,206,250,0.11643727);\">:</span> <span style=\"background-color:rgba(135,206,250,0.07500059);\">this</span> <span style=\"background-color:rgba(135,206,250,0.034903213);\">is</span> <span style=\"background-color:rgba(135,206,250,0.030037377);\">a</span> <span style=\"background-color:rgba(135,206,250,0.032486416);\">very</span> <span style=\"background-color:rgba(135,206,250,0.052124918);\">minerally</span> <span style=\"background-color:rgba(135,206,250,0.02743525);\">,</span> <span style=\"background-color:rgba(135,206,250,0.045222577);\">refreshing</span> <span style=\"background-color:rgba(135,206,250,0.034730278);\">riesling</span> <span style=\"background-color:rgba(135,206,250,0.03648403);\">from</span> <span style=\"background-color:rgba(135,206,250,0.05964408);\">start</span> <span style=\"background-color:rgba(135,206,250,0.023510346);\">to</span> <span style=\"background-color:rgba(135,206,250,0.1889796);\">finish</span> <span style=\"background-color:rgba(135,206,250,0.013591431);\">in</span> <span style=\"background-color:rgba(135,206,250,0.0665267);\">this</span> <span style=\"background-color:rgba(135,206,250,0.039993342);\">dry</span> <span style=\"background-color:rgba(135,206,250,0.031183703);\">,</span> <span style=\"background-color:rgba(135,206,250,0.043685205);\">richly</span> <span style=\"background-color:rgba(135,206,250,0.06391798);\">textured</span> <span style=\"background-color:rgba(135,206,250,0.101645656);\">spätlese</span> <span style=\"background-color:rgba(135,206,250,0.12411455);\">.</span> <span style=\"background-color:rgba(135,206,250,0.06245826);\">it</span> <span style=\"background-color:rgba(135,206,250,0.03241442);\">'</span> <span style=\"background-color:rgba(135,206,250,0.053921342);\">s</span> <span style=\"background-color:rgba(135,206,250,0.058412183);\">a</span> <span style=\"background-color:rgba(135,206,250,0.08691812);\">luscious</span> <span style=\"background-color:rgba(135,206,250,0.08185382);\">,</span> <span style=\"background-color:rgba(135,206,250,0.11896416);\">luscious</span> <span style=\"background-color:rgba(135,206,250,0.11348609);\">peach</span> <span style=\"background-color:rgba(135,206,250,0.10947505);\">and</span> <span style=\"background-color:rgba(135,206,250,0.18495652);\">apricot</span> <span style=\"background-color:rgba(135,206,250,0.37494463);\">flavors</span> <span style=\"background-color:rgba(135,206,250,0.5012676);\">penetrate</span> <span style=\"background-color:rgba(135,206,250,0.3551382);\">deeply</span> <span style=\"background-color:rgba(135,206,250,0.14397354);\">on</span>"
      ],
      "text/plain": [
       "<IPython.core.display.HTML object>"
      ]
     },
     "metadata": {},
     "output_type": "display_data"
    },
    {
     "name": "stdout",
     "output_type": "stream",
     "text": [
      "the:   \t99.86%\n",
      "its:   \t0.13%\n",
      "a:   \t0.01%\n",
      ",:   \t0.0%\n",
      "every:   \t0.0%\n",
      "--------\n",
      "\n"
     ]
    },
    {
     "data": {
      "text/html": [
       "<span style=\"background-color:rgba(135,206,250,0.10759094);\">wine</span> <span style=\"background-color:rgba(135,206,250,0.09420691);\">review</span> <span style=\"background-color:rgba(135,206,250,0.5531523);\">:</span> <span style=\"background-color:rgba(135,206,250,0.869552);\">germany</span> <span style=\"background-color:rgba(135,206,250,0.18638167);\">:</span> <span style=\"background-color:rgba(135,206,250,0.21558237);\">mosel</span> <span style=\"background-color:rgba(135,206,250,0.10235177);\">:</span> <span style=\"background-color:rgba(135,206,250,0.231731);\">riesling</span> <span style=\"background-color:rgba(135,206,250,0.10765397);\">:</span> <span style=\"background-color:rgba(135,206,250,0.03853755);\">this</span> <span style=\"background-color:rgba(135,206,250,0.03348413);\">is</span> <span style=\"background-color:rgba(135,206,250,0.019929599);\">a</span> <span style=\"background-color:rgba(135,206,250,0.03387934);\">very</span> <span style=\"background-color:rgba(135,206,250,0.08890702);\">minerally</span> <span style=\"background-color:rgba(135,206,250,0.032383446);\">,</span> <span style=\"background-color:rgba(135,206,250,0.07920635);\">refreshing</span> <span style=\"background-color:rgba(135,206,250,0.06354176);\">riesling</span> <span style=\"background-color:rgba(135,206,250,0.016158769);\">from</span> <span style=\"background-color:rgba(135,206,250,0.08600374);\">start</span> <span style=\"background-color:rgba(135,206,250,0.015851093);\">to</span> <span style=\"background-color:rgba(135,206,250,0.22073689);\">finish</span> <span style=\"background-color:rgba(135,206,250,0.012453437);\">in</span> <span style=\"background-color:rgba(135,206,250,0.028252043);\">this</span> <span style=\"background-color:rgba(135,206,250,0.076441936);\">dry</span> <span style=\"background-color:rgba(135,206,250,0.035350934);\">,</span> <span style=\"background-color:rgba(135,206,250,0.06807206);\">richly</span> <span style=\"background-color:rgba(135,206,250,0.08801312);\">textured</span> <span style=\"background-color:rgba(135,206,250,0.26638624);\">spätlese</span> <span style=\"background-color:rgba(135,206,250,0.08950107);\">.</span> <span style=\"background-color:rgba(135,206,250,0.043012884);\">it</span> <span style=\"background-color:rgba(135,206,250,0.019209206);\">'</span> <span style=\"background-color:rgba(135,206,250,0.04398103);\">s</span> <span style=\"background-color:rgba(135,206,250,0.03313676);\">a</span> <span style=\"background-color:rgba(135,206,250,0.10985757);\">luscious</span> <span style=\"background-color:rgba(135,206,250,0.09124629);\">,</span> <span style=\"background-color:rgba(135,206,250,0.13145263);\">luscious</span> <span style=\"background-color:rgba(135,206,250,0.13422278);\">peach</span> <span style=\"background-color:rgba(135,206,250,0.10199335);\">and</span> <span style=\"background-color:rgba(135,206,250,0.21026735);\">apricot</span> <span style=\"background-color:rgba(135,206,250,0.5202489);\">flavors</span> <span style=\"background-color:rgba(135,206,250,0.92749846);\">penetrate</span> <span style=\"background-color:rgba(135,206,250,0.49900573);\">deeply</span> <span style=\"background-color:rgba(135,206,250,1.0);\">on</span> <span style=\"background-color:rgba(135,206,250,0.18902044);\">the</span>"
      ],
      "text/plain": [
       "<IPython.core.display.HTML object>"
      ]
     },
     "metadata": {},
     "output_type": "display_data"
    },
    {
     "name": "stdout",
     "output_type": "stream",
     "text": [
      "palate:   \t98.5%\n",
      "midpalate:   \t0.92%\n",
      "finish:   \t0.41%\n",
      "long:   \t0.09%\n",
      "nose:   \t0.05%\n",
      "--------\n",
      "\n"
     ]
    },
    {
     "data": {
      "text/html": [
       "<span style=\"background-color:rgba(135,206,250,0.058808763);\">wine</span> <span style=\"background-color:rgba(135,206,250,0.07032752);\">review</span> <span style=\"background-color:rgba(135,206,250,0.54600227);\">:</span> <span style=\"background-color:rgba(135,206,250,0.9096125);\">germany</span> <span style=\"background-color:rgba(135,206,250,0.14509076);\">:</span> <span style=\"background-color:rgba(135,206,250,0.055604443);\">mosel</span> <span style=\"background-color:rgba(135,206,250,0.09660567);\">:</span> <span style=\"background-color:rgba(135,206,250,0.06267919);\">riesling</span> <span style=\"background-color:rgba(135,206,250,0.05477824);\">:</span> <span style=\"background-color:rgba(135,206,250,0.026816513);\">this</span> <span style=\"background-color:rgba(135,206,250,0.03909852);\">is</span> <span style=\"background-color:rgba(135,206,250,0.027051387);\">a</span> <span style=\"background-color:rgba(135,206,250,0.018273901);\">very</span> <span style=\"background-color:rgba(135,206,250,0.021202255);\">minerally</span> <span style=\"background-color:rgba(135,206,250,0.0128131695);\">,</span> <span style=\"background-color:rgba(135,206,250,0.019692946);\">refreshing</span> <span style=\"background-color:rgba(135,206,250,0.024525365);\">riesling</span> <span style=\"background-color:rgba(135,206,250,0.026255412);\">from</span> <span style=\"background-color:rgba(135,206,250,0.051236533);\">start</span> <span style=\"background-color:rgba(135,206,250,0.019859916);\">to</span> <span style=\"background-color:rgba(135,206,250,0.028444096);\">finish</span> <span style=\"background-color:rgba(135,206,250,0.017884877);\">in</span> <span style=\"background-color:rgba(135,206,250,0.030019615);\">this</span> <span style=\"background-color:rgba(135,206,250,0.029589452);\">dry</span> <span style=\"background-color:rgba(135,206,250,0.022589117);\">,</span> <span style=\"background-color:rgba(135,206,250,0.027986862);\">richly</span> <span style=\"background-color:rgba(135,206,250,0.03456903);\">textured</span> <span style=\"background-color:rgba(135,206,250,0.06509728);\">spätlese</span> <span style=\"background-color:rgba(135,206,250,0.19570683);\">.</span> <span style=\"background-color:rgba(135,206,250,0.0607928);\">it</span> <span style=\"background-color:rgba(135,206,250,0.01157741);\">'</span> <span style=\"background-color:rgba(135,206,250,0.1030564);\">s</span> <span style=\"background-color:rgba(135,206,250,0.0929813);\">a</span> <span style=\"background-color:rgba(135,206,250,0.062273767);\">luscious</span> <span style=\"background-color:rgba(135,206,250,0.060516715);\">,</span> <span style=\"background-color:rgba(135,206,250,0.07541584);\">luscious</span> <span style=\"background-color:rgba(135,206,250,0.088502586);\">peach</span> <span style=\"background-color:rgba(135,206,250,0.09652294);\">and</span> <span style=\"background-color:rgba(135,206,250,0.12113009);\">apricot</span> <span style=\"background-color:rgba(135,206,250,0.3005977);\">flavors</span> <span style=\"background-color:rgba(135,206,250,0.40952715);\">penetrate</span> <span style=\"background-color:rgba(135,206,250,0.169895);\">deeply</span> <span style=\"background-color:rgba(135,206,250,1.0);\">on</span> <span style=\"background-color:rgba(135,206,250,0.4072156);\">the</span> <span style=\"background-color:rgba(135,206,250,0.27469245);\">palate</span>"
      ],
      "text/plain": [
       "<IPython.core.display.HTML object>"
      ]
     },
     "metadata": {},
     "output_type": "display_data"
    },
    {
     "name": "stdout",
     "output_type": "stream",
     "text": [
      ",:   \t80.79%\n",
      ".:   \t18.28%\n",
      "and:   \t0.34%\n",
      "but:   \t0.19%\n",
      "yet:   \t0.15%\n",
      "--------\n",
      "\n"
     ]
    },
    {
     "data": {
      "text/html": [
       "<span style=\"background-color:rgba(135,206,250,0.055388708);\">wine</span> <span style=\"background-color:rgba(135,206,250,0.08821038);\">review</span> <span style=\"background-color:rgba(135,206,250,0.5118675);\">:</span> <span style=\"background-color:rgba(135,206,250,0.6081313);\">germany</span> <span style=\"background-color:rgba(135,206,250,0.14528747);\">:</span> <span style=\"background-color:rgba(135,206,250,0.13764751);\">mosel</span> <span style=\"background-color:rgba(135,206,250,0.07878453);\">:</span> <span style=\"background-color:rgba(135,206,250,0.19581552);\">riesling</span> <span style=\"background-color:rgba(135,206,250,0.08687596);\">:</span> <span style=\"background-color:rgba(135,206,250,0.06182208);\">this</span> <span style=\"background-color:rgba(135,206,250,0.06382914);\">is</span> <span style=\"background-color:rgba(135,206,250,0.019454759);\">a</span> <span style=\"background-color:rgba(135,206,250,0.0297052);\">very</span> <span style=\"background-color:rgba(135,206,250,0.049247246);\">minerally</span> <span style=\"background-color:rgba(135,206,250,0.017238911);\">,</span> <span style=\"background-color:rgba(135,206,250,0.059469048);\">refreshing</span> <span style=\"background-color:rgba(135,206,250,0.04582801);\">riesling</span> <span style=\"background-color:rgba(135,206,250,0.02790001);\">from</span> <span style=\"background-color:rgba(135,206,250,0.041708972);\">start</span> <span style=\"background-color:rgba(135,206,250,0.017312972);\">to</span> <span style=\"background-color:rgba(135,206,250,0.04797821);\">finish</span> <span style=\"background-color:rgba(135,206,250,0.01848847);\">in</span> <span style=\"background-color:rgba(135,206,250,0.043802932);\">this</span> <span style=\"background-color:rgba(135,206,250,0.058138832);\">dry</span> <span style=\"background-color:rgba(135,206,250,0.021845287);\">,</span> <span style=\"background-color:rgba(135,206,250,0.036765628);\">richly</span> <span style=\"background-color:rgba(135,206,250,0.047624934);\">textured</span> <span style=\"background-color:rgba(135,206,250,0.18203121);\">spätlese</span> <span style=\"background-color:rgba(135,206,250,0.1516622);\">.</span> <span style=\"background-color:rgba(135,206,250,0.08694334);\">it</span> <span style=\"background-color:rgba(135,206,250,0.011870767);\">'</span> <span style=\"background-color:rgba(135,206,250,0.10448672);\">s</span> <span style=\"background-color:rgba(135,206,250,0.038423352);\">a</span> <span style=\"background-color:rgba(135,206,250,0.0875552);\">luscious</span> <span style=\"background-color:rgba(135,206,250,0.042931013);\">,</span> <span style=\"background-color:rgba(135,206,250,0.10761355);\">luscious</span> <span style=\"background-color:rgba(135,206,250,0.13173844);\">peach</span> <span style=\"background-color:rgba(135,206,250,0.13523942);\">and</span> <span style=\"background-color:rgba(135,206,250,0.25024158);\">apricot</span> <span style=\"background-color:rgba(135,206,250,0.24848773);\">flavors</span> <span style=\"background-color:rgba(135,206,250,0.2626908);\">penetrate</span> <span style=\"background-color:rgba(135,206,250,0.34906894);\">deeply</span> <span style=\"background-color:rgba(135,206,250,0.41263413);\">on</span> <span style=\"background-color:rgba(135,206,250,0.4317297);\">the</span> <span style=\"background-color:rgba(135,206,250,1.0);\">palate</span> <span style=\"background-color:rgba(135,206,250,0.38261485);\">,</span>"
      ],
      "text/plain": [
       "<IPython.core.display.HTML object>"
      ]
     },
     "metadata": {},
     "output_type": "display_data"
    },
    {
     "name": "stdout",
     "output_type": "stream",
     "text": [
      "but:   \t49.33%\n",
      "finishing:   \t18.56%\n",
      "yet:   \t9.71%\n",
      "with:   \t7.77%\n",
      "accented:   \t4.41%\n",
      "--------\n",
      "\n"
     ]
    },
    {
     "data": {
      "text/html": [
       "<span style=\"background-color:rgba(135,206,250,0.12732507);\">wine</span> <span style=\"background-color:rgba(135,206,250,0.18541569);\">review</span> <span style=\"background-color:rgba(135,206,250,0.9887306);\">:</span> <span style=\"background-color:rgba(135,206,250,1.0);\">germany</span> <span style=\"background-color:rgba(135,206,250,0.40128094);\">:</span> <span style=\"background-color:rgba(135,206,250,0.22748439);\">mosel</span> <span style=\"background-color:rgba(135,206,250,0.1819869);\">:</span> <span style=\"background-color:rgba(135,206,250,0.24141702);\">riesling</span> <span style=\"background-color:rgba(135,206,250,0.15907046);\">:</span> <span style=\"background-color:rgba(135,206,250,0.06898598);\">this</span> <span style=\"background-color:rgba(135,206,250,0.07177741);\">is</span> <span style=\"background-color:rgba(135,206,250,0.036752656);\">a</span> <span style=\"background-color:rgba(135,206,250,0.03713097);\">very</span> <span style=\"background-color:rgba(135,206,250,0.040055968);\">minerally</span> <span style=\"background-color:rgba(135,206,250,0.03592054);\">,</span> <span style=\"background-color:rgba(135,206,250,0.03802523);\">refreshing</span> <span style=\"background-color:rgba(135,206,250,0.06862727);\">riesling</span> <span style=\"background-color:rgba(135,206,250,0.029293356);\">from</span> <span style=\"background-color:rgba(135,206,250,0.09258185);\">start</span> <span style=\"background-color:rgba(135,206,250,0.033918444);\">to</span> <span style=\"background-color:rgba(135,206,250,0.1433664);\">finish</span> <span style=\"background-color:rgba(135,206,250,0.018956596);\">in</span> <span style=\"background-color:rgba(135,206,250,0.04420604);\">this</span> <span style=\"background-color:rgba(135,206,250,0.037012897);\">dry</span> <span style=\"background-color:rgba(135,206,250,0.037821695);\">,</span> <span style=\"background-color:rgba(135,206,250,0.03899592);\">richly</span> <span style=\"background-color:rgba(135,206,250,0.060561437);\">textured</span> <span style=\"background-color:rgba(135,206,250,0.17618994);\">spätlese</span> <span style=\"background-color:rgba(135,206,250,0.14588358);\">.</span> <span style=\"background-color:rgba(135,206,250,0.06925367);\">it</span> <span style=\"background-color:rgba(135,206,250,0.02076488);\">'</span> <span style=\"background-color:rgba(135,206,250,0.07760776);\">s</span> <span style=\"background-color:rgba(135,206,250,0.054160535);\">a</span> <span style=\"background-color:rgba(135,206,250,0.04262298);\">luscious</span> <span style=\"background-color:rgba(135,206,250,0.065758415);\">,</span> <span style=\"background-color:rgba(135,206,250,0.048840977);\">luscious</span> <span style=\"background-color:rgba(135,206,250,0.10288427);\">peach</span> <span style=\"background-color:rgba(135,206,250,0.08456688);\">and</span> <span style=\"background-color:rgba(135,206,250,0.13936046);\">apricot</span> <span style=\"background-color:rgba(135,206,250,0.34861904);\">flavors</span> <span style=\"background-color:rgba(135,206,250,0.27866);\">penetrate</span> <span style=\"background-color:rgba(135,206,250,0.10153375);\">deeply</span> <span style=\"background-color:rgba(135,206,250,0.21616183);\">on</span> <span style=\"background-color:rgba(135,206,250,0.43094924);\">the</span> <span style=\"background-color:rgba(135,206,250,0.90728796);\">palate</span> <span style=\"background-color:rgba(135,206,250,0.9234766);\">,</span> <span style=\"background-color:rgba(135,206,250,0.38494);\">yet</span>"
      ],
      "text/plain": [
       "<IPython.core.display.HTML object>"
      ]
     },
     "metadata": {},
     "output_type": "display_data"
    },
    {
     "name": "stdout",
     "output_type": "stream",
     "text": [
      "it:   \t18.77%\n",
      "vibrantly:   \t12.44%\n",
      "finishes:   \t12.42%\n",
      "the:   \t8.53%\n",
      "deeply:   \t3.96%\n",
      "--------\n",
      "\n"
     ]
    },
    {
     "data": {
      "text/html": [
       "<span style=\"background-color:rgba(135,206,250,0.1322193);\">wine</span> <span style=\"background-color:rgba(135,206,250,0.1754274);\">review</span> <span style=\"background-color:rgba(135,206,250,1.0);\">:</span> <span style=\"background-color:rgba(135,206,250,0.37218848);\">germany</span> <span style=\"background-color:rgba(135,206,250,0.38956448);\">:</span> <span style=\"background-color:rgba(135,206,250,0.07426591);\">mosel</span> <span style=\"background-color:rgba(135,206,250,0.12575112);\">:</span> <span style=\"background-color:rgba(135,206,250,0.0873382);\">riesling</span> <span style=\"background-color:rgba(135,206,250,0.07567725);\">:</span> <span style=\"background-color:rgba(135,206,250,0.025925074);\">this</span> <span style=\"background-color:rgba(135,206,250,0.027174007);\">is</span> <span style=\"background-color:rgba(135,206,250,0.037728805);\">a</span> <span style=\"background-color:rgba(135,206,250,0.025481127);\">very</span> <span style=\"background-color:rgba(135,206,250,0.031556487);\">minerally</span> <span style=\"background-color:rgba(135,206,250,0.024695968);\">,</span> <span style=\"background-color:rgba(135,206,250,0.02506046);\">refreshing</span> <span style=\"background-color:rgba(135,206,250,0.023902355);\">riesling</span> <span style=\"background-color:rgba(135,206,250,0.03778664);\">from</span> <span style=\"background-color:rgba(135,206,250,0.03161797);\">start</span> <span style=\"background-color:rgba(135,206,250,0.032016475);\">to</span> <span style=\"background-color:rgba(135,206,250,0.026862292);\">finish</span> <span style=\"background-color:rgba(135,206,250,0.018706454);\">in</span> <span style=\"background-color:rgba(135,206,250,0.025124568);\">this</span> <span style=\"background-color:rgba(135,206,250,0.021858457);\">dry</span> <span style=\"background-color:rgba(135,206,250,0.029273037);\">,</span> <span style=\"background-color:rgba(135,206,250,0.026611611);\">richly</span> <span style=\"background-color:rgba(135,206,250,0.027014911);\">textured</span> <span style=\"background-color:rgba(135,206,250,0.032519985);\">spätlese</span> <span style=\"background-color:rgba(135,206,250,0.07577406);\">.</span> <span style=\"background-color:rgba(135,206,250,0.035347745);\">it</span> <span style=\"background-color:rgba(135,206,250,0.032347042);\">'</span> <span style=\"background-color:rgba(135,206,250,0.044422466);\">s</span> <span style=\"background-color:rgba(135,206,250,0.06427293);\">a</span> <span style=\"background-color:rgba(135,206,250,0.03269474);\">luscious</span> <span style=\"background-color:rgba(135,206,250,0.054053247);\">,</span> <span style=\"background-color:rgba(135,206,250,0.038379673);\">luscious</span> <span style=\"background-color:rgba(135,206,250,0.06459538);\">peach</span> <span style=\"background-color:rgba(135,206,250,0.06585013);\">and</span> <span style=\"background-color:rgba(135,206,250,0.06702025);\">apricot</span> <span style=\"background-color:rgba(135,206,250,0.16839744);\">flavors</span> <span style=\"background-color:rgba(135,206,250,0.1495728);\">penetrate</span> <span style=\"background-color:rgba(135,206,250,0.07631904);\">deeply</span> <span style=\"background-color:rgba(135,206,250,0.26031435);\">on</span> <span style=\"background-color:rgba(135,206,250,0.20148286);\">the</span> <span style=\"background-color:rgba(135,206,250,0.3340111);\">palate</span> <span style=\"background-color:rgba(135,206,250,0.5439288);\">,</span> <span style=\"background-color:rgba(135,206,250,0.32547006);\">yet</span> <span style=\"background-color:rgba(135,206,250,0.15670635);\">somehow</span>"
      ],
      "text/plain": [
       "<IPython.core.display.HTML object>"
      ]
     },
     "metadata": {},
     "output_type": "display_data"
    },
    {
     "name": "stdout",
     "output_type": "stream",
     "text": [
      "manages:   \t82.86%\n",
      "it:   \t5.08%\n",
      "weightless:   \t2.67%\n",
      "balanced:   \t1.21%\n",
      "reined:   \t0.74%\n",
      "--------\n",
      "\n"
     ]
    },
    {
     "data": {
      "text/html": [
       "<span style=\"background-color:rgba(135,206,250,0.070033275);\">wine</span> <span style=\"background-color:rgba(135,206,250,0.07203836);\">review</span> <span style=\"background-color:rgba(135,206,250,1.0);\">:</span> <span style=\"background-color:rgba(135,206,250,0.5915145);\">germany</span> <span style=\"background-color:rgba(135,206,250,0.45333984);\">:</span> <span style=\"background-color:rgba(135,206,250,0.11766117);\">mosel</span> <span style=\"background-color:rgba(135,206,250,0.17978226);\">:</span> <span style=\"background-color:rgba(135,206,250,0.11917468);\">riesling</span> <span style=\"background-color:rgba(135,206,250,0.08713405);\">:</span> <span style=\"background-color:rgba(135,206,250,0.028795224);\">this</span> <span style=\"background-color:rgba(135,206,250,0.021511583);\">is</span> <span style=\"background-color:rgba(135,206,250,0.013801228);\">a</span> <span style=\"background-color:rgba(135,206,250,0.013274579);\">very</span> <span style=\"background-color:rgba(135,206,250,0.02646031);\">minerally</span> <span style=\"background-color:rgba(135,206,250,0.019615462);\">,</span> <span style=\"background-color:rgba(135,206,250,0.025999328);\">refreshing</span> <span style=\"background-color:rgba(135,206,250,0.029583216);\">riesling</span> <span style=\"background-color:rgba(135,206,250,0.012853267);\">from</span> <span style=\"background-color:rgba(135,206,250,0.021244552);\">start</span> <span style=\"background-color:rgba(135,206,250,0.01752968);\">to</span> <span style=\"background-color:rgba(135,206,250,0.044487078);\">finish</span> <span style=\"background-color:rgba(135,206,250,0.014578002);\">in</span> <span style=\"background-color:rgba(135,206,250,0.019522062);\">this</span> <span style=\"background-color:rgba(135,206,250,0.026750209);\">dry</span> <span style=\"background-color:rgba(135,206,250,0.02331497);\">,</span> <span style=\"background-color:rgba(135,206,250,0.023342483);\">richly</span> <span style=\"background-color:rgba(135,206,250,0.026924089);\">textured</span> <span style=\"background-color:rgba(135,206,250,0.06767881);\">spätlese</span> <span style=\"background-color:rgba(135,206,250,0.066645235);\">.</span> <span style=\"background-color:rgba(135,206,250,0.031133147);\">it</span> <span style=\"background-color:rgba(135,206,250,0.01761968);\">'</span> <span style=\"background-color:rgba(135,206,250,0.039177403);\">s</span> <span style=\"background-color:rgba(135,206,250,0.020920347);\">a</span> <span style=\"background-color:rgba(135,206,250,0.02864799);\">luscious</span> <span style=\"background-color:rgba(135,206,250,0.036880095);\">,</span> <span style=\"background-color:rgba(135,206,250,0.031686604);\">luscious</span> <span style=\"background-color:rgba(135,206,250,0.076093055);\">peach</span> <span style=\"background-color:rgba(135,206,250,0.051284257);\">and</span> <span style=\"background-color:rgba(135,206,250,0.08095923);\">apricot</span> <span style=\"background-color:rgba(135,206,250,0.08416207);\">flavors</span> <span style=\"background-color:rgba(135,206,250,0.06561581);\">penetrate</span> <span style=\"background-color:rgba(135,206,250,0.049846087);\">deeply</span> <span style=\"background-color:rgba(135,206,250,0.063917495);\">on</span> <span style=\"background-color:rgba(135,206,250,0.071751565);\">the</span> <span style=\"background-color:rgba(135,206,250,0.15899684);\">palate</span> <span style=\"background-color:rgba(135,206,250,0.1410859);\">,</span> <span style=\"background-color:rgba(135,206,250,0.14854401);\">yet</span> <span style=\"background-color:rgba(135,206,250,0.12513962);\">somehow</span> <span style=\"background-color:rgba(135,206,250,0.25435612);\">manages</span>"
      ],
      "text/plain": [
       "<IPython.core.display.HTML object>"
      ]
     },
     "metadata": {},
     "output_type": "display_data"
    },
    {
     "name": "stdout",
     "output_type": "stream",
     "text": [
      "to:   \t99.94%\n",
      "mosel:   \t0.04%\n",
      "elegance:   \t0.01%\n",
      "that:   \t0.0%\n",
      "refreshment:   \t0.0%\n",
      "--------\n",
      "\n"
     ]
    },
    {
     "data": {
      "text/html": [
       "<span style=\"background-color:rgba(135,206,250,0.03496932);\">wine</span> <span style=\"background-color:rgba(135,206,250,0.047315545);\">review</span> <span style=\"background-color:rgba(135,206,250,0.1348124);\">:</span> <span style=\"background-color:rgba(135,206,250,0.24513173);\">germany</span> <span style=\"background-color:rgba(135,206,250,0.060128808);\">:</span> <span style=\"background-color:rgba(135,206,250,0.049786117);\">mosel</span> <span style=\"background-color:rgba(135,206,250,0.033194862);\">:</span> <span style=\"background-color:rgba(135,206,250,0.05943651);\">riesling</span> <span style=\"background-color:rgba(135,206,250,0.029228082);\">:</span> <span style=\"background-color:rgba(135,206,250,0.021856336);\">this</span> <span style=\"background-color:rgba(135,206,250,0.012332963);\">is</span> <span style=\"background-color:rgba(135,206,250,0.009669909);\">a</span> <span style=\"background-color:rgba(135,206,250,0.012448907);\">very</span> <span style=\"background-color:rgba(135,206,250,0.021767797);\">minerally</span> <span style=\"background-color:rgba(135,206,250,0.008965734);\">,</span> <span style=\"background-color:rgba(135,206,250,0.017474668);\">refreshing</span> <span style=\"background-color:rgba(135,206,250,0.016399758);\">riesling</span> <span style=\"background-color:rgba(135,206,250,0.014560845);\">from</span> <span style=\"background-color:rgba(135,206,250,0.03328265);\">start</span> <span style=\"background-color:rgba(135,206,250,0.0055892393);\">to</span> <span style=\"background-color:rgba(135,206,250,0.032252755);\">finish</span> <span style=\"background-color:rgba(135,206,250,0.004202224);\">in</span> <span style=\"background-color:rgba(135,206,250,0.016509168);\">this</span> <span style=\"background-color:rgba(135,206,250,0.011974245);\">dry</span> <span style=\"background-color:rgba(135,206,250,0.0094093755);\">,</span> <span style=\"background-color:rgba(135,206,250,0.019421615);\">richly</span> <span style=\"background-color:rgba(135,206,250,0.021657318);\">textured</span> <span style=\"background-color:rgba(135,206,250,0.0580055);\">spätlese</span> <span style=\"background-color:rgba(135,206,250,0.029647255);\">.</span> <span style=\"background-color:rgba(135,206,250,0.011264982);\">it</span> <span style=\"background-color:rgba(135,206,250,0.006093506);\">'</span> <span style=\"background-color:rgba(135,206,250,0.008398881);\">s</span> <span style=\"background-color:rgba(135,206,250,0.012158544);\">a</span> <span style=\"background-color:rgba(135,206,250,0.022072636);\">luscious</span> <span style=\"background-color:rgba(135,206,250,0.013844484);\">,</span> <span style=\"background-color:rgba(135,206,250,0.023858277);\">luscious</span> <span style=\"background-color:rgba(135,206,250,0.020900503);\">peach</span> <span style=\"background-color:rgba(135,206,250,0.012051071);\">and</span> <span style=\"background-color:rgba(135,206,250,0.020933388);\">apricot</span> <span style=\"background-color:rgba(135,206,250,0.045567412);\">flavors</span> <span style=\"background-color:rgba(135,206,250,0.055304434);\">penetrate</span> <span style=\"background-color:rgba(135,206,250,0.029518554);\">deeply</span> <span style=\"background-color:rgba(135,206,250,0.027088441);\">on</span> <span style=\"background-color:rgba(135,206,250,0.027118498);\">the</span> <span style=\"background-color:rgba(135,206,250,0.09894414);\">palate</span> <span style=\"background-color:rgba(135,206,250,0.062475476);\">,</span> <span style=\"background-color:rgba(135,206,250,0.10487886);\">yet</span> <span style=\"background-color:rgba(135,206,250,0.120025426);\">somehow</span> <span style=\"background-color:rgba(135,206,250,1.0);\">manages</span> <span style=\"background-color:rgba(135,206,250,0.04036012);\">to</span>"
      ],
      "text/plain": [
       "<IPython.core.display.HTML object>"
      ]
     },
     "metadata": {},
     "output_type": "display_data"
    },
    {
     "name": "stdout",
     "output_type": "stream",
     "text": [
      "be:   \t39.83%\n",
      "capture:   \t13.84%\n",
      "strike:   \t8.65%\n",
      "balance:   \t7.91%\n",
      "keep:   \t5.58%\n",
      "--------\n",
      "\n"
     ]
    },
    {
     "data": {
      "text/html": [
       "<span style=\"background-color:rgba(135,206,250,0.07241185);\">wine</span> <span style=\"background-color:rgba(135,206,250,0.123345524);\">review</span> <span style=\"background-color:rgba(135,206,250,0.6836091);\">:</span> <span style=\"background-color:rgba(135,206,250,0.27598342);\">germany</span> <span style=\"background-color:rgba(135,206,250,0.3163068);\">:</span> <span style=\"background-color:rgba(135,206,250,0.096159056);\">mosel</span> <span style=\"background-color:rgba(135,206,250,0.09246283);\">:</span> <span style=\"background-color:rgba(135,206,250,0.09584999);\">riesling</span> <span style=\"background-color:rgba(135,206,250,0.08350708);\">:</span> <span style=\"background-color:rgba(135,206,250,0.022445308);\">this</span> <span style=\"background-color:rgba(135,206,250,0.021782352);\">is</span> <span style=\"background-color:rgba(135,206,250,0.013312673);\">a</span> <span style=\"background-color:rgba(135,206,250,0.00909432);\">very</span> <span style=\"background-color:rgba(135,206,250,0.022445042);\">minerally</span> <span style=\"background-color:rgba(135,206,250,0.012902412);\">,</span> <span style=\"background-color:rgba(135,206,250,0.026683094);\">refreshing</span> <span style=\"background-color:rgba(135,206,250,0.020635907);\">riesling</span> <span style=\"background-color:rgba(135,206,250,0.015772171);\">from</span> <span style=\"background-color:rgba(135,206,250,0.023749463);\">start</span> <span style=\"background-color:rgba(135,206,250,0.014923593);\">to</span> <span style=\"background-color:rgba(135,206,250,0.028365646);\">finish</span> <span style=\"background-color:rgba(135,206,250,0.010362389);\">in</span> <span style=\"background-color:rgba(135,206,250,0.014751372);\">this</span> <span style=\"background-color:rgba(135,206,250,0.022041276);\">dry</span> <span style=\"background-color:rgba(135,206,250,0.015402962);\">,</span> <span style=\"background-color:rgba(135,206,250,0.014200451);\">richly</span> <span style=\"background-color:rgba(135,206,250,0.02366211);\">textured</span> <span style=\"background-color:rgba(135,206,250,0.039105628);\">spätlese</span> <span style=\"background-color:rgba(135,206,250,0.072280765);\">.</span> <span style=\"background-color:rgba(135,206,250,0.02080913);\">it</span> <span style=\"background-color:rgba(135,206,250,0.014140903);\">'</span> <span style=\"background-color:rgba(135,206,250,0.031235743);\">s</span> <span style=\"background-color:rgba(135,206,250,0.020911299);\">a</span> <span style=\"background-color:rgba(135,206,250,0.017065648);\">luscious</span> <span style=\"background-color:rgba(135,206,250,0.02400574);\">,</span> <span style=\"background-color:rgba(135,206,250,0.018556623);\">luscious</span> <span style=\"background-color:rgba(135,206,250,0.03434494);\">peach</span> <span style=\"background-color:rgba(135,206,250,0.031451162);\">and</span> <span style=\"background-color:rgba(135,206,250,0.034352865);\">apricot</span> <span style=\"background-color:rgba(135,206,250,0.075302966);\">flavors</span> <span style=\"background-color:rgba(135,206,250,0.07290737);\">penetrate</span> <span style=\"background-color:rgba(135,206,250,0.025345758);\">deeply</span> <span style=\"background-color:rgba(135,206,250,0.0641165);\">on</span> <span style=\"background-color:rgba(135,206,250,0.10732437);\">the</span> <span style=\"background-color:rgba(135,206,250,0.13309224);\">palate</span> <span style=\"background-color:rgba(135,206,250,0.11702464);\">,</span> <span style=\"background-color:rgba(135,206,250,0.10055726);\">yet</span> <span style=\"background-color:rgba(135,206,250,0.0985388);\">somehow</span> <span style=\"background-color:rgba(135,206,250,1.0);\">manages</span> <span style=\"background-color:rgba(135,206,250,0.34863);\">to</span> <span style=\"background-color:rgba(135,206,250,0.31628332);\">dazzle</span>"
      ],
      "text/plain": [
       "<IPython.core.display.HTML object>"
      ]
     },
     "metadata": {},
     "output_type": "display_data"
    },
    {
     "name": "stdout",
     "output_type": "stream",
     "text": [
      "a:   \t31.31%\n",
      "the:   \t19.97%\n",
      "and:   \t11.91%\n",
      "in:   \t7.76%\n",
      "with:   \t7.74%\n",
      "--------\n",
      "\n"
     ]
    },
    {
     "data": {
      "text/html": [
       "<span style=\"background-color:rgba(135,206,250,0.0402111);\">wine</span> <span style=\"background-color:rgba(135,206,250,0.036232978);\">review</span> <span style=\"background-color:rgba(135,206,250,0.15238973);\">:</span> <span style=\"background-color:rgba(135,206,250,0.2999601);\">germany</span> <span style=\"background-color:rgba(135,206,250,0.06692147);\">:</span> <span style=\"background-color:rgba(135,206,250,0.111658886);\">mosel</span> <span style=\"background-color:rgba(135,206,250,0.040885396);\">:</span> <span style=\"background-color:rgba(135,206,250,0.11076737);\">riesling</span> <span style=\"background-color:rgba(135,206,250,0.04731136);\">:</span> <span style=\"background-color:rgba(135,206,250,0.015161535);\">this</span> <span style=\"background-color:rgba(135,206,250,0.013030173);\">is</span> <span style=\"background-color:rgba(135,206,250,0.007841849);\">a</span> <span style=\"background-color:rgba(135,206,250,0.014095831);\">very</span> <span style=\"background-color:rgba(135,206,250,0.03565738);\">minerally</span> <span style=\"background-color:rgba(135,206,250,0.012571349);\">,</span> <span style=\"background-color:rgba(135,206,250,0.033768814);\">refreshing</span> <span style=\"background-color:rgba(135,206,250,0.028064743);\">riesling</span> <span style=\"background-color:rgba(135,206,250,0.005951723);\">from</span> <span style=\"background-color:rgba(135,206,250,0.035822645);\">start</span> <span style=\"background-color:rgba(135,206,250,0.005516801);\">to</span> <span style=\"background-color:rgba(135,206,250,0.088300794);\">finish</span> <span style=\"background-color:rgba(135,206,250,0.0038652213);\">in</span> <span style=\"background-color:rgba(135,206,250,0.00903145);\">this</span> <span style=\"background-color:rgba(135,206,250,0.025847938);\">dry</span> <span style=\"background-color:rgba(135,206,250,0.011559836);\">,</span> <span style=\"background-color:rgba(135,206,250,0.022835463);\">richly</span> <span style=\"background-color:rgba(135,206,250,0.03191103);\">textured</span> <span style=\"background-color:rgba(135,206,250,0.10223711);\">spätlese</span> <span style=\"background-color:rgba(135,206,250,0.02749095);\">.</span> <span style=\"background-color:rgba(135,206,250,0.011997127);\">it</span> <span style=\"background-color:rgba(135,206,250,0.0057436144);\">'</span> <span style=\"background-color:rgba(135,206,250,0.011858991);\">s</span> <span style=\"background-color:rgba(135,206,250,0.0082066);\">a</span> <span style=\"background-color:rgba(135,206,250,0.029943403);\">luscious</span> <span style=\"background-color:rgba(135,206,250,0.0154474145);\">,</span> <span style=\"background-color:rgba(135,206,250,0.03223845);\">luscious</span> <span style=\"background-color:rgba(135,206,250,0.034748793);\">peach</span> <span style=\"background-color:rgba(135,206,250,0.010850914);\">and</span> <span style=\"background-color:rgba(135,206,250,0.0407744);\">apricot</span> <span style=\"background-color:rgba(135,206,250,0.10276576);\">flavors</span> <span style=\"background-color:rgba(135,206,250,0.044021916);\">penetrate</span> <span style=\"background-color:rgba(135,206,250,0.03636313);\">deeply</span> <span style=\"background-color:rgba(135,206,250,0.024548749);\">on</span> <span style=\"background-color:rgba(135,206,250,0.01007102);\">the</span> <span style=\"background-color:rgba(135,206,250,0.16246104);\">palate</span> <span style=\"background-color:rgba(135,206,250,0.067900516);\">,</span> <span style=\"background-color:rgba(135,206,250,0.06081611);\">yet</span> <span style=\"background-color:rgba(135,206,250,0.08682926);\">somehow</span> <span style=\"background-color:rgba(135,206,250,0.2924721);\">manages</span> <span style=\"background-color:rgba(135,206,250,0.1590473);\">to</span> <span style=\"background-color:rgba(135,206,250,1.0);\">dazzle</span> <span style=\"background-color:rgba(135,206,250,0.07570046);\">the</span>"
      ],
      "text/plain": [
       "<IPython.core.display.HTML object>"
      ]
     },
     "metadata": {},
     "output_type": "display_data"
    },
    {
     "name": "stdout",
     "output_type": "stream",
     "text": [
      "palate:   \t79.66%\n",
      "mosel:   \t13.94%\n",
      "long:   \t1.34%\n",
      "midpalate:   \t1.05%\n",
      "unctuousness:   \t0.94%\n",
      "--------\n",
      "\n"
     ]
    },
    {
     "data": {
      "text/html": [
       "<span style=\"background-color:rgba(135,206,250,0.030291483);\">wine</span> <span style=\"background-color:rgba(135,206,250,0.03402534);\">review</span> <span style=\"background-color:rgba(135,206,250,0.2801303);\">:</span> <span style=\"background-color:rgba(135,206,250,0.51908153);\">germany</span> <span style=\"background-color:rgba(135,206,250,0.080274336);\">:</span> <span style=\"background-color:rgba(135,206,250,0.0357769);\">mosel</span> <span style=\"background-color:rgba(135,206,250,0.05876063);\">:</span> <span style=\"background-color:rgba(135,206,250,0.03797193);\">riesling</span> <span style=\"background-color:rgba(135,206,250,0.03263392);\">:</span> <span style=\"background-color:rgba(135,206,250,0.014899575);\">this</span> <span style=\"background-color:rgba(135,206,250,0.020088423);\">is</span> <span style=\"background-color:rgba(135,206,250,0.01531131);\">a</span> <span style=\"background-color:rgba(135,206,250,0.010532379);\">very</span> <span style=\"background-color:rgba(135,206,250,0.012410662);\">minerally</span> <span style=\"background-color:rgba(135,206,250,0.0069986754);\">,</span> <span style=\"background-color:rgba(135,206,250,0.011928266);\">refreshing</span> <span style=\"background-color:rgba(135,206,250,0.0132988775);\">riesling</span> <span style=\"background-color:rgba(135,206,250,0.014706966);\">from</span> <span style=\"background-color:rgba(135,206,250,0.028267924);\">start</span> <span style=\"background-color:rgba(135,206,250,0.009404526);\">to</span> <span style=\"background-color:rgba(135,206,250,0.016133823);\">finish</span> <span style=\"background-color:rgba(135,206,250,0.008255344);\">in</span> <span style=\"background-color:rgba(135,206,250,0.013316923);\">this</span> <span style=\"background-color:rgba(135,206,250,0.013977152);\">dry</span> <span style=\"background-color:rgba(135,206,250,0.010027871);\">,</span> <span style=\"background-color:rgba(135,206,250,0.012976746);\">richly</span> <span style=\"background-color:rgba(135,206,250,0.017277192);\">textured</span> <span style=\"background-color:rgba(135,206,250,0.029625319);\">spätlese</span> <span style=\"background-color:rgba(135,206,250,0.07608662);\">.</span> <span style=\"background-color:rgba(135,206,250,0.022237025);\">it</span> <span style=\"background-color:rgba(135,206,250,0.00450411);\">'</span> <span style=\"background-color:rgba(135,206,250,0.039593697);\">s</span> <span style=\"background-color:rgba(135,206,250,0.034190018);\">a</span> <span style=\"background-color:rgba(135,206,250,0.025231555);\">luscious</span> <span style=\"background-color:rgba(135,206,250,0.019745858);\">,</span> <span style=\"background-color:rgba(135,206,250,0.027912704);\">luscious</span> <span style=\"background-color:rgba(135,206,250,0.031813424);\">peach</span> <span style=\"background-color:rgba(135,206,250,0.025769394);\">and</span> <span style=\"background-color:rgba(135,206,250,0.034683377);\">apricot</span> <span style=\"background-color:rgba(135,206,250,0.09348279);\">flavors</span> <span style=\"background-color:rgba(135,206,250,0.110242434);\">penetrate</span> <span style=\"background-color:rgba(135,206,250,0.029149761);\">deeply</span> <span style=\"background-color:rgba(135,206,250,0.11378684);\">on</span> <span style=\"background-color:rgba(135,206,250,0.06299151);\">the</span> <span style=\"background-color:rgba(135,206,250,0.05104847);\">palate</span> <span style=\"background-color:rgba(135,206,250,0.076391436);\">,</span> <span style=\"background-color:rgba(135,206,250,0.122738436);\">yet</span> <span style=\"background-color:rgba(135,206,250,0.11308965);\">somehow</span> <span style=\"background-color:rgba(135,206,250,0.57022125);\">manages</span> <span style=\"background-color:rgba(135,206,250,0.25583246);\">to</span> <span style=\"background-color:rgba(135,206,250,1.0);\">dazzle</span> <span style=\"background-color:rgba(135,206,250,0.29564634);\">the</span> <span style=\"background-color:rgba(135,206,250,0.18895933);\">palate</span>"
      ],
      "text/plain": [
       "<IPython.core.display.HTML object>"
      ]
     },
     "metadata": {},
     "output_type": "display_data"
    },
    {
     "name": "stdout",
     "output_type": "stream",
     "text": [
      ".:   \t69.72%\n",
      ",:   \t16.85%\n",
      "and:   \t6.87%\n",
      "with:   \t4.43%\n",
      "that:   \t0.65%\n",
      "--------\n",
      "\n"
     ]
    },
    {
     "data": {
      "text/html": [
       "<span style=\"background-color:rgba(135,206,250,0.06597108);\">wine</span> <span style=\"background-color:rgba(135,206,250,0.03681669);\">review</span> <span style=\"background-color:rgba(135,206,250,0.7156085);\">:</span> <span style=\"background-color:rgba(135,206,250,1.0);\">germany</span> <span style=\"background-color:rgba(135,206,250,0.5133627);\">:</span> <span style=\"background-color:rgba(135,206,250,0.2333227);\">mosel</span> <span style=\"background-color:rgba(135,206,250,0.20953922);\">:</span> <span style=\"background-color:rgba(135,206,250,0.20912229);\">riesling</span> <span style=\"background-color:rgba(135,206,250,0.1049799);\">:</span> <span style=\"background-color:rgba(135,206,250,0.061575618);\">this</span> <span style=\"background-color:rgba(135,206,250,0.04013758);\">is</span> <span style=\"background-color:rgba(135,206,250,0.019725705);\">a</span> <span style=\"background-color:rgba(135,206,250,0.037713878);\">very</span> <span style=\"background-color:rgba(135,206,250,0.052188534);\">minerally</span> <span style=\"background-color:rgba(135,206,250,0.023195714);\">,</span> <span style=\"background-color:rgba(135,206,250,0.069431625);\">refreshing</span> <span style=\"background-color:rgba(135,206,250,0.04942655);\">riesling</span> <span style=\"background-color:rgba(135,206,250,0.01730834);\">from</span> <span style=\"background-color:rgba(135,206,250,0.064147584);\">start</span> <span style=\"background-color:rgba(135,206,250,0.012385348);\">to</span> <span style=\"background-color:rgba(135,206,250,0.1809077);\">finish</span> <span style=\"background-color:rgba(135,206,250,0.0114097735);\">in</span> <span style=\"background-color:rgba(135,206,250,0.03462934);\">this</span> <span style=\"background-color:rgba(135,206,250,0.039375514);\">dry</span> <span style=\"background-color:rgba(135,206,250,0.01960509);\">,</span> <span style=\"background-color:rgba(135,206,250,0.041742794);\">richly</span> <span style=\"background-color:rgba(135,206,250,0.058479287);\">textured</span> <span style=\"background-color:rgba(135,206,250,0.16264154);\">spätlese</span> <span style=\"background-color:rgba(135,206,250,0.053976204);\">.</span> <span style=\"background-color:rgba(135,206,250,0.027730871);\">it</span> <span style=\"background-color:rgba(135,206,250,0.0075912834);\">'</span> <span style=\"background-color:rgba(135,206,250,0.030422596);\">s</span> <span style=\"background-color:rgba(135,206,250,0.017937379);\">a</span> <span style=\"background-color:rgba(135,206,250,0.062344357);\">luscious</span> <span style=\"background-color:rgba(135,206,250,0.026922757);\">,</span> <span style=\"background-color:rgba(135,206,250,0.06368621);\">luscious</span> <span style=\"background-color:rgba(135,206,250,0.05236361);\">peach</span> <span style=\"background-color:rgba(135,206,250,0.022849245);\">and</span> <span style=\"background-color:rgba(135,206,250,0.059434023);\">apricot</span> <span style=\"background-color:rgba(135,206,250,0.13452592);\">flavors</span> <span style=\"background-color:rgba(135,206,250,0.07370504);\">penetrate</span> <span style=\"background-color:rgba(135,206,250,0.0459247);\">deeply</span> <span style=\"background-color:rgba(135,206,250,0.024023797);\">on</span> <span style=\"background-color:rgba(135,206,250,0.023370614);\">the</span> <span style=\"background-color:rgba(135,206,250,0.14873208);\">palate</span> <span style=\"background-color:rgba(135,206,250,0.044906437);\">,</span> <span style=\"background-color:rgba(135,206,250,0.074383676);\">yet</span> <span style=\"background-color:rgba(135,206,250,0.093054116);\">somehow</span> <span style=\"background-color:rgba(135,206,250,0.0995684);\">manages</span> <span style=\"background-color:rgba(135,206,250,0.06386899);\">to</span> <span style=\"background-color:rgba(135,206,250,0.19914764);\">dazzle</span> <span style=\"background-color:rgba(135,206,250,0.14169334);\">the</span> <span style=\"background-color:rgba(135,206,250,0.34310633);\">palate</span> <span style=\"background-color:rgba(135,206,250,0.37177348);\">.</span>"
      ],
      "text/plain": [
       "<IPython.core.display.HTML object>"
      ]
     },
     "metadata": {},
     "output_type": "display_data"
    },
    {
     "name": "stdout",
     "output_type": "stream",
     "text": [
      "it:   \t63.6%\n",
      ":   \t20.9%\n",
      "drink:   \t7.09%\n",
      "a:   \t3.07%\n",
      "the:   \t1.8%\n",
      "--------\n",
      "\n"
     ]
    },
    {
     "data": {
      "text/html": [
       "<span style=\"background-color:rgba(135,206,250,0.12476928);\">wine</span> <span style=\"background-color:rgba(135,206,250,0.11329892);\">review</span> <span style=\"background-color:rgba(135,206,250,0.78248584);\">:</span> <span style=\"background-color:rgba(135,206,250,1.0);\">germany</span> <span style=\"background-color:rgba(135,206,250,0.48684132);\">:</span> <span style=\"background-color:rgba(135,206,250,0.24998112);\">mosel</span> <span style=\"background-color:rgba(135,206,250,0.27067682);\">:</span> <span style=\"background-color:rgba(135,206,250,0.3316337);\">riesling</span> <span style=\"background-color:rgba(135,206,250,0.14003234);\">:</span> <span style=\"background-color:rgba(135,206,250,0.07508907);\">this</span> <span style=\"background-color:rgba(135,206,250,0.060887102);\">is</span> <span style=\"background-color:rgba(135,206,250,0.032400183);\">a</span> <span style=\"background-color:rgba(135,206,250,0.060037944);\">very</span> <span style=\"background-color:rgba(135,206,250,0.100917816);\">minerally</span> <span style=\"background-color:rgba(135,206,250,0.04101993);\">,</span> <span style=\"background-color:rgba(135,206,250,0.09639501);\">refreshing</span> <span style=\"background-color:rgba(135,206,250,0.079335645);\">riesling</span> <span style=\"background-color:rgba(135,206,250,0.022508657);\">from</span> <span style=\"background-color:rgba(135,206,250,0.058042213);\">start</span> <span style=\"background-color:rgba(135,206,250,0.023755075);\">to</span> <span style=\"background-color:rgba(135,206,250,0.083828);\">finish</span> <span style=\"background-color:rgba(135,206,250,0.017625794);\">in</span> <span style=\"background-color:rgba(135,206,250,0.0390681);\">this</span> <span style=\"background-color:rgba(135,206,250,0.0691843);\">dry</span> <span style=\"background-color:rgba(135,206,250,0.03523496);\">,</span> <span style=\"background-color:rgba(135,206,250,0.069539845);\">richly</span> <span style=\"background-color:rgba(135,206,250,0.06488709);\">textured</span> <span style=\"background-color:rgba(135,206,250,0.19251704);\">spätlese</span> <span style=\"background-color:rgba(135,206,250,0.07368914);\">.</span> <span style=\"background-color:rgba(135,206,250,0.03027447);\">it</span> <span style=\"background-color:rgba(135,206,250,0.041799508);\">'</span> <span style=\"background-color:rgba(135,206,250,0.05079576);\">s</span> <span style=\"background-color:rgba(135,206,250,0.02062068);\">a</span> <span style=\"background-color:rgba(135,206,250,0.051123094);\">luscious</span> <span style=\"background-color:rgba(135,206,250,0.037666067);\">,</span> <span style=\"background-color:rgba(135,206,250,0.053988896);\">luscious</span> <span style=\"background-color:rgba(135,206,250,0.07582453);\">peach</span> <span style=\"background-color:rgba(135,206,250,0.042272277);\">and</span> <span style=\"background-color:rgba(135,206,250,0.058477838);\">apricot</span> <span style=\"background-color:rgba(135,206,250,0.06400677);\">flavors</span> <span style=\"background-color:rgba(135,206,250,0.056747418);\">penetrate</span> <span style=\"background-color:rgba(135,206,250,0.10566426);\">deeply</span> <span style=\"background-color:rgba(135,206,250,0.050334528);\">on</span> <span style=\"background-color:rgba(135,206,250,0.05186979);\">the</span> <span style=\"background-color:rgba(135,206,250,0.1424973);\">palate</span> <span style=\"background-color:rgba(135,206,250,0.08727299);\">,</span> <span style=\"background-color:rgba(135,206,250,0.180635);\">yet</span> <span style=\"background-color:rgba(135,206,250,0.14705335);\">somehow</span> <span style=\"background-color:rgba(135,206,250,0.42108783);\">manages</span> <span style=\"background-color:rgba(135,206,250,0.14070539);\">to</span> <span style=\"background-color:rgba(135,206,250,0.15842837);\">dazzle</span> <span style=\"background-color:rgba(135,206,250,0.23255786);\">the</span> <span style=\"background-color:rgba(135,206,250,0.41752023);\">palate</span> <span style=\"background-color:rgba(135,206,250,0.91593665);\">.</span> <span style=\"background-color:rgba(135,206,250,0.20519179);\">drink</span>"
      ],
      "text/plain": [
       "<IPython.core.display.HTML object>"
      ]
     },
     "metadata": {},
     "output_type": "display_data"
    },
    {
     "name": "stdout",
     "output_type": "stream",
     "text": [
      "now:   \t78.28%\n",
      "now–2016:   \t10.35%\n",
      "now–2025:   \t3.92%\n",
      "now–2030:   \t2.39%\n",
      "after:   \t0.84%\n",
      "--------\n",
      "\n"
     ]
    },
    {
     "data": {
      "text/html": [
       "<span style=\"background-color:rgba(135,206,250,0.076225735);\">wine</span> <span style=\"background-color:rgba(135,206,250,0.105389334);\">review</span> <span style=\"background-color:rgba(135,206,250,0.29839858);\">:</span> <span style=\"background-color:rgba(135,206,250,0.45650396);\">germany</span> <span style=\"background-color:rgba(135,206,250,0.16352953);\">:</span> <span style=\"background-color:rgba(135,206,250,0.13545386);\">mosel</span> <span style=\"background-color:rgba(135,206,250,0.10919561);\">:</span> <span style=\"background-color:rgba(135,206,250,0.12974286);\">riesling</span> <span style=\"background-color:rgba(135,206,250,0.10074232);\">:</span> <span style=\"background-color:rgba(135,206,250,0.031760532);\">this</span> <span style=\"background-color:rgba(135,206,250,0.029393269);\">is</span> <span style=\"background-color:rgba(135,206,250,0.026337292);\">a</span> <span style=\"background-color:rgba(135,206,250,0.024971485);\">very</span> <span style=\"background-color:rgba(135,206,250,0.07343611);\">minerally</span> <span style=\"background-color:rgba(135,206,250,0.018713824);\">,</span> <span style=\"background-color:rgba(135,206,250,0.10968171);\">refreshing</span> <span style=\"background-color:rgba(135,206,250,0.030048348);\">riesling</span> <span style=\"background-color:rgba(135,206,250,0.011553852);\">from</span> <span style=\"background-color:rgba(135,206,250,0.05937715);\">start</span> <span style=\"background-color:rgba(135,206,250,0.011104997);\">to</span> <span style=\"background-color:rgba(135,206,250,0.04878814);\">finish</span> <span style=\"background-color:rgba(135,206,250,0.008874755);\">in</span> <span style=\"background-color:rgba(135,206,250,0.015708392);\">this</span> <span style=\"background-color:rgba(135,206,250,0.041583803);\">dry</span> <span style=\"background-color:rgba(135,206,250,0.016319767);\">,</span> <span style=\"background-color:rgba(135,206,250,0.03586645);\">richly</span> <span style=\"background-color:rgba(135,206,250,0.058716968);\">textured</span> <span style=\"background-color:rgba(135,206,250,0.07493918);\">spätlese</span> <span style=\"background-color:rgba(135,206,250,0.051563587);\">.</span> <span style=\"background-color:rgba(135,206,250,0.012294247);\">it</span> <span style=\"background-color:rgba(135,206,250,0.010596704);\">'</span> <span style=\"background-color:rgba(135,206,250,0.025045425);\">s</span> <span style=\"background-color:rgba(135,206,250,0.02473933);\">a</span> <span style=\"background-color:rgba(135,206,250,0.05639753);\">luscious</span> <span style=\"background-color:rgba(135,206,250,0.019849598);\">,</span> <span style=\"background-color:rgba(135,206,250,0.054104086);\">luscious</span> <span style=\"background-color:rgba(135,206,250,0.03194433);\">peach</span> <span style=\"background-color:rgba(135,206,250,0.019073725);\">and</span> <span style=\"background-color:rgba(135,206,250,0.03518386);\">apricot</span> <span style=\"background-color:rgba(135,206,250,0.08690883);\">flavors</span> <span style=\"background-color:rgba(135,206,250,0.080286235);\">penetrate</span> <span style=\"background-color:rgba(135,206,250,0.030067593);\">deeply</span> <span style=\"background-color:rgba(135,206,250,0.025960395);\">on</span> <span style=\"background-color:rgba(135,206,250,0.019753039);\">the</span> <span style=\"background-color:rgba(135,206,250,0.062231697);\">palate</span> <span style=\"background-color:rgba(135,206,250,0.049855907);\">,</span> <span style=\"background-color:rgba(135,206,250,0.05942037);\">yet</span> <span style=\"background-color:rgba(135,206,250,0.059713237);\">somehow</span> <span style=\"background-color:rgba(135,206,250,0.14404935);\">manages</span> <span style=\"background-color:rgba(135,206,250,0.13745797);\">to</span> <span style=\"background-color:rgba(135,206,250,0.20063792);\">dazzle</span> <span style=\"background-color:rgba(135,206,250,0.11694987);\">the</span> <span style=\"background-color:rgba(135,206,250,0.18084559);\">palate</span> <span style=\"background-color:rgba(135,206,250,0.6460882);\">.</span> <span style=\"background-color:rgba(135,206,250,1.0);\">drink</span> <span style=\"background-color:rgba(135,206,250,0.18558311);\">now</span>"
      ],
      "text/plain": [
       "<IPython.core.display.HTML object>"
      ]
     },
     "metadata": {},
     "output_type": "display_data"
    },
    {
     "name": "stdout",
     "output_type": "stream",
     "text": [
      "through:   \t98.91%\n",
      "or:   \t0.65%\n",
      ".:   \t0.19%\n",
      "and:   \t0.14%\n",
      "for:   \t0.04%\n",
      "--------\n",
      "\n"
     ]
    },
    {
     "data": {
      "text/html": [
       "<span style=\"background-color:rgba(135,206,250,0.09393748);\">wine</span> <span style=\"background-color:rgba(135,206,250,0.10132648);\">review</span> <span style=\"background-color:rgba(135,206,250,0.66480845);\">:</span> <span style=\"background-color:rgba(135,206,250,0.62175906);\">germany</span> <span style=\"background-color:rgba(135,206,250,0.54339665);\">:</span> <span style=\"background-color:rgba(135,206,250,0.2374472);\">mosel</span> <span style=\"background-color:rgba(135,206,250,0.25252053);\">:</span> <span style=\"background-color:rgba(135,206,250,0.14919251);\">riesling</span> <span style=\"background-color:rgba(135,206,250,0.13340388);\">:</span> <span style=\"background-color:rgba(135,206,250,0.04796975);\">this</span> <span style=\"background-color:rgba(135,206,250,0.032254994);\">is</span> <span style=\"background-color:rgba(135,206,250,0.022621876);\">a</span> <span style=\"background-color:rgba(135,206,250,0.04068005);\">very</span> <span style=\"background-color:rgba(135,206,250,0.05740084);\">minerally</span> <span style=\"background-color:rgba(135,206,250,0.029705271);\">,</span> <span style=\"background-color:rgba(135,206,250,0.059010867);\">refreshing</span> <span style=\"background-color:rgba(135,206,250,0.045437958);\">riesling</span> <span style=\"background-color:rgba(135,206,250,0.020992666);\">from</span> <span style=\"background-color:rgba(135,206,250,0.049329977);\">start</span> <span style=\"background-color:rgba(135,206,250,0.018438775);\">to</span> <span style=\"background-color:rgba(135,206,250,0.10667628);\">finish</span> <span style=\"background-color:rgba(135,206,250,0.01660272);\">in</span> <span style=\"background-color:rgba(135,206,250,0.031620033);\">this</span> <span style=\"background-color:rgba(135,206,250,0.039003916);\">dry</span> <span style=\"background-color:rgba(135,206,250,0.025378067);\">,</span> <span style=\"background-color:rgba(135,206,250,0.03628724);\">richly</span> <span style=\"background-color:rgba(135,206,250,0.050601326);\">textured</span> <span style=\"background-color:rgba(135,206,250,0.112077855);\">spätlese</span> <span style=\"background-color:rgba(135,206,250,0.06240026);\">.</span> <span style=\"background-color:rgba(135,206,250,0.02547065);\">it</span> <span style=\"background-color:rgba(135,206,250,0.019253049);\">'</span> <span style=\"background-color:rgba(135,206,250,0.039143242);\">s</span> <span style=\"background-color:rgba(135,206,250,0.019683762);\">a</span> <span style=\"background-color:rgba(135,206,250,0.039142326);\">luscious</span> <span style=\"background-color:rgba(135,206,250,0.034584105);\">,</span> <span style=\"background-color:rgba(135,206,250,0.041553196);\">luscious</span> <span style=\"background-color:rgba(135,206,250,0.069798924);\">peach</span> <span style=\"background-color:rgba(135,206,250,0.039389163);\">and</span> <span style=\"background-color:rgba(135,206,250,0.05479729);\">apricot</span> <span style=\"background-color:rgba(135,206,250,0.06654813);\">flavors</span> <span style=\"background-color:rgba(135,206,250,0.0671235);\">penetrate</span> <span style=\"background-color:rgba(135,206,250,0.044153932);\">deeply</span> <span style=\"background-color:rgba(135,206,250,0.027584018);\">on</span> <span style=\"background-color:rgba(135,206,250,0.038748384);\">the</span> <span style=\"background-color:rgba(135,206,250,0.12300001);\">palate</span> <span style=\"background-color:rgba(135,206,250,0.06094965);\">,</span> <span style=\"background-color:rgba(135,206,250,0.121054284);\">yet</span> <span style=\"background-color:rgba(135,206,250,0.103979535);\">somehow</span> <span style=\"background-color:rgba(135,206,250,0.19543505);\">manages</span> <span style=\"background-color:rgba(135,206,250,0.06507313);\">to</span> <span style=\"background-color:rgba(135,206,250,0.09165762);\">dazzle</span> <span style=\"background-color:rgba(135,206,250,0.13881753);\">the</span> <span style=\"background-color:rgba(135,206,250,0.27615893);\">palate</span> <span style=\"background-color:rgba(135,206,250,0.37527892);\">.</span> <span style=\"background-color:rgba(135,206,250,0.6186351);\">drink</span> <span style=\"background-color:rgba(135,206,250,1.0);\">now</span> <span style=\"background-color:rgba(135,206,250,0.22420152);\">through</span>"
      ],
      "text/plain": [
       "<IPython.core.display.HTML object>"
      ]
     },
     "metadata": {},
     "output_type": "display_data"
    },
    {
     "name": "stdout",
     "output_type": "stream",
     "text": [
      "2020:   \t48.0%\n",
      "2025:   \t42.97%\n",
      "2018:   \t4.02%\n",
      "2021:   \t1.28%\n",
      "2019:   \t1.05%\n",
      "--------\n",
      "\n"
     ]
    },
    {
     "data": {
      "text/html": [
       "<span style=\"background-color:rgba(135,206,250,0.06454027);\">wine</span> <span style=\"background-color:rgba(135,206,250,0.11470689);\">review</span> <span style=\"background-color:rgba(135,206,250,0.41002306);\">:</span> <span style=\"background-color:rgba(135,206,250,0.262592);\">germany</span> <span style=\"background-color:rgba(135,206,250,0.17970234);\">:</span> <span style=\"background-color:rgba(135,206,250,0.081847124);\">mosel</span> <span style=\"background-color:rgba(135,206,250,0.10523167);\">:</span> <span style=\"background-color:rgba(135,206,250,0.11219531);\">riesling</span> <span style=\"background-color:rgba(135,206,250,0.10540649);\">:</span> <span style=\"background-color:rgba(135,206,250,0.047167275);\">this</span> <span style=\"background-color:rgba(135,206,250,0.0389798);\">is</span> <span style=\"background-color:rgba(135,206,250,0.027306244);\">a</span> <span style=\"background-color:rgba(135,206,250,0.009940801);\">very</span> <span style=\"background-color:rgba(135,206,250,0.020183148);\">minerally</span> <span style=\"background-color:rgba(135,206,250,0.019220272);\">,</span> <span style=\"background-color:rgba(135,206,250,0.021861667);\">refreshing</span> <span style=\"background-color:rgba(135,206,250,0.020279238);\">riesling</span> <span style=\"background-color:rgba(135,206,250,0.024847016);\">from</span> <span style=\"background-color:rgba(135,206,250,0.031245798);\">start</span> <span style=\"background-color:rgba(135,206,250,0.017660104);\">to</span> <span style=\"background-color:rgba(135,206,250,0.03851039);\">finish</span> <span style=\"background-color:rgba(135,206,250,0.011826439);\">in</span> <span style=\"background-color:rgba(135,206,250,0.019090936);\">this</span> <span style=\"background-color:rgba(135,206,250,0.013981909);\">dry</span> <span style=\"background-color:rgba(135,206,250,0.017908998);\">,</span> <span style=\"background-color:rgba(135,206,250,0.014514178);\">richly</span> <span style=\"background-color:rgba(135,206,250,0.02409182);\">textured</span> <span style=\"background-color:rgba(135,206,250,0.031555023);\">spätlese</span> <span style=\"background-color:rgba(135,206,250,0.05942335);\">.</span> <span style=\"background-color:rgba(135,206,250,0.024305077);\">it</span> <span style=\"background-color:rgba(135,206,250,0.011262911);\">'</span> <span style=\"background-color:rgba(135,206,250,0.020831807);\">s</span> <span style=\"background-color:rgba(135,206,250,0.03115756);\">a</span> <span style=\"background-color:rgba(135,206,250,0.016196193);\">luscious</span> <span style=\"background-color:rgba(135,206,250,0.024943516);\">,</span> <span style=\"background-color:rgba(135,206,250,0.016075466);\">luscious</span> <span style=\"background-color:rgba(135,206,250,0.02722683);\">peach</span> <span style=\"background-color:rgba(135,206,250,0.025654988);\">and</span> <span style=\"background-color:rgba(135,206,250,0.026982777);\">apricot</span> <span style=\"background-color:rgba(135,206,250,0.06787249);\">flavors</span> <span style=\"background-color:rgba(135,206,250,0.07102004);\">penetrate</span> <span style=\"background-color:rgba(135,206,250,0.014301334);\">deeply</span> <span style=\"background-color:rgba(135,206,250,0.035178933);\">on</span> <span style=\"background-color:rgba(135,206,250,0.042132873);\">the</span> <span style=\"background-color:rgba(135,206,250,0.06560896);\">palate</span> <span style=\"background-color:rgba(135,206,250,0.049303684);\">,</span> <span style=\"background-color:rgba(135,206,250,0.042020336);\">yet</span> <span style=\"background-color:rgba(135,206,250,0.05679251);\">somehow</span> <span style=\"background-color:rgba(135,206,250,0.1342391);\">manages</span> <span style=\"background-color:rgba(135,206,250,0.090463676);\">to</span> <span style=\"background-color:rgba(135,206,250,0.11192072);\">dazzle</span> <span style=\"background-color:rgba(135,206,250,0.1423831);\">the</span> <span style=\"background-color:rgba(135,206,250,0.18632987);\">palate</span> <span style=\"background-color:rgba(135,206,250,0.4503213);\">.</span> <span style=\"background-color:rgba(135,206,250,0.53336734);\">drink</span> <span style=\"background-color:rgba(135,206,250,0.23711126);\">now</span> <span style=\"background-color:rgba(135,206,250,1.0);\">through</span> <span style=\"background-color:rgba(135,206,250,0.41229546);\">2025</span>"
      ],
      "text/plain": [
       "<IPython.core.display.HTML object>"
      ]
     },
     "metadata": {},
     "output_type": "display_data"
    },
    {
     "name": "stdout",
     "output_type": "stream",
     "text": [
      ".:   \t97.76%\n",
      "or:   \t2.09%\n",
      ",:   \t0.09%\n",
      "and:   \t0.06%\n",
      "to:   \t0.0%\n",
      "--------\n",
      "\n"
     ]
    },
    {
     "data": {
      "text/html": [
       "<span style=\"background-color:rgba(135,206,250,0.035326354);\">wine</span> <span style=\"background-color:rgba(135,206,250,0.021424377);\">review</span> <span style=\"background-color:rgba(135,206,250,0.22437643);\">:</span> <span style=\"background-color:rgba(135,206,250,0.37859967);\">germany</span> <span style=\"background-color:rgba(135,206,250,0.19749308);\">:</span> <span style=\"background-color:rgba(135,206,250,0.123472504);\">mosel</span> <span style=\"background-color:rgba(135,206,250,0.09638733);\">:</span> <span style=\"background-color:rgba(135,206,250,0.11737593);\">riesling</span> <span style=\"background-color:rgba(135,206,250,0.06010797);\">:</span> <span style=\"background-color:rgba(135,206,250,0.036571056);\">this</span> <span style=\"background-color:rgba(135,206,250,0.022672242);\">is</span> <span style=\"background-color:rgba(135,206,250,0.011065663);\">a</span> <span style=\"background-color:rgba(135,206,250,0.021047818);\">very</span> <span style=\"background-color:rgba(135,206,250,0.029577447);\">minerally</span> <span style=\"background-color:rgba(135,206,250,0.013243304);\">,</span> <span style=\"background-color:rgba(135,206,250,0.04045929);\">refreshing</span> <span style=\"background-color:rgba(135,206,250,0.030199302);\">riesling</span> <span style=\"background-color:rgba(135,206,250,0.00958632);\">from</span> <span style=\"background-color:rgba(135,206,250,0.038653526);\">start</span> <span style=\"background-color:rgba(135,206,250,0.0070184907);\">to</span> <span style=\"background-color:rgba(135,206,250,0.100333616);\">finish</span> <span style=\"background-color:rgba(135,206,250,0.006059425);\">in</span> <span style=\"background-color:rgba(135,206,250,0.018171115);\">this</span> <span style=\"background-color:rgba(135,206,250,0.02021632);\">dry</span> <span style=\"background-color:rgba(135,206,250,0.0100630075);\">,</span> <span style=\"background-color:rgba(135,206,250,0.02139033);\">richly</span> <span style=\"background-color:rgba(135,206,250,0.03107266);\">textured</span> <span style=\"background-color:rgba(135,206,250,0.08822487);\">spätlese</span> <span style=\"background-color:rgba(135,206,250,0.025846781);\">.</span> <span style=\"background-color:rgba(135,206,250,0.0124683995);\">it</span> <span style=\"background-color:rgba(135,206,250,0.0037611756);\">'</span> <span style=\"background-color:rgba(135,206,250,0.013881309);\">s</span> <span style=\"background-color:rgba(135,206,250,0.008293104);\">a</span> <span style=\"background-color:rgba(135,206,250,0.0281368);\">luscious</span> <span style=\"background-color:rgba(135,206,250,0.012536424);\">,</span> <span style=\"background-color:rgba(135,206,250,0.028145831);\">luscious</span> <span style=\"background-color:rgba(135,206,250,0.02582034);\">peach</span> <span style=\"background-color:rgba(135,206,250,0.010643804);\">and</span> <span style=\"background-color:rgba(135,206,250,0.027374947);\">apricot</span> <span style=\"background-color:rgba(135,206,250,0.058854457);\">flavors</span> <span style=\"background-color:rgba(135,206,250,0.035367202);\">penetrate</span> <span style=\"background-color:rgba(135,206,250,0.020302009);\">deeply</span> <span style=\"background-color:rgba(135,206,250,0.009026304);\">on</span> <span style=\"background-color:rgba(135,206,250,0.00863611);\">the</span> <span style=\"background-color:rgba(135,206,250,0.066256866);\">palate</span> <span style=\"background-color:rgba(135,206,250,0.016767135);\">,</span> <span style=\"background-color:rgba(135,206,250,0.027955484);\">yet</span> <span style=\"background-color:rgba(135,206,250,0.03762994);\">somehow</span> <span style=\"background-color:rgba(135,206,250,0.023376515);\">manages</span> <span style=\"background-color:rgba(135,206,250,0.014809712);\">to</span> <span style=\"background-color:rgba(135,206,250,0.038397107);\">dazzle</span> <span style=\"background-color:rgba(135,206,250,0.017266333);\">the</span> <span style=\"background-color:rgba(135,206,250,0.081907);\">palate</span> <span style=\"background-color:rgba(135,206,250,0.05848714);\">.</span> <span style=\"background-color:rgba(135,206,250,0.23530452);\">drink</span> <span style=\"background-color:rgba(135,206,250,0.18352222);\">now</span> <span style=\"background-color:rgba(135,206,250,0.051080123);\">through</span> <span style=\"background-color:rgba(135,206,250,1.0);\">2025</span> <span style=\"background-color:rgba(135,206,250,0.16303225);\">.</span>"
      ],
      "text/plain": [
       "<IPython.core.display.HTML object>"
      ]
     },
     "metadata": {},
     "output_type": "display_data"
    },
    {
     "name": "stdout",
     "output_type": "stream",
     "text": [
      ":   \t100.0%\n",
      "imported:   \t0.0%\n",
      ".:   \t0.0%\n",
      "through:   \t0.0%\n",
      "[UNK]:   \t0.0%\n",
      "--------\n",
      "\n"
     ]
    }
   ],
   "source": [
    "info = text_generator.generate(\n",
    "    \"wine review : germany\", max_tokens=80, temperature=0.5\n",
    ")\n",
    "print_probs(info, vocab)"
   ]
  }
 ],
 "metadata": {
  "kernelspec": {
   "display_name": "Python 3 (ipykernel)",
   "language": "python",
   "name": "python3"
  },
  "language_info": {
   "codemirror_mode": {
    "name": "ipython",
    "version": 3
   },
   "file_extension": ".py",
   "mimetype": "text/x-python",
   "name": "python",
   "nbconvert_exporter": "python",
   "pygments_lexer": "ipython3",
   "version": "3.10.12"
  },
  "vscode": {
   "interpreter": {
    "hash": "31f2aee4e71d21fbe5cf8b01ff0e069b9275f58929596ceb00d14d90e3e16cd6"
   }
  }
 },
 "nbformat": 4,
 "nbformat_minor": 5
}
